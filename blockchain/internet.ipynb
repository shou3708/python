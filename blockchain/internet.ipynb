{
 "cells": [
  {
   "cell_type": "code",
   "execution_count": 1,
   "metadata": {
    "scrolled": true
   },
   "outputs": [],
   "source": [
    "import socket\n",
    "import threading\n",
    "\n",
    "NODE_LIST = []\n",
    "\n",
    "class Node (threading.Thread):\n",
    "    def __init__(self,name,port,host = \"localhost\"):\n",
    "        threading. Thread.__init__(self,name = name)\n",
    "        self.host = host\n",
    "        self.port = port\n",
    "        self.name = name\n",
    "        self.wallet = Wallet()\n",
    "        self.blockchain = None\n",
    "    def run(self):\n",
    "        \n",
    "        self.init_blockchain()\n",
    "        \n",
    "        sock = socket.socket(socket.AF_INET, socket.SOCK_STREAM)\n",
    "        sock.bind((self.host, self.port))\n",
    "        NODE_LIST.append({\n",
    "            \"name\":self.name,\n",
    "            \"host\":self.host,\n",
    "            \"port\":self.port\n",
    "        })\n",
    "        sock.listen(10)\n",
    "        print(self.name,\"運行中\")\n",
    "        while True:\n",
    "            connection,address = sock.accept()\n",
    "            try:\n",
    "                print(self.name,\"處裡請求\")\n",
    "                self.handle_request(connection)\n",
    "            except socket.timeout:\n",
    "                print(\"out of time\")\n",
    "            except Exception as e:\n",
    "                print(e,)\n",
    "            connection.close()\n",
    "    def init_blockchain(self):\n",
    "        if NODE_LIST:\n",
    "            host = NODE_LIST[0]['host']\n",
    "            port = NODE_LIST[0]['port']\n",
    "            name = NODE_LIST[0]['name']\n",
    "            print(self.name , \"發送初始化請求 %s\" %(name))\n",
    "            sock = socket.socket(socket.AP_INET, socket.SOCK_STREAM)\n",
    "            sock.connect((host, port))\n",
    "            sock.send(pickle,dumps('INIT'))\n",
    "            data = []\n",
    "            while True:\n",
    "                buf = sock.recv(PER_BYTE)\n",
    "                if not buf:\n",
    "                    break\n",
    "                data.append(buf)\n",
    "                if len(buf) < PER_BYTE:\n",
    "                    break\n",
    "            sock.close()\n",
    "            \n",
    "            self.blockchain = pickle.loads(b''.join(data))\n",
    "            print(self.name, \"初始化完成.\")\n",
    "        else:\n",
    "            block = Block(transaction=[],prev_hash='')\n",
    "            w = POW(block,self.wallet)\n",
    "            genesis_block = w.mine()\n",
    "            self.blockchain = BlockChain()\n",
    "            self.blockchain.add_block(genesis_block)\n",
    "            print(\"生成創世區塊\")\n",
    "    def handle_request(self, connection):\n",
    "        data = []\n",
    "        while True:\n",
    "            buf = connection.recv(PER_BYTE)\n",
    "            if not buf:\n",
    "                break\n",
    "            data.append(buf)\n",
    "            \n",
    "            if len(buf) < PER_BYTE:\n",
    "                break\n",
    "        t = pickle.loads(b''.join(data))\n",
    "        if isinstance(t,Transaction):\n",
    "            print(\"處裡交易請求..\")\n",
    "            if verify_sign(t.pubkey,\n",
    "                          str(t),\n",
    "                          t.signature):\n",
    "                \n",
    "                print(self.name, \"驗證交易成功\")\n",
    "                new_block = Block(transactions = [t], prev_hash = '')\n",
    "                print(self.name,\"生成新的區塊..\")\n",
    "                w = POW(new_block, self.wallet)\n",
    "                block = w.mine()\n",
    "                print(self.name,\"將新區塊加入區塊鏈中\")\n",
    "                self.blockchain.add_block(block)\n",
    "                print(self.name, \"將新區塊廣播到網路中\")\n",
    "                self.broadcast_new_block(block)\n",
    "            else:\n",
    "                print(self.name, \"交易驗證失敗\")\n",
    "        elif isinstance(t,block):\n",
    "            print(\"處理新區塊請求...\")\n",
    "            if self.verify_block(t):\n",
    "                print(self.name,\"區塊驗證成功\")\n",
    "                self.blockchain.add.block(t)\n",
    "                print(self.name,\"添加成功\")\n",
    "            else:\n",
    "                print(self.name,\"區塊驗證失敗!\")\n",
    "        else:\n",
    "            connection.send(pickle.dumps(self.blockchain))\n",
    "    def broadcast_new_block(self, block):\n",
    "        for node in NODE_LIST:\n",
    "            host = node['host']\n",
    "            port = node[\"port\"]\n",
    "            \n",
    "            if host == self.host and port == self.port:\n",
    "                print(self.name,\"忽略自身節點\")\n",
    "            else:\n",
    "                print(self.name,\"broadcast to %s:%s\" %(self.host,self.port))\n",
    "                sock = sokcet.socket(socket_AF_INET,socket.SOCK_STREAM)\n",
    "                sock.connect((node['host'],node['port']))\n",
    "                sock.send(pickle.dumps(transaction))\n",
    "                sock.close()"
   ]
  },
  {
   "cell_type": "code",
   "execution_count": null,
   "metadata": {},
   "outputs": [],
   "source": [
    "#node加入測試\n",
    "nodel = Node(\"節點1\", 8000) "
   ]
  },
  {
   "cell_type": "code",
   "execution_count": null,
   "metadata": {},
   "outputs": [],
   "source": [
    "nodel.start()"
   ]
  },
  {
   "cell_type": "code",
   "execution_count": null,
   "metadata": {},
   "outputs": [],
   "source": [
    "nodel1.print_blockchain()"
   ]
  },
  {
   "cell_type": "code",
   "execution_count": null,
   "metadata": {},
   "outputs": [],
   "source": [
    "#node加入測試\n",
    "nodel2 = Node(\"節點2\", 8001) "
   ]
  },
  {
   "cell_type": "code",
   "execution_count": null,
   "metadata": {},
   "outputs": [],
   "source": [
    "nodel2.start()"
   ]
  },
  {
   "cell_type": "code",
   "execution_count": null,
   "metadata": {},
   "outputs": [],
   "source": [
    "nodel2.print_blockchain()"
   ]
  },
  {
   "cell_type": "code",
   "execution_count": null,
   "metadata": {},
   "outputs": [],
   "source": [
    "new_transaction = Transaction(\n",
    "    sender = node1.wallet.address,\n",
    "    recipient = node2.wallet.address,\n",
    "    amount = 0.3)\n",
    "sig = node1.wallet.sign(str(new_transaction))\n",
    "new_transaction.set_sign(sig.node1.wallet.pubkey)"
   ]
  },
  {
   "cell_type": "code",
   "execution_count": null,
   "metadata": {},
   "outputs": [],
   "source": [
    "node1.student_transaction(new_transaction)"
   ]
  },
  {
   "cell_type": "code",
   "execution_count": null,
   "metadata": {},
   "outputs": [],
   "source": [
    "#交易後節點區塊鏈變化\n",
    "nodel1.print_blockchain()"
   ]
  },
  {
   "cell_type": "code",
   "execution_count": null,
   "metadata": {},
   "outputs": [],
   "source": [
    "nodel2.print_blockchain()"
   ]
  }
 ],
 "metadata": {
  "kernelspec": {
   "display_name": "Python 3",
   "language": "python",
   "name": "python3"
  },
  "language_info": {
   "codemirror_mode": {
    "name": "ipython",
    "version": 3
   },
   "file_extension": ".py",
   "mimetype": "text/x-python",
   "name": "python",
   "nbconvert_exporter": "python",
   "pygments_lexer": "ipython3",
   "version": "3.8.5"
  }
 },
 "nbformat": 4,
 "nbformat_minor": 4
}
