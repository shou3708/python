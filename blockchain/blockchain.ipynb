{
 "cells": [
  {
   "cell_type": "code",
   "execution_count": null,
   "metadata": {},
   "outputs": [],
   "source": [
    "import hashlib\n",
    "from datetime import datetime\n",
    "\n",
    "genesisMsg = \"helloword\"\n",
    "class Block:\n",
    "    \"\"\"\n",
    "    prev_hash:\n",
    "    data:\n",
    "    timestamp:    \n",
    "    hash:\n",
    "    Nonce: 新增nonce隨機數 以實現pow\n",
    "    transactions: 交易列表 下方data換成transacation\n",
    "    \"\"\"\n",
    "    def __init__(self, transactions, prev_hash):\n",
    "        \n",
    "            self.prev_hash = prev_hash\n",
    "            self.transactions = transactions\n",
    "            self.timestamp = datetime.now().strftime(\"%Y-%m-%d %H:%M:%S\")\n",
    "            \n",
    "            #設置nonce和hash的初始值為none\n",
    "            self.nonce = None\n",
    "            self.hash = None\n",
    "        \n",
    "            message = hashlib.sha256()\n",
    "            message.update(str(self.prev_hash).encode('utf-8'))\n",
    "            message.update(str(self.transactions).encode('utf-8'))\n",
    "            message.update(str(self.timestamp).encode('utf-8'))\n",
    "            self.hash = message.hexdigest()\n",
    "    def __repr__(self):\n",
    "        return \"區塊內容: %s\\n hash值: %s\" %(self.transactions, self.hash)\n",
    "        "
   ]
  },
  {
   "cell_type": "code",
   "execution_count": null,
   "metadata": {},
   "outputs": [],
   "source": [
    "class BlockChain:\n",
    "    def __init__(self):\n",
    "        self.blocks = []\n",
    "        \n",
    "    def add_block(self,block):\n",
    "        self.blocks.append(block)"
   ]
  },
  {
   "cell_type": "code",
   "execution_count": null,
   "metadata": {},
   "outputs": [],
   "source": [
    "genesis_block = Block(data=\"創世區塊\",prev_hash =\"\")"
   ]
  },
  {
   "cell_type": "code",
   "execution_count": null,
   "metadata": {},
   "outputs": [],
   "source": [
    "new_block = Block(data = \"shou transfer 1 bit to peggy\", prev_hash = genesis_block.hash)\n",
    "new_block2 = Block(data = \"peggy transfer 2 bit to lilian\", prev_hash = new_block.hash) "
   ]
  },
  {
   "cell_type": "code",
   "execution_count": null,
   "metadata": {},
   "outputs": [],
   "source": [
    "blockchain = BlockChain()\n",
    "\n",
    "blockchain.add_block(genesis_block)\n",
    "blockchain.add_block(new_block)\n",
    "blockchain.add_block(new_block2)"
   ]
  },
  {
   "cell_type": "code",
   "execution_count": null,
   "metadata": {},
   "outputs": [],
   "source": [
    "#test\n",
    "print(\"區塊數量:%d\\n\" %len(blockchain.blocks))\n",
    "      \n",
    "for block in blockchain.blocks:\n",
    "    print(\"父區塊hash: %s\" %block.prev_hash)\n",
    "    print(\"區塊data: %s\" %block.data)\n",
    "    print(\"區塊hash: %s\" %block.hash)\n",
    "    print(\"\\n\")"
   ]
  },
  {
   "cell_type": "code",
   "execution_count": null,
   "metadata": {},
   "outputs": [],
   "source": [
    "#工作量證明POW\n",
    "import json\n",
    "class POW:\n",
    "    def __init__(self,block,miner,difficult=5):\n",
    "        self.block = block\n",
    "        self.difficulty = difficult\n",
    "        self.reward_amount = 1\n",
    "        \n",
    "    #挖礦函數    \n",
    "    def mine(self):\n",
    "        i = 0\n",
    "        prefix = '0' * self.difficulty\n",
    "        while True:\n",
    "            message = hashlib.sha256()\n",
    "            message.update(str(self.block.prev_hash).encode('utf-8'))\n",
    "            message.update(str(self.block.transactions).encode('utf-8'))\n",
    "            message.update(str(self.block.timestamp).encode('utf-8'))\n",
    "            message.update(str(i).encode('utf-8'))\n",
    "            digest = message.hexdigest()\n",
    "            if digest.startswith(prefix):\n",
    "                self.block.nonce = i\n",
    "                self.block.hash = digest\n",
    "                return self.block\n",
    "            i += 1\n",
    "        #獎勵機制\n",
    "        t = Transaction(sender =  \"\",\n",
    "                       recipient = self.miner.address,\n",
    "                       amount = self.reward_amount,\n",
    "                       )\n",
    "        sig = self.miner.sign(json.dumps(t, cls = TransactionEncoder))\n",
    "        t.set_sign(sig, self.miner.pubkey)\n",
    "        self.block.transactions.append(t)\n",
    "    #驗證有效性        \n",
    "    def validate(self):\n",
    "        message = hashlib.sha256()\n",
    "        message.update(str(self.block.prev_hash).encode('utf-8'))\n",
    "        message.update(str(self.block.transactions).encode('utf-8'))\n",
    "        message.update(str(self.block.timestamp).encode('utf-8'))\n",
    "        message.update(str(self.block.nonce).encode('utf-8'))\n",
    "        digest = message.hexdigest()\n",
    "        \n",
    "        prefix = \"0\" * self.difficulty\n",
    "        return digest.startswith(prefix)\n",
    "    \n",
    "    \n",
    "                                "
   ]
  },
  {
   "cell_type": "code",
   "execution_count": null,
   "metadata": {},
   "outputs": [],
   "source": [
    "b = Block(data = \"test\", prev_hash=\"\")\n",
    "w = POW(b)"
   ]
  },
  {
   "cell_type": "code",
   "execution_count": null,
   "metadata": {},
   "outputs": [],
   "source": [
    "%time valid_block = w.mine()"
   ]
  },
  {
   "cell_type": "code",
   "execution_count": null,
   "metadata": {},
   "outputs": [],
   "source": [
    "%time w.validate()"
   ]
  },
  {
   "cell_type": "code",
   "execution_count": null,
   "metadata": {},
   "outputs": [],
   "source": [
    "blockchain2 = BlockChain()\n",
    "\n",
    "new_block1 = Block(data = \"創世區塊\",prev_hash = \"\")\n",
    "w1 = POW(new_block1)\n",
    "genesis_block = w1.mine()\n",
    "blockchain2.add_block(genesis_block)\n",
    "\n",
    "new_block2 = Block(data = \"shou transfer 2 eth to peggy\", prev_hash = genesis_block.hash)\n",
    "w2 = POW(new_block2)\n",
    "new_block = w2.mine()\n",
    "blockchain2.add_block(new_block)\n",
    "\n",
    "new_block3 = Block(data = \"peggy transfer 3 eth to lilian\", prev_hash = new_block.hash)\n",
    "w3 = POW(new_block3)\n",
    "new_block = w3.mine()\n",
    "blockchain2.add_block(new_block)"
   ]
  },
  {
   "cell_type": "code",
   "execution_count": null,
   "metadata": {},
   "outputs": [],
   "source": [
    "print(\"區塊數量:%d\\n\" %len(blockchain2.blocks))\n",
    "      \n",
    "for block in blockchain2.blocks:\n",
    "    print(\"父區塊hash: %s\" %block.prev_hash)\n",
    "    print(\"區塊data: %s\" %block.data)\n",
    "    print(\"區塊hash: %s\" %block.hash)\n",
    "    print(\"\\n\")"
   ]
  },
  {
   "cell_type": "code",
   "execution_count": null,
   "metadata": {},
   "outputs": [],
   "source": [
    "!pip install ecdsa"
   ]
  },
  {
   "cell_type": "code",
   "execution_count": null,
   "metadata": {},
   "outputs": [],
   "source": [
    "#導入橢圓曲線演算法\n",
    "from ecdsa import SigningKey, SECP256k1, VerifyingKey, BadSignatureError\n",
    "import base64\n",
    "import binascii\n",
    "\n",
    "class Wallet:\n",
    "    \n",
    "    def __init__(self):\n",
    "        #當錢包初始化時，基於橢圓曲線生成一個唯一的密鑰，且這代表鏈上一個不可重複的帳戶\n",
    "        self._private_key = SigningKey.generate(curve = SECP256k1) \n",
    "        self._public_key = self._private_key.get_verifying_key()\n",
    "    @property\n",
    "    def address(self):\n",
    "    #公鑰生成\n",
    "        h = hashlib.sha256(self._public_key.to_pem())\n",
    "        return base64.b64encode(h.digest())\n",
    "\n",
    "    @property\n",
    "    def pubkey(self):\n",
    "    #返回公鑰字串\n",
    "        return self._public_key.to_pem()\n",
    "\n",
    "    def sign(self, message):\n",
    "        h = hashlib.sha256(message.encode('utf8'))\n",
    "        return binascii.hexlify(self._private_key.sign(h.digest()))\n",
    "\n",
    "    def verify_sign(pubkey,message,signature):\n",
    "        verifier = VerifyingKey.from_pem(pubkey)\n",
    "        h = hashlib.sha256(message.encode('utf8'))\n",
    "        return verifier.verify(binascii.unhexlify(signature),h.digest())"
   ]
  },
  {
   "cell_type": "code",
   "execution_count": null,
   "metadata": {
    "scrolled": false
   },
   "outputs": [],
   "source": [
    "w = Wallet()\n"
   ]
  },
  {
   "cell_type": "code",
   "execution_count": null,
   "metadata": {},
   "outputs": [],
   "source": [
    "w.address"
   ]
  },
  {
   "cell_type": "code",
   "execution_count": null,
   "metadata": {},
   "outputs": [],
   "source": [
    "key = w.pubkey\n",
    "print(key)"
   ]
  },
  {
   "cell_type": "code",
   "execution_count": null,
   "metadata": {},
   "outputs": [],
   "source": [
    "#test\n",
    "data = 'helloworld'\n",
    "sig = w.sign(data)\n",
    "print(sig)"
   ]
  },
  {
   "cell_type": "code",
   "execution_count": null,
   "metadata": {},
   "outputs": [],
   "source": [
    "w.verify_sign(key,data,sig)"
   ]
  },
  {
   "cell_type": "code",
   "execution_count": null,
   "metadata": {},
   "outputs": [],
   "source": [
    "import json\n",
    "\n",
    "class Transaction:\n",
    "    def __init__(self,sender,recipient, amount):\n",
    "        #初始化交易\n",
    "        if isinstance(sender,bytes):\n",
    "            sender = sender.decode('utf-8')\n",
    "        self.sender = sender  #發送方\n",
    "        if isinstance(recipient, bytes):\n",
    "            recipient = recipient.decode('utf-8')\n",
    "        self.recipient = recipient  #接收方\n",
    "        self.amount = amount     #數量\n",
    "        \n",
    "    def set_sign(self,signature,pubkey):\n",
    "        self.signature = signature\n",
    "        self.pubkey=  pubkey\n",
    "    def __repr__(self):\n",
    "        if self.sender:\n",
    "            s = '從%s轉至%s %d個加密貨幣' %(self.sender, self.recipient, self.amount)\n",
    "        else:\n",
    "            s = '%s挖礦獲取%d個加密貨幣' %(self.recipient, self.amount)\n",
    "        return s"
   ]
  },
  {
   "cell_type": "code",
   "execution_count": null,
   "metadata": {},
   "outputs": [],
   "source": [
    "#工作量證明POW\n",
    "import json\n",
    "class POW:\n",
    "    def __init__(self,block,miner,difficult=5):\n",
    "        self.block = block\n",
    "        self.difficulty = difficult\n",
    "        self.reward_amount = 1\n",
    "        \n",
    "    #挖礦函數    \n",
    "    def mine(self):\n",
    "        i = 0\n",
    "        prefix = '0' * self.difficulty\n",
    "        while True:\n",
    "            message = hashlib.sha256()\n",
    "            message.update(str(self.block.prev_hash).encode('utf-8'))\n",
    "            message.update(str(self.block.transactions).encode('utf-8'))\n",
    "            message.update(str(self.block.timestamp).encode('utf-8'))\n",
    "            message.update(str(i).encode('utf-8'))\n",
    "            digest = message.hexdigest()\n",
    "            if digest.startswith(prefix):\n",
    "                self.block.nonce = i\n",
    "                self.block.hash = digest\n",
    "                return self.block\n",
    "            i += 1\n",
    "        #獎勵機制\n",
    "        t = Transaction(sender =  \"\",\n",
    "                        ecipient = self.miner.address,\n",
    "                        amount = self.reward_amount,)\n",
    "        sig = self.miner.sign(json.dumps(t, cls = TransactionEncoder))\n",
    "        t.set_sign(sig, self.miner.pubkey)\n",
    "        self.block.transactions.append(t)\n",
    "    #驗證有效性        \n",
    "    def validate(self):\n",
    "        message = hashlib.sha256()\n",
    "        message.update(str(self.block.prev_hash).encode('utf-8'))\n",
    "        message.update(str(self.block.transactions).encode('utf-8'))\n",
    "        message.update(str(self.block.timestamp).encode('utf-8'))\n",
    "        message.update(str(self.block.nonce).encode('utf-8'))\n",
    "        digest = message.hexdigest()\n",
    "        \n",
    "        prefix = \"0\" * self.difficulty\n",
    "        return digest.startswith(prefix)\n",
    "    \n",
    "    \n",
    "                                "
   ]
  },
  {
   "cell_type": "code",
   "execution_count": null,
   "metadata": {},
   "outputs": [],
   "source": [
    "def get_balance(user):\n",
    "    balance = 0\n",
    "    for block in blockchain.blocks:\n",
    "        for t in block.transactions:\n",
    "            if t.sender == user.address.decode():\n",
    "                balance -= t.amount\n",
    "            elif t.recipient == user.address.decode():\n",
    "                balance += t.amount\n",
    "    return balance"
   ]
  },
  {
   "cell_type": "code",
   "execution_count": null,
   "metadata": {},
   "outputs": [],
   "source": [
    "blockchain = BlockChain()\n",
    "\n",
    "alice = Wallet()\n",
    "tom = Wallet()\n",
    "bob = Wallet()\n",
    "\n",
    "print(\"alice:%d個加密貨幣\" %(get_balance(alice)))\n",
    "print(\"tom  :%d個加密貨幣\" %(get_balance(tom)))\n",
    "print(\"bob  :%d個加密貨幣\" %(get_balance(bob)))"
   ]
  },
  {
   "cell_type": "code",
   "execution_count": null,
   "metadata": {},
   "outputs": [],
   "source": [
    "#生成區塊\n",
    "new_block1 = Block(transactions = [],prev_hash=\"\")\n",
    "w1 = POW(new_block1, alice)\n",
    "genesis_block = w1.mine()\n",
    "blockchain.add_block(genesis_block)"
   ]
  },
  {
   "cell_type": "code",
   "execution_count": null,
   "metadata": {},
   "outputs": [],
   "source": [
    "print(\"alice:%d個加密貨幣\" %(get_balance(alice)))"
   ]
  },
  {
   "cell_type": "code",
   "execution_count": null,
   "metadata": {},
   "outputs": [],
   "source": [
    "transactions = []\n",
    "new_transaction = Transaction(\n",
    "    sender = alice.address,\n",
    "    recipient = tom.address,\n",
    "    amount = 0.3)\n",
    "sig = tom.sign(str(new_transaction))\n",
    "new_transaction.set_sign(sig, tom.pubkey)"
   ]
  },
  {
   "cell_type": "code",
   "execution_count": null,
   "metadata": {},
   "outputs": [],
   "source": [
    "#由bob驗證\n",
    "\n",
    "if  Wallet.verify_sign(new_transaction.pubkey,str(new_transaction),new_transaction.signature):\n",
    "    #驗證交易確認，產生新區塊\n",
    "    print(\"驗證交易成功\")\n",
    "    new_block2 = Block(transactions = [new_transaction], prev_hash = '')\n",
    "    print(\"正在生成新區塊...\")\n",
    "    w2 = POW(new_block2,bob)\n",
    "    block = w2.mine()\n",
    "    print(\"將新區塊加入區塊鏈中\")\n",
    "    blockchain.add_block(block)\n",
    "else:\n",
    "    print(\"交易驗證失敗!\")"
   ]
  },
  {
   "cell_type": "code",
   "execution_count": null,
   "metadata": {},
   "outputs": [],
   "source": [
    "print(\"alice:%d個加密貨幣\" %(get_balance(alice)))\n",
    "print(\"tom:%d個加密貨幣\" %(get_balance(tom)))\n",
    "print(\"bob:%d個加密貨幣\" %(get_balance(bob)))"
   ]
  }
 ],
 "metadata": {
  "kernelspec": {
   "display_name": "Python 3",
   "language": "python",
   "name": "python3"
  },
  "language_info": {
   "codemirror_mode": {
    "name": "ipython",
    "version": 3
   },
   "file_extension": ".py",
   "mimetype": "text/x-python",
   "name": "python",
   "nbconvert_exporter": "python",
   "pygments_lexer": "ipython3",
   "version": "3.8.5"
  }
 },
 "nbformat": 4,
 "nbformat_minor": 4
}
