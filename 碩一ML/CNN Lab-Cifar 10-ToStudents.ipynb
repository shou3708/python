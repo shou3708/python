{
 "cells": [
  {
   "cell_type": "markdown",
   "metadata": {},
   "source": [
    "# 載入 cifar10 資料集"
   ]
  },
  {
   "cell_type": "code",
   "execution_count": 1,
   "metadata": {},
   "outputs": [],
   "source": [
    "from tensorflow.keras.datasets import cifar10\n",
    "(x_train, y_train), (x_test, y_test) = cifar10.load_data()"
   ]
  },
  {
   "cell_type": "markdown",
   "metadata": {},
   "source": [
    "# 查看資料的 shape"
   ]
  },
  {
   "cell_type": "code",
   "execution_count": 2,
   "metadata": {},
   "outputs": [
    {
     "name": "stdout",
     "output_type": "stream",
     "text": [
      "x_train shape: (50000, 32, 32, 3)\n",
      "x_test shape: (10000, 32, 32, 3)\n"
     ]
    }
   ],
   "source": [
    "print('x_train shape:',x_train.shape)\n",
    "print('x_test shape:',x_test.shape)"
   ]
  },
  {
   "cell_type": "code",
   "execution_count": 3,
   "metadata": {},
   "outputs": [
    {
     "name": "stdout",
     "output_type": "stream",
     "text": [
      "y_train shape: (50000, 1)\n",
      "y_test shape: (10000, 1)\n"
     ]
    }
   ],
   "source": [
    "print('y_train shape:',y_train.shape)\n",
    "print('y_test shape:',y_test.shape)"
   ]
  },
  {
   "cell_type": "markdown",
   "metadata": {},
   "source": [
    "# 查看標籤的內容 "
   ]
  },
  {
   "cell_type": "code",
   "execution_count": 4,
   "metadata": {},
   "outputs": [
    {
     "name": "stdout",
     "output_type": "stream",
     "text": [
      "[[6]\n",
      " [9]\n",
      " [9]\n",
      " [4]\n",
      " [1]\n",
      " [1]\n",
      " [2]\n",
      " [7]\n",
      " [8]\n",
      " [3]]\n"
     ]
    }
   ],
   "source": [
    "#查看前10個訓練標籤\n",
    "print(y_train[0:10])"
   ]
  },
  {
   "cell_type": "markdown",
   "metadata": {},
   "source": [
    "# 進行 min-max normalization"
   ]
  },
  {
   "cell_type": "code",
   "execution_count": 6,
   "metadata": {},
   "outputs": [],
   "source": [
    "x_train_norm = x_train.astype('float32') / 255\n",
    "x_test_norm = x_test.astype('float32') / 255"
   ]
  },
  {
   "cell_type": "code",
   "execution_count": 7,
   "metadata": {},
   "outputs": [
    {
     "name": "stdout",
     "output_type": "stream",
     "text": [
      "[0.23137255 0.24313726 0.24705882]\n"
     ]
    }
   ],
   "source": [
    "#min-max normalization 後\n",
    "print(x_train_norm[0][0][0])"
   ]
  },
  {
   "cell_type": "markdown",
   "metadata": {},
   "source": [
    "# 將數字標籤進行 One-hot 編碼"
   ]
  },
  {
   "cell_type": "code",
   "execution_count": 8,
   "metadata": {},
   "outputs": [
    {
     "name": "stdout",
     "output_type": "stream",
     "text": [
      "[6]\n"
     ]
    }
   ],
   "source": [
    "from tensorflow.keras import utils\n",
    "\n",
    "# 轉換前\n",
    "print(y_train[0])"
   ]
  },
  {
   "cell_type": "code",
   "execution_count": 10,
   "metadata": {},
   "outputs": [
    {
     "name": "stdout",
     "output_type": "stream",
     "text": [
      "[0. 0. 0. 0. 0. 0. 1. 0. 0. 0.]\n"
     ]
    }
   ],
   "source": [
    "# 進行 One-hot 編碼轉換...\n",
    "y_train_onehot = utils.to_categorical(y_train, 10) #將訓練標籤進行 one-hot編碼\n",
    "y_test_onehot = utils.to_categorical(y_test, 10) #將訓練標籤進行 one-hot編碼\n",
    "\n",
    "# 轉換後\n",
    "print(y_train_onehot[0])"
   ]
  },
  {
   "cell_type": "markdown",
   "metadata": {},
   "source": [
    "# 建立 CNN 神經網路架構"
   ]
  },
  {
   "cell_type": "code",
   "execution_count": 14,
   "metadata": {},
   "outputs": [],
   "source": [
    "from tensorflow.keras.models import Sequential\n",
    "from tensorflow.keras.layers import Dense, Dropout, Flatten\n",
    "from tensorflow.keras.layers import Conv2D, MaxPooling2D"
   ]
  },
  {
   "cell_type": "code",
   "execution_count": 15,
   "metadata": {},
   "outputs": [],
   "source": [
    "# CNN\n",
    "cnn = Sequential()\n",
    "cnn.add(Conv2D(32, (3,3), activation = 'relu', padding='same',input_shape = (32, 32, 3)))#捲積層\n",
    "cnn.add(Dropout(0.25)) #dorpout\n",
    "cnn.add(MaxPooling2D((2,2))) #池化層\n",
    "\n",
    "cnn.add(Conv2D(64,(3,3),padding='same', activation = 'relu')) #捲積層\n",
    "cnn.add(Dropout(0.25)) #dorpout\n",
    "cnn.add(MaxPooling2D((2,2))) #池化層\n",
    "\n",
    "cnn.add(Flatten()) #展平層\n",
    "cnn.add(Dropout(0.25))  #dorpout\n",
    "cnn.add(Dense(1024, activation='relu')) #密集層\n",
    "cnn.add(Dropout(0.25)) #dorpout\n",
    "cnn.add(Dense(10, activation='softmax'))   #密集層(輸出分類)"
   ]
  },
  {
   "cell_type": "code",
   "execution_count": 17,
   "metadata": {},
   "outputs": [],
   "source": [
    "# 神經網路的訓練配置 #\n",
    "cnn.compile(loss = 'categorical_crossentropy',\n",
    "           optimizer='adam',\n",
    "           metrics=['acc'])"
   ]
  },
  {
   "cell_type": "code",
   "execution_count": 19,
   "metadata": {},
   "outputs": [
    {
     "name": "stdout",
     "output_type": "stream",
     "text": [
      "Epoch 1/20\n",
      "352/352 [==============================] - 50s 141ms/step - loss: 1.5589 - acc: 0.4396 - val_loss: 1.3272 - val_acc: 0.5692\n",
      "Epoch 2/20\n",
      "352/352 [==============================] - 50s 143ms/step - loss: 1.1826 - acc: 0.5785 - val_loss: 1.1359 - val_acc: 0.6348\n",
      "Epoch 3/20\n",
      "352/352 [==============================] - 50s 141ms/step - loss: 1.0332 - acc: 0.6332 - val_loss: 1.0490 - val_acc: 0.6650\n",
      "Epoch 4/20\n",
      "352/352 [==============================] - 51s 145ms/step - loss: 0.9271 - acc: 0.6731 - val_loss: 0.9808 - val_acc: 0.6762\n",
      "Epoch 5/20\n",
      "352/352 [==============================] - 50s 143ms/step - loss: 0.8403 - acc: 0.7028 - val_loss: 0.8958 - val_acc: 0.7162\n",
      "Epoch 6/20\n",
      "352/352 [==============================] - 50s 142ms/step - loss: 0.7582 - acc: 0.7360 - val_loss: 0.8620 - val_acc: 0.7194\n",
      "Epoch 7/20\n",
      "352/352 [==============================] - 51s 144ms/step - loss: 0.6908 - acc: 0.7592 - val_loss: 0.8656 - val_acc: 0.7214\n",
      "Epoch 8/20\n",
      "352/352 [==============================] - 50s 143ms/step - loss: 0.6246 - acc: 0.7812 - val_loss: 0.8044 - val_acc: 0.7318\n",
      "Epoch 9/20\n",
      "352/352 [==============================] - 50s 143ms/step - loss: 0.5628 - acc: 0.8029 - val_loss: 0.7846 - val_acc: 0.7340\n",
      "Epoch 10/20\n",
      "352/352 [==============================] - 50s 141ms/step - loss: 0.4974 - acc: 0.8259 - val_loss: 0.7744 - val_acc: 0.7472\n",
      "Epoch 11/20\n",
      "352/352 [==============================] - 49s 140ms/step - loss: 0.4506 - acc: 0.8425 - val_loss: 0.7746 - val_acc: 0.7374\n",
      "Epoch 12/20\n",
      "352/352 [==============================] - 50s 142ms/step - loss: 0.4016 - acc: 0.8586 - val_loss: 0.7531 - val_acc: 0.7450\n",
      "Epoch 13/20\n",
      "352/352 [==============================] - 51s 145ms/step - loss: 0.3620 - acc: 0.8732 - val_loss: 0.7565 - val_acc: 0.7474\n",
      "Epoch 14/20\n",
      "352/352 [==============================] - 50s 143ms/step - loss: 0.3305 - acc: 0.8844 - val_loss: 0.7442 - val_acc: 0.7516\n",
      "Epoch 15/20\n",
      "352/352 [==============================] - 49s 140ms/step - loss: 0.2965 - acc: 0.8971 - val_loss: 0.7517 - val_acc: 0.7496\n",
      "Epoch 16/20\n",
      "352/352 [==============================] - 49s 140ms/step - loss: 0.2634 - acc: 0.9084 - val_loss: 0.7600 - val_acc: 0.7504\n",
      "Epoch 17/20\n",
      "352/352 [==============================] - 49s 140ms/step - loss: 0.2440 - acc: 0.9146 - val_loss: 0.7818 - val_acc: 0.7454\n",
      "Epoch 18/20\n",
      "352/352 [==============================] - 50s 141ms/step - loss: 0.2289 - acc: 0.9211 - val_loss: 0.7892 - val_acc: 0.7474\n",
      "Epoch 19/20\n",
      "352/352 [==============================] - 51s 144ms/step - loss: 0.2138 - acc: 0.9252 - val_loss: 0.7865 - val_acc: 0.7500\n",
      "Epoch 20/20\n",
      "352/352 [==============================] - 51s 144ms/step - loss: 0.1995 - acc: 0.9315 - val_loss: 0.8082 - val_acc: 0.7404\n"
     ]
    }
   ],
   "source": [
    "# 進行訓練 #\n",
    "history = cnn.fit(x = x_train_norm,\n",
    "                 y =y_train_onehot,\n",
    "                 batch_size = 128,\n",
    "                 epochs = 20,\n",
    "                 validation_split = 0.1,)"
   ]
  },
  {
   "cell_type": "markdown",
   "metadata": {},
   "source": [
    "# 繪製圖表"
   ]
  },
  {
   "cell_type": "code",
   "execution_count": 29,
   "metadata": {},
   "outputs": [],
   "source": [
    "def show_train_history(history,train,validation,label):\n",
    "    plt.plot(history.history[train])\n",
    "    plt.plot(history.history[validation])\n",
    "    plt.title(\"Train History\")\n",
    "    plt.ylabel(label)\n",
    "    plt.xlabel('Epoch')\n",
    "    plt.legend(['train','validation'],loc='upper left')\n",
    "    plt.show()"
   ]
  },
  {
   "cell_type": "code",
   "execution_count": 30,
   "metadata": {},
   "outputs": [
    {
     "data": {
      "image/png": "[encoded data removed]",
      "text/plain": [
       "<Figure size 432x288 with 1 Axes>"
      ]
     },
     "metadata": {
      "needs_background": "light"
     },
     "output_type": "display_data"
    },
    {
     "data": {
      "image/png": "[encoded data removed]",
      "text/plain": [
       "<Figure size 432x288 with 1 Axes>"
      ]
     },
     "metadata": {
      "needs_background": "light"
     },
     "output_type": "display_data"
    }
   ],
   "source": [
    "show_train_history(history,'acc','val_acc','accuracy')\n",
    "show_train_history(history,'loss','val_loss','loss')"
   ]
  },
  {
   "cell_type": "code",
   "execution_count": 20,
   "metadata": {},
   "outputs": [],
   "source": [
    "# --  儲存模型 -- #\n",
    "cnn.save('CNN_Model.h5')"
   ]
  },
  {
   "cell_type": "code",
   "execution_count": 21,
   "metadata": {},
   "outputs": [],
   "source": [
    "# -- 儲存模型權重-- #\n",
    "cnn.save_weights('CNN_weights.h5')"
   ]
  },
  {
   "cell_type": "code",
   "execution_count": 22,
   "metadata": {},
   "outputs": [
    {
     "name": "stdout",
     "output_type": "stream",
     "text": [
      "載入模型成功\n"
     ]
    }
   ],
   "source": [
    "# -- 載入模型 -- #\n",
    "from tensorflow.keras.models import load_model\n",
    "\n",
    "old_cnn = load_model('CNN_Model.h5')\n",
    "print('載入模型成功')"
   ]
  },
  {
   "cell_type": "markdown",
   "metadata": {},
   "source": [
    "# 使用測試資料評估神經網路"
   ]
  },
  {
   "cell_type": "code",
   "execution_count": 25,
   "metadata": {},
   "outputs": [
    {
     "name": "stdout",
     "output_type": "stream",
     "text": [
      "313/313 [==============================] - 3s 8ms/step - loss: 0.8149 - acc: 0.7353\n",
      "測試資料損失值: 0.8149274587631226\n",
      "測試資料準確度: 0.7353000044822693\n"
     ]
    }
   ],
   "source": [
    "# evaluate\n",
    "test_loss, test_val = cnn.evaluate(x_test_norm, y_test_onehot)\n",
    "print('測試資料損失值:', test_loss)\n",
    "print('測試資料準確度:', test_val)"
   ]
  },
  {
   "cell_type": "code",
   "execution_count": 26,
   "metadata": {},
   "outputs": [
    {
     "name": "stdout",
     "output_type": "stream",
     "text": [
      "第一筆測試資料的預測機率 [3.6579205e-03 7.2720766e-05 5.8793658e-03 9.2825019e-01 2.9498094e-04\n",
      " 4.2516407e-02 1.2399842e-02 3.3020187e-04 2.8033759e-03 3.7950878e-03]\n"
     ]
    }
   ],
   "source": [
    "# predict\n",
    "predict_prop = cnn.predict(x_test_norm)\n",
    "print('第一筆測試資料的預測機率', predict_prop[0])"
   ]
  },
  {
   "cell_type": "code",
   "execution_count": 27,
   "metadata": {},
   "outputs": [
    {
     "data": {
      "image/png": "[encoded data removed]",
      "text/plain": [
       "<Figure size 144x144 with 1 Axes>"
      ]
     },
     "metadata": {
      "needs_background": "light"
     },
     "output_type": "display_data"
    }
   ],
   "source": [
    "# -- 查看測試資料的第 1 張圖片 -- #\n",
    "import matplotlib.pyplot as plt\n",
    "\n",
    "fig = plt.gcf()\n",
    "fig.set_size_inches(2, 2)\n",
    "plt.imshow(x_test[0])\n",
    "plt.show()"
   ]
  },
  {
   "cell_type": "code",
   "execution_count": 28,
   "metadata": {},
   "outputs": [
    {
     "data": {
      "image/png": "[encoded data removed]",
      "text/plain": [
       "<Figure size 144x144 with 1 Axes>"
      ]
     },
     "metadata": {
      "needs_background": "light"
     },
     "output_type": "display_data"
    }
   ],
   "source": [
    "# -- 查看測試資料的第 2 張圖片 -- #\n",
    "fig = plt.gcf()\n",
    "fig.set_size_inches(2, 2)\n",
    "plt.imshow(x_test[1])\n",
    "plt.show()"
   ]
  },
  {
   "cell_type": "code",
   "execution_count": 31,
   "metadata": {},
   "outputs": [
    {
     "name": "stderr",
     "output_type": "stream",
     "text": [
      "/opt/anaconda3/lib/python3.8/site-packages/tensorflow/python/keras/engine/sequential.py:450: UserWarning: `model.predict_classes()` is deprecated and will be removed after 2021-01-01. Please use instead:* `np.argmax(model.predict(x), axis=-1)`,   if your model does multi-class classification   (e.g. if it uses a `softmax` last-layer activation).* `(model.predict(x) > 0.5).astype(\"int32\")`,   if your model does binary classification   (e.g. if it uses a `sigmoid` last-layer activation).\n",
      "  warnings.warn('`model.predict_classes()` is deprecated and '\n"
     ]
    },
    {
     "name": "stdout",
     "output_type": "stream",
     "text": [
      "前 10 筆預測標籤: [3 8 8 0 6 6 1 6 3 1]\n",
      "前 10 筆原始標籤: [3 8 8 0 6 6 1 6 3 1]\n"
     ]
    }
   ],
   "source": [
    "# -- 直接預測數字標籤 -- #\n",
    "predict_class = cnn.predict_classes(x_test_norm)\n",
    "print('前 10 筆預測標籤:', predict_class[: 10])\n",
    "print('前 10 筆原始標籤:', y_test[: 10].reshape(10))"
   ]
  },
  {
   "cell_type": "code",
   "execution_count": null,
   "metadata": {},
   "outputs": [],
   "source": []
  }
 ],
 "metadata": {
  "kernelspec": {
   "display_name": "Python 3",
   "language": "python",
   "name": "python3"
  },
  "language_info": {
   "codemirror_mode": {
    "name": "ipython",
    "version": 3
   },
   "file_extension": ".py",
   "mimetype": "text/x-python",
   "name": "python",
   "nbconvert_exporter": "python",
   "pygments_lexer": "ipython3",
   "version": "3.8.5"
  }
 },
 "nbformat": 4,
 "nbformat_minor": 4
}
