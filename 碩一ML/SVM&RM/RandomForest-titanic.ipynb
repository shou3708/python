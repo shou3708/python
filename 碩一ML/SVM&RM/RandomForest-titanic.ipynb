{
 "cells": [
  {
   "cell_type": "markdown",
   "metadata": {},
   "source": [
    "# 請輸入Student ID:s1116015 彭鍾碩"
   ]
  },
  {
   "cell_type": "markdown",
   "metadata": {},
   "source": [
    "SVM"
   ]
  },
  {
   "cell_type": "code",
   "execution_count": 13,
   "metadata": {},
   "outputs": [],
   "source": [
    "#import package\n",
    "import pandas as pd\n",
    "import numpy as np\n",
    "from sklearn.model_selection import KFold\n",
    "from sklearn import ensemble, metrics\n",
    "from sklearn.metrics import accuracy_score\n",
    "from sklearn.utils import shuffle\n",
    "import math"
   ]
  },
  {
   "cell_type": "code",
   "execution_count": 14,
   "metadata": {},
   "outputs": [],
   "source": [
    "# 開啟 CSV 檔案\n",
    "dataset = pd.read_csv('titanic_train.csv',sep=',')\n",
    "testset = pd.read_csv('Titanic__test.csv',sep=',')"
   ]
  },
  {
   "cell_type": "code",
   "execution_count": 15,
   "metadata": {},
   "outputs": [],
   "source": [
    "#將dataset shuffle\n",
    "dataset = shuffle(dataset)\n",
    "label = dataset.label\n",
    "dataset = dataset[dataset.columns[:9]]"
   ]
  },
  {
   "cell_type": "markdown",
   "metadata": {},
   "source": [
    "# 隨機森林"
   ]
  },
  {
   "cell_type": "code",
   "execution_count": 16,
   "metadata": {},
   "outputs": [
    {
     "name": "stderr",
     "output_type": "stream",
     "text": [
      "C:\\ProgramData\\Anaconda3\\lib\\site-packages\\sklearn\\utils\\validation.py:67: FutureWarning: Pass shuffle=True as keyword args. From version 0.25 passing these as positional arguments will result in an error\n",
      "  warnings.warn(\"Pass {} as keyword args. From version 0.25 \"\n"
     ]
    }
   ],
   "source": [
    "#Random Forest\n",
    "from sklearn.multiclass import OneVsRestClassifier\n",
    "from sklearn.svm import SVC\n",
    "\n",
    "#10-fold cross-validation\n",
    "kfold = KFold(10,True)\n",
    "predicted = []\n",
    "expected = []\n",
    "\n",
    "#訓練模型\n",
    "for train, test in kfold.split(dataset):\n",
    "    X_train = dataset.iloc[train]\n",
    "    Y_train = label.iloc[train]\n",
    "    X_test = dataset.iloc[test]\n",
    "    Y_test = label.iloc[test]\n",
    "    forest = ensemble.RandomForestClassifier(n_estimators = 100)\n",
    "    forest.fit(X_train,Y_train)\n",
    "    expected.extend(Y_test)\n",
    "    predicted.extend(forest.predict(X_test))"
   ]
  },
  {
   "cell_type": "code",
   "execution_count": 17,
   "metadata": {},
   "outputs": [
    {
     "name": "stdout",
     "output_type": "stream",
     "text": [
      "Macro-average: 0.4789473684210526\n",
      "Micro-average: 0.9191919191919192\n",
      "              precision    recall  f1-score   support\n",
      "\n",
      "           0       0.94      0.98      0.96       835\n",
      "           1       0.00      0.00      0.00        56\n",
      "\n",
      "    accuracy                           0.92       891\n",
      "   macro avg       0.47      0.49      0.48       891\n",
      "weighted avg       0.88      0.92      0.90       891\n",
      "\n",
      "[[819  16]\n",
      " [ 56   0]]\n",
      "Accuracy: 91.92%\n",
      "Average = macro\n",
      "precision: 0.468\n",
      "recall: 0.49041916167664673\n",
      "F1-score: 0.0\n",
      "\n",
      "\n",
      "Average = micro\n",
      "precision: 0.9191919191919192\n",
      "recall: 0.9191919191919192\n",
      "F1-score: 0.0\n",
      "\n",
      "\n",
      "Average = weighted\n",
      "precision: 0.8771717171717173\n",
      "recall: 0.9191919191919192\n",
      "F1-score: 0.0\n"
     ]
    },
    {
     "name": "stderr",
     "output_type": "stream",
     "text": [
      "C:\\ProgramData\\Anaconda3\\lib\\site-packages\\sklearn\\metrics\\_classification.py:1464: UndefinedMetricWarning: F-score is ill-defined and being set to 0.0 in labels with no true nor predicted samples. Use `zero_division` parameter to control this behavior.\n",
      "  _warn_prf(\n"
     ]
    }
   ],
   "source": [
    "print(\"Macro-average: {0}\".format(metrics.f1_score(expected,predicted,average='macro')))\n",
    "print(\"Micro-average: {0}\".format(metrics.f1_score(expected,predicted,average='micro')))\n",
    "print(metrics.classification_report(expected,predicted))\n",
    "print(metrics.confusion_matrix(expected, predicted))\n",
    "accuracy = accuracy_score(expected, predicted)\n",
    "print(\"Accuracy: %.2f%%\" % (accuracy * 100.0))\n",
    "\n",
    "print(\"Average = macro\")\n",
    "print('precision:',metrics.precision_score(expected, predicted,average='macro')) \n",
    "print('recall:',metrics.recall_score(expected, predicted,average='macro'))\n",
    "print('F1-score:',metrics.f1_score(expected, predicted,labels=[1,2,3,4],average='macro'))\n",
    "\n",
    "print(\"\\n\")\n",
    "print(\"Average = micro\")\n",
    "print('precision:', metrics.precision_score(expected, predicted, average='micro')) \n",
    "print('recall:',metrics.recall_score(expected, predicted,average='micro'))\n",
    "print('F1-score:',metrics.f1_score(expected, predicted,labels=[1,2,3,4],average='micro'))\n",
    "\n",
    "print(\"\\n\")\n",
    "print(\"Average = weighted\")\n",
    "print('precision:', metrics.precision_score(expected, predicted, average='weighted'))\n",
    "print('recall:',metrics.recall_score(expected, predicted,average='weighted'))\n",
    "print('F1-score:',metrics.f1_score(expected,predicted,labels=[1,2,3,4],average='weighted'))"
   ]
  },
  {
   "cell_type": "code",
   "execution_count": 21,
   "metadata": {
    "scrolled": true
   },
   "outputs": [],
   "source": [
    "#預測\n",
    "probability = forest.predict(testset)"
   ]
  },
  {
   "cell_type": "code",
   "execution_count": 22,
   "metadata": {},
   "outputs": [],
   "source": [
    "testdata_write = pd.read_csv('test-copy.csv')\n",
    "submission = pd.DataFrame({\n",
    "                            \"PassengerId\":testdata_write['PassengerId'],\n",
    "                            \"Survived\":probability\n",
    "                            })\n",
    "submission.to_csv('submission_RF.csv',index = False)"
   ]
  }
 ],
 "metadata": {
  "kernelspec": {
   "display_name": "Python 3",
   "language": "python",
   "name": "python3"
  },
  "language_info": {
   "codemirror_mode": {
    "name": "ipython",
    "version": 3
   },
   "file_extension": ".py",
   "mimetype": "text/x-python",
   "name": "python",
   "nbconvert_exporter": "python",
   "pygments_lexer": "ipython3",
   "version": "3.8.5"
  }
 },
 "nbformat": 4,
 "nbformat_minor": 2
}
