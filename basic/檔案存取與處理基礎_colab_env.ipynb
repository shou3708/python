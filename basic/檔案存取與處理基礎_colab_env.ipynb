{
 "cells": [
  {
   "cell_type": "markdown",
   "metadata": {
    "colab_type": "text",
    "id": "o8MKkgOGGpHT"
   },
   "source": [
    "### CSV檔案的讀取與寫入\n",
    "* csv(comma separated value)\n",
    "* csv檔案格式使用純文字，由記錄組成，每條記錄被分隔符號分隔為欄位，每條記錄都有同樣的欄位序。\n",
    "* 可用excel打開檔案，但會因為編碼問題出現亂碼。\n",
    "* 建議用記事本開啟，編碼格式選UTF-8(Unicode)。"
   ]
  },
  {
   "cell_type": "code",
   "execution_count": 1,
   "metadata": {
    "colab": {},
    "colab_type": "code",
    "id": "CILygoOtGpHU"
   },
   "outputs": [],
   "source": [
    "import csv"
   ]
  },
  {
   "cell_type": "code",
   "execution_count": 2,
   "metadata": {
    "colab": {
     "base_uri": "https://localhost:8080/",
     "height": 34
    },
    "colab_type": "code",
    "executionInfo": {
     "elapsed": 778,
     "status": "ok",
     "timestamp": 1589542738969,
     "user": {
      "displayName": "Yu Hsin-Chun",
      "photoUrl": "",
      "userId": "10855916910187455510"
     },
     "user_tz": -480
    },
    "id": "QE4bFfA_GpHW",
    "outputId": "8bcdc773-dd04-4a17-960c-144e05a06aea"
   },
   "outputs": [
    {
     "name": "stdout",
     "output_type": "stream",
     "text": [
      "Writing data.csv\n"
     ]
    }
   ],
   "source": [
    "%%file data.csv\n",
    "\"alpha 1\",  100, -1.443\n",
    "\"beat  3\",   12, -0.0934\n",
    "\"gamma 3a\", 192, -0.6621\n",
    "\"delta 2a\",  15, -4.515"
   ]
  },
  {
   "cell_type": "code",
   "execution_count": 3,
   "metadata": {
    "colab": {},
    "colab_type": "code",
    "id": "jUlMxeo9GpHZ"
   },
   "outputs": [],
   "source": [
    "csvfile = open(\"data.csv\")  # 'csvfile'是檔案物件名稱，這名字可以隨便取，一般常見會取名為'fp'"
   ]
  },
  {
   "cell_type": "code",
   "execution_count": 4,
   "metadata": {
    "colab": {},
    "colab_type": "code",
    "id": "nBzDPKvxGpHb"
   },
   "outputs": [],
   "source": [
    "r = csv.reader(csvfile)"
   ]
  },
  {
   "cell_type": "code",
   "execution_count": 5,
   "metadata": {
    "colab": {},
    "colab_type": "code",
    "id": "dUJhU3UuGpHd"
   },
   "outputs": [
    {
     "name": "stdout",
     "output_type": "stream",
     "text": [
      "['alpha 1', '  100', ' -1.443']\n",
      "['beat  3', '   12', ' -0.0934']\n",
      "['gamma 3a', ' 192', ' -0.6621']\n",
      "['delta 2a', '  15', ' -4.515']\n"
     ]
    }
   ],
   "source": [
    "for row in r:\n",
    "    print(row)\n",
    "    \n",
    "csvfile.close()"
   ]
  },
  {
   "cell_type": "code",
   "execution_count": null,
   "metadata": {
    "colab": {},
    "colab_type": "code",
    "id": "mKGqPiEVJXjp"
   },
   "outputs": [],
   "source": [
    "from google.colab import files\n",
    "\n",
    "files.download('data.csv')"
   ]
  }
 ],
 "metadata": {
  "colab": {
   "name": "檔案存取與處理基礎.ipynb",
   "provenance": []
  },
  "kernelspec": {
   "display_name": "Python 3",
   "language": "python",
   "name": "python3"
  },
  "language_info": {
   "codemirror_mode": {
    "name": "ipython",
    "version": 3
   },
   "file_extension": ".py",
   "mimetype": "text/x-python",
   "name": "python",
   "nbconvert_exporter": "python",
   "pygments_lexer": "ipython3",
   "version": "3.8.5"
  }
 },
 "nbformat": 4,
 "nbformat_minor": 1
}
