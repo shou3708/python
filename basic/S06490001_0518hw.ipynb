{
 "cells": [
  {
   "cell_type": "markdown",
   "metadata": {},
   "source": [
    "## <font color=#0000FF>程式作業五</font>\n",
    "1. **繳交期限為<font color=#FF6600> 2021/05/19 08:00</font> 以前上傳至 Moodle LMS 教學平台。**  \n",
    " <br></br>\n",
    "2. **上傳作業時，必須完成以下幾件事：**\n",
    "    * **將目前您所看到的此檔案(hw5.ipynb)，改為(<font color=#FF00FF>您的學號</font><font color=#0000FF>_hw5.ipynb</font>)。**\n",
    "    * **建立一個全新的資料夾，將上述作業檔案置入，並將資料夾的名稱改為<font color=#FF00FF>您的學號</font>。**\n",
    "    * **將上述包含作業的資料夾以 <font color=#FF0000>ZIP</font> 格式壓縮後上傳。**   \n",
    "    <br></br>\n",
    "3. **注意事項：**\n",
    "    * **<font color=#FF0000>所有程式作業應積極相互討論，但不得寫出同一版本或相互抄襲。您所完成繳交的作業是否有抄襲由評分的助教自行判斷，不會找您來確認，因為不會有兩個人會寫出相同的程式！所以強烈建議不要任意將自己已經完成的作業程式碼公開分享給其他同學。</font>**\n",
    "    * **<font color=#FF0000>本次作業不得使用 Pandas 套件來完成！</font>**   \n",
    "    <br></br>\n",
    "4. **評分依據：**\n",
    "    1. **標頭註解與指令註解完整度    <font color=#0000FF>30%</font>**\n",
    "    2. **程式的輸出入格式與內容 <font color=#0000FF>20%</font>**\n",
    "    3. **程式執行正確性(含)\t   <font color=#0000FF>50%</font>**    \n",
    "    <br></br>\n",
    "5. **標頭註解與指令註解的撰寫請參考教學平台上老師提供的範例，至於要使用 Markdown 或 Code comments 的方式來撰寫請自選，程式盡量【逐行】或以【區塊方式】加註解說明，越完整清楚越好。**"
   ]
  },
  {
   "cell_type": "markdown",
   "metadata": {},
   "source": [
    "### <font color=#FF6600>作業內容</font>\n"
   ]
  },
  {
   "cell_type": "markdown",
   "metadata": {},
   "source": [
    "### 物件導向程式設計的基礎練習"
   ]
  },
  {
   "cell_type": "markdown",
   "metadata": {},
   "source": [
    "### <font color=#0000FF>第一題：</font>\n",
    "**請撰寫程式宣告下面四個類別 (Class)，並依不同的類別宣告其相對映所需要的屬性 (attributes) 與方法 (methods)。**<br></br>\n",
    "**於完成以下事項，並將要求的結果列印出來(如以下的輸出範例)：**"
   ]
  },
  {
   "cell_type": "markdown",
   "metadata": {},
   "source": [
    "<div>\n",
    "<img src=\"hw5_1.png\" width=\"200\"/>\n",
    "</div>"
   ]
  },
  {
   "cell_type": "markdown",
   "metadata": {},
   "source": [
    "1. **圓形類別：需記錄半徑，並宣告面積與周長計算的方法。**<br></br>\n",
    "**宣告二個圓形物件：(一) 半徑：5cm，(二) 半徑：12.5cm，並分別計算與顯示其面積與周長。**"
   ]
  },
  {
   "cell_type": "code",
   "execution_count": 5,
   "metadata": {},
   "outputs": [
    {
     "name": "stdout",
     "output_type": "stream",
     "text": [
      "圓形物件一\n",
      "周長是： 31.400000000000002 公分\n",
      "面積是： 78.5 平方公分\n",
      "圓形物件二\n",
      "周長是： 78.5 公分\n",
      "面積是： 490.625 平方公分\n"
     ]
    }
   ],
   "source": [
    "class Circle1:                              #宣告類別\n",
    "    r=5                                     #定義類別屬性 r pi \n",
    "    pi=3.14\n",
    "    def per(self):                          #定義類別方法\n",
    "        return self.pi * self.r * 2\n",
    "    def area(self):\n",
    "        return self.pi * self.r * self.r\n",
    "    \n",
    "C1 =Circle1() \n",
    "#==============================================\n",
    "class Circle2:                             #宣告類別\n",
    "    r=12.5                                 #定義類別屬性 r pi\n",
    "    pi=3.14\n",
    "    def per(self):                         #定義類別方法\n",
    "        return self.pi * self.r * 2\n",
    "    def area(self):\n",
    "        return self.pi * self.r * self.r\n",
    "    \n",
    "C2 = Circle2()\n",
    "#==================輸出區========================\n",
    "print('圓形物件一')       \n",
    "print('周長是：',C1.per(),'公分')\n",
    "print('面積是：',C1.area(),'平方公分')\n",
    "\n",
    "print('圓形物件二') \n",
    "print('周長是：',C2.per(),'公分')\n",
    "print('面積是：',C2.area(),'平方公分')"
   ]
  },
  {
   "cell_type": "markdown",
   "metadata": {},
   "source": [
    "2. **長方形類別：需記錄長和寬，並宣告面積與周長計算的方法。**<br></br>\n",
    "**宣告二個長方形物件：(一) 長：6cm、寬：100cm，(二) 長：13cm、寬：62cm，並分別計算與顯示其面積與周長。**"
   ]
  },
  {
   "cell_type": "code",
   "execution_count": 15,
   "metadata": {},
   "outputs": [
    {
     "name": "stdout",
     "output_type": "stream",
     "text": [
      "長方形物件一\n",
      "周長是： 212.00 公分\n",
      "面積是： 600.00 平方公分\n",
      "長方形物件二\n",
      "周長是： 150.00 公分\n",
      "面積是： 806.00 平方公分\n"
     ]
    }
   ],
   "source": [
    "class rect1:                                       #宣告類別\n",
    "    Leng=6                                         #定義類別屬性leng width\n",
    "    Width=100\n",
    "    def per(self):                                 #定義類別方法\n",
    "        return self.Leng * 2. + self.Width * 2.\n",
    "    def area(self):\n",
    "        return self.Leng * self.Width\n",
    "    \n",
    "R1 = rect1() \n",
    "#==============================================\n",
    "class rect2:                                         #宣告類別\n",
    "    Leng=13                                          #定義類別屬性leng width\n",
    "    Width=62\n",
    "    def per(self):                                   #定義類別方法\n",
    "        return self.Leng * 2. + self.Width * 2.\n",
    "    def area(self):\n",
    "        return self.Leng * self.Width\n",
    "    \n",
    "R2 = rect2()\n",
    "#==================輸出區========================\n",
    "print('長方形物件一')       \n",
    "print('周長是：',\"%.2f\" %R1.per(),'公分')\n",
    "print('面積是：',\"%.2f\" %R1.area(),'平方公分')\n",
    "print('長方形物件二') \n",
    "print('周長是：',\"%.2f\" %R2.per(),'公分')\n",
    "print('面積是：',\"%.2f\" %R2.area(),'平方公分')"
   ]
  },
  {
   "cell_type": "markdown",
   "metadata": {},
   "source": [
    "3. **梯形類別：需記錄上底、下底與高，並宣告面積計算的方法。**<br></br>\n",
    "**宣告二個梯形物件：(一) 上底：15cm、下底：20cm、高：6cm，(二) 上底：8cm、下底：60cm、高：18cm，並分別計算與顯示其面積。**"
   ]
  },
  {
   "cell_type": "code",
   "execution_count": 17,
   "metadata": {},
   "outputs": [
    {
     "name": "stdout",
     "output_type": "stream",
     "text": [
      "梯形物件一\n",
      "面積是： 105.00 平方公分\n",
      "梯形物件二\n",
      "面積是： 612.00 平方公分\n"
     ]
    }
   ],
   "source": [
    "class Trap1:                   #宣告類別\n",
    "    topline=15                 #定義類別屬性\n",
    "    baseline=20\n",
    "    height=6\n",
    "    def area(self):            #定義類別方法\n",
    "        return (self.topline+self.baseline)*(self.height/2)\n",
    "    \n",
    "T1 = Trap1()\n",
    "#=============================================\n",
    "class Trap2:                 #宣告類別\n",
    "    topline=8                #定義類別屬性\n",
    "    baseline=60           \n",
    "    height=18\n",
    "    def area(self):          #定義類別方法\n",
    "        return (self.topline+self.baseline)*(self.height/2)\n",
    "    \n",
    "T2 = Trap2()\n",
    "#==================輸出區========================\n",
    "print('梯形物件一')       \n",
    "print('面積是：',\"%.2f\" %T1.area(),'平方公分')\n",
    "print('梯形物件二') \n",
    "print('面積是：',\"%.2f\" %T2.area(),'平方公分')"
   ]
  },
  {
   "cell_type": "markdown",
   "metadata": {},
   "source": [
    "4. **三角形類別：需記錄底與高，並宣告面積計算的方法。**<br></br>\n",
    "**宣告二個三角形形物件：(一) 底：13cm、高：8cm，(二) 底：21.5cm、高：18cm，並分別計算與顯示其面積。**"
   ]
  },
  {
   "cell_type": "code",
   "execution_count": 18,
   "metadata": {},
   "outputs": [
    {
     "name": "stdout",
     "output_type": "stream",
     "text": [
      "梯形物件一\n",
      "面積是： 52.00 平方公分\n",
      "梯形物件二\n",
      "面積是： 193.50 平方公分\n"
     ]
    }
   ],
   "source": [
    "class Tri1:                   #宣告類別            \n",
    "    baseline=13               #定義類別屬性\n",
    "    height=8\n",
    "    def area(self):          #定義類別方法\n",
    "        return self.baseline * self.height / 2\n",
    "    \n",
    "T1 = Tri1()\n",
    "#=================================================\n",
    "class Tri2:                #宣告類別\n",
    "    baseline=21.5           #定義類別屬性\n",
    "    height=18\n",
    "    def area(self):         #定義類別方法\n",
    "        return self.baseline * self.height / 2\n",
    "    \n",
    "T2 = Tri2()\n",
    "#======================輸出區======================\n",
    "print('梯形物件一')       \n",
    "print('面積是：',\"%.2f\" %T1.area(),'平方公分')\n",
    "print('梯形物件二') \n",
    "print('面積是：',\"%.2f\" %T2.area(),'平方公分')"
   ]
  },
  {
   "cell_type": "markdown",
   "metadata": {},
   "source": [
    "### <font color=#0000FF>第二題：</font>\n",
    "**請撰寫程式宣告學生修課成績的類別、屬性與方法如下：**\n",
    "1. **需記錄基本資料:系所、年級、學號與姓名。**\n",
    "2. **需記錄每門課的成績:經濟、會計、統計、管概、計概與程設。**\n",
    "3. **需記錄學生的平均成績、最高分科目與最低分科目。**\n",
    "4. **宣告排序(sorting)的方法或行為：可由高至低排序每門課的成績。**\n",
    "5. **宣告計算學生個人平均成績的方法或行為：可計算平均成績。**\n",
    "6. **宣告可找出學生個人最高分科目與成績的方法或行為。**\n",
    "7. **宣告可找出學生個人最低分科目與成績的方法或行為。**<br></br>\n",
    "\n",
    "**請完成以下事項，並將要求的結果列印出來：**\n",
    "* **宣告三個學生物件，並自行設定系所、年級、學號與姓名**\n",
    "* **三個學生的成績設定如下(科目順序如上面)**\n",
    "    1. **(學生一) 66、15、33、28、89、92**\n",
    "    2. **(學生二) 78、25、63、58、73、46**\n",
    "    3. **(學生三) 34、66、71、98、44、25**<br></br>\n",
    "    \n",
    "**程式執行時可分別列印(輸出格式不限，請自行設計，如以下的範例輸出)**\n",
    "1. **每位學生資料**\n",
    "2. **依成績高低排序後的修課課名與成績**\n",
    "3. **最高分科目與成績**\n",
    "4. **最低分科目與成績**\n",
    "5. **個人平均成績**     \n",
    "\n",
    "**要完成本題需要詳閱以下的參考：[[1]](http://www.runoob.com/python3/python3-func-sorted.html) [[2]](https://docs.python.org/3/howto/sorting.html) [[3]](https://www.w3resource.com/python-exercises/dictionary/python-data-type-dictionary-exercise-1.php)**"
   ]
  },
  {
   "cell_type": "markdown",
   "metadata": {},
   "source": [
    "<div>\n",
    "<img src=\"hw5_2.png\" width=\"200\"/>\n",
    "</div>"
   ]
  },
  {
   "cell_type": "markdown",
   "metadata": {},
   "source": [
    "#### 1. **宣告與定義學生修課成績的類別、屬性與方法**"
   ]
  },
  {
   "cell_type": "code",
   "execution_count": 105,
   "metadata": {},
   "outputs": [],
   "source": [
    "class student():                 #宣告類別\n",
    "    \n",
    "    def __init__(self, name, grade, department, Id):       #定義類別方法和屬性 名子 系級 年級 學號\n",
    "        self.name = name\n",
    "        self.grade = grade\n",
    "        self.department = department\n",
    "        self.Id = Id\n",
    "        \n",
    "    def score(self,eco,acc,sta,man,com,pro):               #定義類別方法和屬性(各科成績)\n",
    "        self.subject = ['經濟','會計','統計','管概','計概','程設']    #將科目為一串列，同時為屬性\n",
    "        self.score = [eco,acc,sta,man,com,pro]                      #將各科成績設為類別屬性\n",
    "        self.dic = dict(zip(self.subject, self.score))              #將2串列合為一字典\n",
    "        self.sort = sorted(self.dic.items(), key=lambda x:x[1],reverse=True) #用lambda函數來反向排序(數字由高到低)\n",
    "        self.avg = sum(self.score)/len(self.score)                 #算平均值\n",
    "        \n",
    "\n",
    "       \n",
    "        \n",
    "    \n",
    "    \n",
    "    \n"
   ]
  },
  {
   "cell_type": "markdown",
   "metadata": {},
   "source": [
    "#### 2. **學生一**"
   ]
  },
  {
   "cell_type": "code",
   "execution_count": 106,
   "metadata": {},
   "outputs": [
    {
     "name": "stdout",
     "output_type": "stream",
     "text": [
      "學生名稱: 小丸子 \n",
      "年級: 大四 \n",
      "系級: 資管系 \n",
      "學號: s064912345\n",
      "各科成績為: [('程設', 92), ('計概', 89), ('經濟', 66), ('統計', 33), ('管概', 28), ('會計', 15)]\n",
      "最高分是 ('程設', 92)\n",
      "最低分是 ('會計', 15)\n",
      "平均是 53.83\n"
     ]
    }
   ],
   "source": [
    "#===============輸出區======================\n",
    "obj1 = student('小丸子','大四','資管系','s064912345')      #輸入個人資料\n",
    "obj1.score(66,15,33,28,89,92)                            #輸入成績      \n",
    "print('學生名稱:',obj1.name,'\\n年級:',obj1.grade,'\\n系級:',obj1.department,'\\n學號:',obj1.Id)   #輸出個人資料\n",
    "print('各科成績為:',obj1.sort)\n",
    "print('最高分是',obj1.sort[0])           #輸出排序第一個值為最高分\n",
    "print('最低分是',obj1.sort[5])           #輸出排序最後一個值為最低分\n",
    "print('平均是',\"%.2f\" %obj1.avg)  "
   ]
  },
  {
   "cell_type": "markdown",
   "metadata": {},
   "source": [
    "#### 3. **學生二**"
   ]
  },
  {
   "cell_type": "code",
   "execution_count": 107,
   "metadata": {},
   "outputs": [
    {
     "name": "stdout",
     "output_type": "stream",
     "text": [
      "學生名稱: 小不點 \n",
      "年級: 大三 \n",
      "系級: 經濟系 \n",
      "學號: s061652964\n",
      "各科成績為: [('經濟', 78), ('計概', 73), ('統計', 63), ('管概', 58), ('程設', 46), ('會計', 25)]\n",
      "最高分是 ('經濟', 78)\n",
      "最低分是 ('會計', 25)\n",
      "平均是 57.17\n"
     ]
    }
   ],
   "source": [
    "#===============輸出區======================\n",
    "obj2 = student('小不點','大三','經濟系','s061652964')    #輸入個人資料\n",
    "obj2.score(78,25,63,58,73,46)                           #輸入成績 \n",
    "print('學生名稱:',obj2.name,'\\n年級:',obj2.grade,'\\n系級:',obj2.department,'\\n學號:',obj2.Id)        #輸出個人資料\n",
    "print('各科成績為:',obj2.sort)\n",
    "print('最高分是',obj2.sort[0])                #輸出排序第一個值為最高分\n",
    "print('最低分是',obj2.sort[5])                #輸出排序最後一個值為最低分\n",
    "print('平均是',\"%.2f\" %obj2.avg)"
   ]
  },
  {
   "cell_type": "markdown",
   "metadata": {},
   "source": [
    "#### 4. **學生三**"
   ]
  },
  {
   "cell_type": "code",
   "execution_count": 110,
   "metadata": {},
   "outputs": [
    {
     "name": "stdout",
     "output_type": "stream",
     "text": [
      "學生名稱: 小不點 \n",
      "年級: 大三 \n",
      "系級: 經濟系 \n",
      "學號: s060552446\n",
      "各科成績為: [('管概', 98), ('統計', 71), ('會計', 66), ('計概', 44), ('經濟', 34), ('程設', 25)]\n",
      "最高分是 ('管概', 98)\n",
      "最低分是 ('程設', 25)\n",
      "平均是 56.33\n"
     ]
    }
   ],
   "source": [
    "#===============輸出區======================\n",
    "obj3 = student('小不點','大三','經濟系','s060552446')   #輸入個人資料\n",
    "obj3.score(34,66,71,98,44,25)                          #輸入成績\n",
    "print('學生名稱:',obj3.name,'\\n年級:',obj3.grade,'\\n系級:',obj3.department,'\\n學號:',obj3.Id)        #輸出個人資料\n",
    "print('各科成績為:',obj3.sort)\n",
    "print('最高分是',obj3.sort[0])               #輸出排序第一個值為最高分\n",
    "print('最低分是',obj3.sort[5])               #輸出排序最後一個值為最低分\n",
    "print('平均是',\"%.2f\" %obj3.avg)"
   ]
  }
 ],
 "metadata": {
  "kernelspec": {
   "display_name": "Python 3",
   "language": "python",
   "name": "python3"
  },
  "language_info": {
   "codemirror_mode": {
    "name": "ipython",
    "version": 3
   },
   "file_extension": ".py",
   "mimetype": "text/x-python",
   "name": "python",
   "nbconvert_exporter": "python",
   "pygments_lexer": "ipython3",
   "version": "3.8.5"
  }
 },
 "nbformat": 4,
 "nbformat_minor": 2
}
