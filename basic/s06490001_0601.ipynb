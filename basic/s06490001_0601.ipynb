{
 "cells": [
  {
   "cell_type": "markdown",
   "metadata": {},
   "source": [
    "## <font color=#0000FF>程式作業六</font>\n",
    "1. **繳交期限為<font color=#FF6600> 2021/06/08 24:00</font> 以前上傳至 Moodle LMS 教學平台。**\n",
    "2. **上傳作業時，必須完成以下幾件事：**\n",
    "    * **將目前您所看到的此檔案(hw6.ipynb)，改為(<font color=#FF00FF>您的學號</font><font color=#0000FF>_hw6.ipynb</font>)。**\n",
    "    * **建立一個全新的資料夾，將上述作業檔案置入，並將資料夾的名稱改為<font color=#FF00FF>您的學號</font>。**\n",
    "    * **將上述包含作業的資料夾以 <font color=#FF0000>ZIP</font> 格式壓縮後上傳。**\n",
    "\n",
    "3. **<font color=#FF0000>注意事項：所有程式作業應積極相互討論，但不得寫出同一版本或相互抄襲。您所完成繳交的作業是否有抄襲由評分的助教自行判斷，不會找您來確認，因為不會有兩個人會寫出相同的程式！所以強烈建議不要任意將自己已經完成的作業程式碼公開分享給其他同學。</font>**\n",
    "4. **評分依據：**\n",
    "    1. **標頭註解與指令註解完整度    <font color=#0000FF>30%</font>**\n",
    "    2. **程式的輸出入格式與內容 <font color=#0000FF>20%</font>**\n",
    "    3. **程式執行正確性(含)\t   <font color=#0000FF>50%</font>**\n",
    "5. **標頭註解與指令註解的撰寫請參考教學平台上老師提供的範例，至於要使用 Markdown 或 Code comments 的方式來撰寫請自選，程式盡量【逐行】或以【區塊方式】加註解說明，越完整清楚越好。**"
   ]
  },
  {
   "cell_type": "markdown",
   "metadata": {},
   "source": [
    "### <font color=#FF6600>作業內容</font>\n",
    "\n",
    "1. **本次作業限用 NumPy 指令語法。**\n",
    "1. **作業必須在 Jupyter Notebook 上完成。**\n",
    "1. **本次作業包含二個大題，請依序將每一個大題中的作業要求寫在指定的 cell 內。**"
   ]
  },
  {
   "cell_type": "markdown",
   "metadata": {},
   "source": [
    "### <font color=#0000FF>第一題：</font>\n",
    "***\n",
    "**以 NumPy 內建工具來產生 60 個介於 -50 到 +99 之間的亂數整數，每一個整數大小為 64 位元。將這 60 個整數任意放入一個 6X10 的陣列中，以每一列(row)為單位，分別計算並輸出以下需求，其數值顯示於螢幕時需四捨五入制小數點後兩位數，遇缺補零(例：15.4 須表示成 15.40)，其詳細細節請參考 numpy 中的 set_printoptions()：**\n",
    "1. **產生此矩陣並列印結果(請參考如何使用 numpy 中的 random())**\n",
    "1. **顯示此矩陣每一列(row)資料集的型態(請參考如何使用 numpy 中的 apply_along_axis())**\n",
    "1. **計算並顯示每一列(row)資料集的平均數(請參考如何使用 numpy 中的 mean(), around())**\n",
    "1. **計算並顯示每一列(row)資料集的中位數(請參考如何使用 numpy 中的 median(), around())**\n",
    "1. **計算並顯示每一列(row)資料集的標準差(請參考如何使用 numpy 中的 std(), around())**\n",
    "1. **計算並顯示每一列(row)資料集的變異數(請參考如何使用 numpy 中的 var(), around())**\n",
    "1. **計算並顯示每一列(row)資料集的集差值，即每列中最大值與最小值之間的差距(請參考如何使用 numpy 中的 ptp())**\n",
    "\n",
    "#### <font color=#FF0000>※ 以上每一個子題限定使用 Numpy 提供的方法完成；切記：每題答案如果超過二行指令就是錯的！</font>"
   ]
  },
  {
   "cell_type": "code",
   "execution_count": 2,
   "metadata": {},
   "outputs": [],
   "source": [
    "import numpy as np     # 讀入 Numpy 函式庫"
   ]
  },
  {
   "cell_type": "markdown",
   "metadata": {},
   "source": [
    "### 設定以下各小題將結果列印於螢幕上時，必須列印至小數點後二位數，且小數部分遇缺補零"
   ]
  },
  {
   "cell_type": "code",
   "execution_count": 4,
   "metadata": {},
   "outputs": [],
   "source": [
    "np.set_printoptions(precision=2, threshold=None, edgeitems=None, linewidth=None, suppress=None, nanstr=None, infstr=None, formatter=None, sign=None, floatmode=None) \n",
    "#調整格式設定"
   ]
  },
  {
   "cell_type": "markdown",
   "metadata": {},
   "source": [
    "### 1. 產生矩陣資料並列印其結果"
   ]
  },
  {
   "cell_type": "code",
   "execution_count": 5,
   "metadata": {},
   "outputs": [
    {
     "name": "stdout",
     "output_type": "stream",
     "text": [
      "[[ 82 -21 -41  89  78  59   8 -13  17 -27]\n",
      " [ 24  21   1  24  -2  82 -24 -22  65  75]\n",
      " [ 95  75  43 -22 -15  14  95  93   4 -13]\n",
      " [ 33  71 -29  26   1  66  83  69  40  26]\n",
      " [ 44  68  90 -33  86  58  31   3  99  19]\n",
      " [ 81  90  76 -17  64 -11  68  -3 -33 -35]]\n"
     ]
    }
   ],
   "source": [
    "ram = np.random.randint(-50, 100, size = (6, 10), dtype = \"int64\") #用ramdon中的randint來跑出-50~99的6*10矩陣\n",
    "print(ram)                                                         #印出矩陣"
   ]
  },
  {
   "cell_type": "markdown",
   "metadata": {},
   "source": [
    "### 2. 顯示此矩陣每一列資料集的型態"
   ]
  },
  {
   "cell_type": "code",
   "execution_count": 6,
   "metadata": {},
   "outputs": [
    {
     "name": "stdout",
     "output_type": "stream",
     "text": [
      "\r",
      " int64 \n",
      " int64 \n",
      " int64 \n",
      " int64 \n",
      " int64 \n",
      " int64\n"
     ]
    }
   ],
   "source": [
    "print(\"\\r\",ram[0].dtype,\"\\n\",ram[1].dtype,\"\\n\",ram[2].dtype,\"\\n\",ram[3].dtype,\"\\n\",ram[4].dtype,\"\\n\",ram[5].dtype) #印出每列的資料型別"
   ]
  },
  {
   "cell_type": "markdown",
   "metadata": {},
   "source": [
    "### 3. 計算並顯示每一列(row)資料集的平均數"
   ]
  },
  {
   "cell_type": "code",
   "execution_count": 8,
   "metadata": {},
   "outputs": [
    {
     "name": "stdout",
     "output_type": "stream",
     "text": [
      "[23.1 24.4 36.9 38.6 46.5 28. ]\n"
     ]
    }
   ],
   "source": [
    "print(np.around(np.mean(ram, axis=1),decimals=2))#印出每列的平均數"
   ]
  },
  {
   "cell_type": "markdown",
   "metadata": {},
   "source": [
    "### 4. 計算並顯示每一列(row)資料集的中位數"
   ]
  },
  {
   "cell_type": "code",
   "execution_count": 85,
   "metadata": {},
   "outputs": [
    {
     "name": "stdout",
     "output_type": "stream",
     "text": [
      "[11.  19.  37.   8.5 38.  27. ]\n"
     ]
    }
   ],
   "source": [
    "print(np.around(np.median(ram, axis=1), decimals=2))#印出每列的中位數"
   ]
  },
  {
   "cell_type": "markdown",
   "metadata": {},
   "source": [
    "### 5. 計算並顯示每一列(row)資料集的標準差"
   ]
  },
  {
   "cell_type": "code",
   "execution_count": 86,
   "metadata": {},
   "outputs": [
    {
     "name": "stdout",
     "output_type": "stream",
     "text": [
      "[43.48 39.68 44.05 44.28 41.18 43.47]\n"
     ]
    }
   ],
   "source": [
    "print(np.around(np.std(ram, axis=1), decimals=2))#印出每列的標準差"
   ]
  },
  {
   "cell_type": "markdown",
   "metadata": {},
   "source": [
    "### 6. 計算並顯示每一列(row)資料集的變異數"
   ]
  },
  {
   "cell_type": "code",
   "execution_count": 87,
   "metadata": {},
   "outputs": [
    {
     "name": "stdout",
     "output_type": "stream",
     "text": [
      "[1890.29 1574.36 1940.56 1961.04 1695.69 1889.25]\n"
     ]
    }
   ],
   "source": [
    "print(np.around(np.var(ram, axis=1), decimals=2)) #印出每列的變異數"
   ]
  },
  {
   "cell_type": "markdown",
   "metadata": {},
   "source": [
    "### 7. 計算並顯示每一列(row)資料集的集差值"
   ]
  },
  {
   "cell_type": "code",
   "execution_count": 88,
   "metadata": {},
   "outputs": [
    {
     "name": "stdout",
     "output_type": "stream",
     "text": [
      "[118 115 143 138 130 133]\n"
     ]
    }
   ],
   "source": [
    "print(np.around(np.ptp(ram, axis=1), decimals=2)) #印出每列的極差值 "
   ]
  },
  {
   "cell_type": "markdown",
   "metadata": {},
   "source": [
    "### <font color=#0000FF>第二題：</font>\n",
    "***\n",
    "**以 NumPy 內建工具來產生一個 3X4 的陣列 A，以及一個 4X5 的陣列 B，每一個陣列的元素為介於 1 到 50 之間的亂數整數，以及每一個整數大小限定為 32 位元。請完成以下的需求：**\n",
    "1. **產生矩陣 A 與 B (請參考如何使用 numpy 中的 random())**\n",
    "1. **分別列印矩陣 A 與 B 的資料內容**\n",
    "1. **找出並顯示矩陣 A 中每一列(row)的最大值(請參考如何使用 numpy 中的 amax())**\n",
    "1. **找出並顯示矩陣 A 中第二列(2nd row)中所有小於 30 的數值(請參考如何使用 numpy 中的 where())**\n",
    "1. **找出並顯示矩陣 B 中每一行或欄(column)中的最大值(請參考如何使用 numpy 中的 amax())**\n",
    "1. **找出並顯示矩陣 B 中第二行(2nd column)中所有小於 30 的數值(請參考如何使用 numpy 中的 where())**\n",
    "1. **顯示矩陣 A 中第一列(1st row)和矩陣 B 中第一列(1st row)的聯集結果(請參考如何使用 numpy 中的 union1d())**\n",
    "1. **計算與輸出矩陣 A 與矩陣 B 相乘的結果(請參考如何使用 numpy 中的 dot())**\n",
    "1. **將兩個矩陣扁平化後，輸出矩陣 A 與矩陣 B 的交集運算結果(請參考如何使用 numpy 中的 intersect1d()、ravel())**\n",
    "\n",
    "#### <font color=#FF0000>※ 以上每一個子題限定使用 Numpy 提供的方法完成；切記：每題答案如果超過二行指令就是錯的！</font>"
   ]
  },
  {
   "cell_type": "code",
   "execution_count": null,
   "metadata": {},
   "outputs": [],
   "source": [
    "import numpy as np     # 讀入 Numpy 函式庫"
   ]
  },
  {
   "cell_type": "markdown",
   "metadata": {},
   "source": [
    "### 1. 產生矩陣 A 與 B"
   ]
  },
  {
   "cell_type": "code",
   "execution_count": 89,
   "metadata": {},
   "outputs": [],
   "source": [
    "A = np.random.randint(1, 51, size = (3, 4), dtype = \"int32\") #產生兩個3*4與4*5的陣列，內容為32位元1到50之間的亂數整數\n",
    "B = np.random.randint(1, 51, size = (4, 5), dtype = \"int32\")"
   ]
  },
  {
   "cell_type": "markdown",
   "metadata": {},
   "source": [
    "### 2. 分別列印矩陣 A 與 B 的資料內容"
   ]
  },
  {
   "cell_type": "code",
   "execution_count": 91,
   "metadata": {},
   "outputs": [
    {
     "name": "stdout",
     "output_type": "stream",
     "text": [
      "array A: \n",
      " [[48 11 29 10]\n",
      " [39 38 22 27]\n",
      " [47 47  4 49]]\n",
      "array B: \n",
      " [[26 16 43 27 41]\n",
      " [ 1 32 48  8 19]\n",
      " [ 8 22 40 45 39]\n",
      " [16 38 26 44 36]]\n"
     ]
    }
   ],
   "source": [
    "print(\"array A:\",\"\\n\",A)       #列印A和B陣列\n",
    "print(\"array B:\",\"\\n\",B)"
   ]
  },
  {
   "cell_type": "markdown",
   "metadata": {},
   "source": [
    "### 3. 找出並顯示矩陣 A 中每一列(row)的最大值"
   ]
  },
  {
   "cell_type": "code",
   "execution_count": 92,
   "metadata": {},
   "outputs": [
    {
     "name": "stdout",
     "output_type": "stream",
     "text": [
      "[48 39 49]\n"
     ]
    }
   ],
   "source": [
    "print(np.max(A, axis=1)) #印出陣列 A 中每一列 ( row )的最大值"
   ]
  },
  {
   "cell_type": "markdown",
   "metadata": {},
   "source": [
    "### 4. 找出並顯示矩陣 A 中第二列(2nd row)中所有小於 30 的數值"
   ]
  },
  {
   "cell_type": "code",
   "execution_count": 96,
   "metadata": {},
   "outputs": [
    {
     "name": "stdout",
     "output_type": "stream",
     "text": [
      "[22 27]\n"
     ]
    }
   ],
   "source": [
    "print(A[1][A[1]<30])   #印出陣列 A 第二 列 ( row ) 中所有小於 30 的數值"
   ]
  },
  {
   "cell_type": "markdown",
   "metadata": {},
   "source": [
    "### 5. 找出並顯示矩陣 B 中每一行或欄(column)中的最大值"
   ]
  },
  {
   "cell_type": "code",
   "execution_count": 97,
   "metadata": {},
   "outputs": [
    {
     "name": "stdout",
     "output_type": "stream",
     "text": [
      "[26 38 48 45 41]\n"
     ]
    }
   ],
   "source": [
    "print(np.max(B, axis=0)) #印出陣列 B 中每一行 或欄 ( column ) 的最大值"
   ]
  },
  {
   "cell_type": "markdown",
   "metadata": {},
   "source": [
    "### 6. 找出並顯示矩陣 B 中第二行(2nd column)中所有小於 30 的數值"
   ]
  },
  {
   "cell_type": "code",
   "execution_count": 98,
   "metadata": {},
   "outputs": [
    {
     "name": "stdout",
     "output_type": "stream",
     "text": [
      "[16 22]\n"
     ]
    }
   ],
   "source": [
    "print(B[:,1][B[:,1]<30]) #印出陣列 B 第二行 (column) 中所有小於 30 的數值\n"
   ]
  },
  {
   "cell_type": "markdown",
   "metadata": {},
   "source": [
    "### 7. 顯示矩陣 A 中第一列(1st row)和矩陣 B 中第一列(1st row)的聯集結果"
   ]
  },
  {
   "cell_type": "code",
   "execution_count": 99,
   "metadata": {},
   "outputs": [
    {
     "name": "stdout",
     "output_type": "stream",
     "text": [
      "[10 11 16 26 27 29 41 43 48]\n"
     ]
    }
   ],
   "source": [
    "print(np.union1d(A[0], B[0])) #印出陣列A中第一列和陣列B中第一列的聯集結果"
   ]
  },
  {
   "cell_type": "markdown",
   "metadata": {},
   "source": [
    "### 8. 計算與輸出矩陣 A 與矩陣 B 相乘的結果"
   ]
  },
  {
   "cell_type": "code",
   "execution_count": 100,
   "metadata": {},
   "outputs": [
    {
     "name": "stdout",
     "output_type": "stream",
     "text": [
      "[[1651 2138 4012 3129 3668]\n",
      " [1660 3350 5083 3535 4151]\n",
      " [2085 4206 5711 3981 4740]]\n"
     ]
    }
   ],
   "source": [
    "print(np.dot(A, B))#印出陣列A與陣列B內積後的結果"
   ]
  },
  {
   "cell_type": "markdown",
   "metadata": {},
   "source": [
    "### 9. 將兩個矩陣扁平化後，輸出矩陣 A 與矩陣 B 的交集運算結果"
   ]
  },
  {
   "cell_type": "code",
   "execution_count": 101,
   "metadata": {},
   "outputs": [
    {
     "name": "stdout",
     "output_type": "stream",
     "text": [
      "[22 27 38 39 48]\n"
     ]
    }
   ],
   "source": [
    "print(np.intersect1d(np.ravel(A), np.ravel(B))) #先將陣列A,B扁平化後，印出它們的交集結果"
   ]
  }
 ],
 "metadata": {
  "kernelspec": {
   "display_name": "Python 3",
   "language": "python",
   "name": "python3"
  },
  "language_info": {
   "codemirror_mode": {
    "name": "ipython",
    "version": 3
   },
   "file_extension": ".py",
   "mimetype": "text/x-python",
   "name": "python",
   "nbconvert_exporter": "python",
   "pygments_lexer": "ipython3",
   "version": "3.8.5"
  }
 },
 "nbformat": 4,
 "nbformat_minor": 2
}
