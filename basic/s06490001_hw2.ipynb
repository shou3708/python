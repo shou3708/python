{
 "cells": [
  {
   "cell_type": "markdown",
   "metadata": {},
   "source": [
    "## <font color=#0000FF>程式作業二</font>\n",
    "1. **繳交期限為<font color=#FF6600> 2021/04/13 24:00</font> 以前上傳至 Moodle LMS 教學平台。**\n",
    "2. **上傳作業時，必須完成以下幾件事：**\n",
    "    * **將目前您所看到的此檔案(hw2.ipynb)，改為(<font color=#FF00FF>您的學號</font><font color=#0000FF>_hw2.ipynb</font>)。**\n",
    "    * **建立一個全新的資料夾，將上述作業檔案置入，並將資料夾的名稱改為<font color=#FF00FF>您的學號</font>。**\n",
    "    * **將上述包含作業的資料夾以 <font color=#FF0000>ZIP</font> 格式壓縮後上傳。**\n",
    "\n",
    "3. **<font color=#FF0000>注意事項：所有程式作業應積極相互討論，但不得寫出同一版本或相互抄襲。您所完成繳交的作業是否有抄襲由評分的助教自行判斷，不會找您來確認，因為不會有兩個人會寫出相同的程式！所以強烈建議不要任意將自己已經完成的作業程式碼公開分享給其他同學。</font>**\n",
    "4. **評分：**\n",
    "    1. **共有五題，每一題佔<font color=#0000FF> 20分</font>。**\n",
    "    2. **評分依據：程式的輸出入格式與內容<font color=#0000FF> (30%) </font>程式執行正確性<font color=#0000FF> (50%)</font>。**\n",
    "    3. **本次作業只需要在每一行的指令處，盡可能的撰寫註解，占評分的<font color=#0000FF> (20%)</font>。**"
   ]
  },
  {
   "cell_type": "markdown",
   "metadata": {},
   "source": [
    "### <font color=#FF6600>作業內容</font>"
   ]
  },
  {
   "cell_type": "markdown",
   "metadata": {},
   "source": [
    "#### P1\n",
    "**下表為摩斯密碼(Morse code)表 [[1]](https://zh.wikipedia.org/wiki/%E6%91%A9%E5%B0%94%E6%96%AF%E7%94%B5%E7%A0%81)**\n",
    "\n",
    "|Letter|Code|Letter|Code|Letter|Code|Letter|Code|\n",
    "|:----:|:--:|:----:|:--:|:----:|:--:|:----:|:-----:|\n",
    "|A\t  |.-  |J\t  |.---\t|S    |... |1\t  |.----|\n",
    "|B\t  |-...|K\t  |-.-\t|T\t  |-   |2\t  |..---|\n",
    "|C\t  |-.-.|L\t  |.-..\t|U\t  |..- |3\t  |...--|\n",
    "|D\t  |-.. |M\t  |--\t|V\t  |...-|4\t  |....-|\n",
    "|E\t  |.   |N\t  |-.\t|W\t  |.-- |5\t  |.....|\n",
    "|F\t  |..-.|O\t  |---\t|X\t  |-..-|6\t  |-....|\n",
    "|G\t  |--. |P\t  |.--.\t|Y\t  |-.--|7\t  |--...|\n",
    "|H\t  |....|Q\t  |--.-\t|Z\t  |--..|8\t  |---..|\n",
    "|I\t  |..  |R\t  |.-.\t|0\t  |-----|9\t  |----.|\n",
    "\n",
    "<br></br>\n",
    "**請依照以下要求完成本次作業：將輸入的依序進行以下幾個步驟的處理，並將每一個步驟的處理結果輸出到螢幕上：**\n",
    "1. **將上述摩斯密碼表以字典方式建置完成。** <br></br><br></br>\n",
    "\n",
    "2. **輸入任意長度與內容的英文句子字串，並於螢幕上輸出相對應的摩斯編碼內容，其處理要求如下：**\n",
    "    * **如輸入小寫英文字母，一律轉成大寫英文字母後再處理。** <br></br><br></br>\n",
    "    * **若輸入的字串中含有任何非上述摩斯密碼表所定義的字元，則一律略過不處理。**\n",
    "    <br></br><br></br>\n",
    "3. **每一個英文單字一律拆解為一個一個的單一字元，其排列順序不變，而轉碼後，每一個字元的摩斯碼之間會以一個空格隔開。**<br></br><br></br>\n",
    "4. **程式結束時會自動取得當地的日期時間並顯示於螢幕之上：**\n",
    "    * **使用 Python 內建(built-in)的時間模組來取得。**  <br></br><br></br>\n",
    "    * **使用細節請自行參考網頁 [(一)](https://www.twcode01.com/python3/python3-date-time.html)、[(二)](https://www.w3schools.com/python/python_datetime.asp)、[(三)](http://kaiching.org/pydoing/py/python-library-datetime.html)、[(四)](https://clay-atlas.com/blog/2019/11/07/python-chinese-tutorial-datetime/)，輸出格式不限。**<br></br><br></br>\n",
    "    \n",
    "**程式執行範例如下：(藍色為輸入，粉紅色為輸出)**<br></br>\n",
    "<br></br>\n",
    "**請輸入一行英文句子？<font color=#0000FF>Help me!</font>**\n",
    "\n",
    "**<font color=#FF00FF>Help me! 的摩斯密碼為 =>&nbsp;....  &nbsp;.  &nbsp;.-..  &nbsp;.--.  &nbsp;--  &nbsp;.</font>**\n",
    "     \n",
    "**<font color=#FF00FF>本程式於 Sat Mar 27 05:22:57 2021 執行完畢</font>**\n"
   ]
  },
  {
   "cell_type": "code",
   "execution_count": 2,
   "metadata": {},
   "outputs": [
    {
     "name": "stdout",
     "output_type": "stream",
     "text": [
      "請輸入一行英文句子：Help me\n",
      "Help me的摩斯密碼為 =>.... . .-.. .--.   -- .\n",
      "本程式於 Fri Apr  9 13:18:47 2021執行完畢\n"
     ]
    }
   ],
   "source": [
    "import time                                     #將time函數套件導入程式碼       \n",
    "#==========第一小題==========\n",
    "Morsecode = {'A':'.-',   'J':'.---',  'S':'...',   '1':'.----',   #將上述摩斯密碼表以字典方式建置完成。\n",
    "             'B':'-...', 'K':'-.-',   'T':'-',     '2':'..---',\n",
    "             'C':'-.-.', 'L':'.-..',  'U':'..-',   '3':'...--',\n",
    "             'D':'-..',  'M':'--',    'V':'...-',  '4':'....-',\n",
    "             'E':'.',    'N':'-.',    'W':'.--',   '5':'.....',\n",
    "             'F':'..-.', 'O':'---',   'X':'-..-',  '6':'-....',\n",
    "             'G':'--.',  'P':'.--.',  'Y':'-.--',  '7':'--...',\n",
    "             'H':'....', 'Q':'--.-',  'Z':'--..',  '8':'---..',\n",
    "             'I':'..',   'R':'.-.',   '0':'-----', '9':'----.'}\n",
    "\n",
    "#==========輸入及定義區==========\n",
    "list1=[]                                   #設定一空串列\n",
    "sen = str(input(\"請輸入一行英文句子：\"))     #輸入字串\n",
    "Sen = sen.upper()                          #將字串中的小寫字母全轉大寫    \n",
    "#=========轉譯區==========\n",
    "for i in Sen:                              \n",
    "    if i in Morsecode.keys():              \n",
    "        code = Morsecode[i]                #若有摩斯密碼表所定義的字元，抓取字典對應key之value值進行轉譯\n",
    "        list1.append(code)                 #將轉譯後的單一字元依序丟入原先定義之list1\n",
    "    else:       \n",
    "        code = \" \"                         #字串中含有任何非上述摩斯密碼表所定義的字元，則轉譯為一空白單元(不處理)。\n",
    "        list1.append(code)\n",
    "        \n",
    "\n",
    "Incode = \" \".join(list1)                   #將轉譯後的單一字元摩斯密碼以join函數合併為字串，而每一個字元的摩斯碼之間會以一個空格隔開\n",
    "localtime = time.asctime( time.localtime(time.time()) )   #利用time的函數套件抓取現在日期及時刻\n",
    "\n",
    "#==========輸出區=========  \n",
    "print('%s的摩斯密碼為 =>%s' %(sen,Incode))                  #依照題目的輸出格式來輸出\n",
    "print (\"本程式於\", localtime,end = '')                     #依照題目的輸出格式來輸出\n",
    "print(\"執行完畢\")"
   ]
  },
  {
   "cell_type": "markdown",
   "metadata": {},
   "source": [
    "#### P2\n",
    "**請設計一個程式，判斷票價收費標準，原票價收費是 100 元，使用者輸入年紀之後程式可以計算要收取的費用，若輸入年紀小於等於 6 歲或大於 80 歲，收費打 2 折，若輸入的年紀範圍是 7-12 歲或是 60-79 歲，則收費打 5 折，最後印出收取的費用。**<br></br><br></br>\n",
    "**<font color=#0000FF>本題需要做防呆機制，如果使用者輸入的年齡不是一個整數物件、零整數或是一個負整數，則您的程式必須一直重複在輸入提示的階段，直到輸入一個正整數為止！(至於如何處理物件資料的型態匹配問題？請上網找線索)</font>**<br></br><br></br>\n",
    "\n",
    "\n",
    "**程式執行範例如下：(藍色為輸入，粉紅色為輸出)**<br></br><br></br>\n",
    "**Please enter your age : <font color=#0000FF>'Hi'</font>**<br></br>\n",
    "**Please enter your age : <font color=#0000FF>34.5</font>**<br></br>\n",
    "**Please enter your age : <font color=#0000FF>['a', 'b']</font>**<br></br>\n",
    "**Please enter your age : <font color=#0000FF>-9</font>**<br></br>\n",
    "**Please enter your age : <font color=#0000FF>25</font>**<br></br>\n",
    "\n",
    "**<font color=#FF00FF>Your age is 25 yrs old, and your ticket price is $100.00</font>**"
   ]
  },
  {
   "cell_type": "code",
   "execution_count": null,
   "metadata": {},
   "outputs": [],
   "source": [
    "price = 100.00                                   #定義原價票價為100\n",
    "\n",
    "while True:                                      #設定防呆機制，利用while和if迴圈判斷輸入值age是否為整數數值以及判斷age是否大於0。\n",
    "    age = input(\"Please enter your age : \")      #輸入區\n",
    "    if age.isdigit() == True:#判斷輸入值age是否為整數\n",
    "        if int(age) > 0:                         #判斷age是否大於0\n",
    "            if int(age) <= 6 or int(age) >= 80:   #判斷年紀小於等於 6 歲或大於 80 歲，收費打 2 折。\n",
    "                price = 0.2 * price\n",
    "                endprice = \"Your age is %s yrs old, and your ticket price is $%.2f\" %(age,price) #依照題目的輸出格式來輸出\n",
    "                print(endprice)\n",
    "                print()\n",
    "                input('Press Enter key to exit....')\n",
    "            elif 7 <= int(age) <= 12 or 60 <= int(age) <= 79:    #判斷年紀是 7-12 歲或是 60-79 歲，則收費打 5 折。\n",
    "                price = 0.5 * price\n",
    "                endprice = \"Your age is %s yrs old, and your ticket price is $%.2f\" %(age,price)#依照題目的輸出格式來輸出\n",
    "                print(endprice)\n",
    "                print()\n",
    "                input('Press Enter key to exit....')\n",
    "            else:                                     #剩下的年紀為原價。\n",
    "                endprice = \"Your age is %s yrs old, and your ticket price is $%.2f\" %(age,price)#依照題目的輸出格式來輸出\n",
    "                print(endprice)\n",
    "                print()\n",
    "                input('Press Enter key to exit....')\n",
    "                print(\"\")"
   ]
  },
  {
   "cell_type": "markdown",
   "metadata": {},
   "source": [
    "#### P3\n",
    "**所謂的迴文(Palindrome)，其定義為一個字串或數字，無論是正向或是反向讀到的順序與內容均相同。請設計一個程式，輸入 5 位數的整數，檢視並判斷此整數是否為迴文數。例如，輸入: 1221，輸出不是迴文(長度不為5)；輸入: 12345，輸出不是迴文；輸入: 51315，輸出是迴文。**"
   ]
  },
  {
   "cell_type": "code",
   "execution_count": 3,
   "metadata": {},
   "outputs": [
    {
     "name": "stdout",
     "output_type": "stream",
     "text": [
      "輸入: 12321\n",
      "輸出是迴文\n"
     ]
    }
   ],
   "source": [
    "#==========輸入區==========\n",
    "pal = [int(x) for x in input(\"輸入: \")]  #利用for迴圈做連續輸入數字\n",
    "\n",
    "#==========判斷及輸出區==========\n",
    "if len(pal) != 5:                        #判斷pal長度是否為5\n",
    "    print(\"輸出不是迴文\")                 #如否，跳出錯誤訊息並結束程式。\n",
    "    print()\n",
    "    input('Press Enter key to exit....')\n",
    "else:   \n",
    "    pal2 = pal[::-1]                         #將pal做反轉並輸入至pal2\n",
    "    if pal == pal2:                          #再判斷pal和 pal2是否相等，如相等，pal為迴文數，反之pal不為迴文數。\n",
    "        print(\"輸出是迴文\")\n",
    "    else:\n",
    "        print(\"輸出不是迴文\")\n",
    "    \n"
   ]
  },
  {
   "cell_type": "markdown",
   "metadata": {},
   "source": [
    "#### P4\n",
    "**請設計一個程式，可以任意輸入2個整數(integers)a與b(a,b可為正整數或負整數，且a≠b，a>b或是a<b均可以適用)，您的程式要在a與b之間產生10個隨機的實數(floating/real numbers)，並將這10個隨機數由小到大排序完畢，並將結果列印於螢幕上。本題需要使用到Python的【隨機亂數產生套件】,【排序方法】以及 List 物件，請自行參考教學網頁 [[1]](https://docs.python.org/3/library/random.html) [[2]](https://docs.python.org/3/library/functions.html?highlight=sorted#sorted)**"
   ]
  },
  {
   "cell_type": "code",
   "execution_count": 1,
   "metadata": {},
   "outputs": [
    {
     "name": "stdout",
     "output_type": "stream",
     "text": [
      "請輸入任一整數-100\n",
      "請輸入任一整數100\n",
      "[-76, -74, -45, -28, 20, 22, 31, 37, 38, 47]\n"
     ]
    }
   ],
   "source": [
    "import random                                #將random函數套件導入程式碼\n",
    "\n",
    "#==========輸入區==========\n",
    "a = int(input(\"請輸入任一整數\"))              #輸入a和b兩整數\n",
    "b = int(input(\"請輸入任一整數\"))\n",
    "list1 =[]                                     #設立一個空字串\n",
    "#==========判斷區==========\n",
    "if a == b:                                   #判斷a和b相等時，不執行後續的亂數選取和排序，而是直接結束程式。\n",
    "    print('a和b兩數不得相等!')\n",
    "    input('Press Enter key to exit....')\n",
    "else:                                       \n",
    "    for count in range(0,10):                #利用for迴圈重複執行10次\n",
    "        c = random.randint(a,b)              #利用random函數每次從a和b兩數之間抓取一個隨機亂數\n",
    "        list1.append(c)                       #將抓取的亂數依序放入空字串\n",
    "    \n",
    "list1.sort()                                  #將裝有10個亂數的字串做由小到大的排序\n",
    "#==========輸出區==========\n",
    "print(list1)\n"
   ]
  },
  {
   "cell_type": "markdown",
   "metadata": {},
   "source": [
    "#### P5\n",
    "**請設計一個程式，可以任意輸入一個英文句子，並依序進行以下幾個步驟的處理，將每一個步驟的處理結果輸出到螢幕上：<br></br><br></br>\n",
    "(a). 將輸入的字串使用空白字元進行字串切割，請找出句子中所有單字，並顯示所有單字出來。<br></br><br></br>\n",
    "(b). 將上述(a)中的結果以空白字元還原回原來輸入的字串。<br></br><br></br>\n",
    "(c). 將數入的字串中所有單字的字首改成大寫。<br></br><br></br>\n",
    "程式執行範例如下：(藍色為輸入，粉紅色為輸出)：<br></br><br></br>\n",
    "請輸入一行英文句子？<font color=#0000FF>The Python is a beautiful and powerful programming language !</font><br></br><br></br>\n",
    "將英文句子以空白字元切割後，獲得單字為 <font color=#FF00FF>['The', 'Python', 'is', 'a', 'beautiful', 'and', 'powerful', 'programming', 'language', '!']</font><br></br><br></br>\n",
    "以空白字元結合所有單字後，獲得句子為 <font color=#FF00FF>The Python is a beautiful and powerful programming language !</font><br></br><br></br>\n",
    "將每個單字字首轉大寫後，獲得句子為 <font color=#FF00FF>The Python Is A Beautiful And Powerful Programming Language ! </font><br></br><br></br>\n",
    "本題需要使用到Python的【字串處理方法】，請自行參考教學網頁 [[1]](https://kirin.idv.tw/python-string-basic/) [[2]](https://www.python-ds.com/python-3-string-methods) [[3]](http://web.suda.edu.cn/hejun/chapter8/python_8_2.html#python1) [[4]](https://www.programiz.com/python-programming/methods/string)**"
   ]
  },
  {
   "cell_type": "code",
   "execution_count": null,
   "metadata": {},
   "outputs": [],
   "source": [
    "#============輸入區=============\n",
    "Sen = str(input('請輸入一行英文句子？'))\n",
    "\n",
    "#============a小題==============\n",
    "space = ' '                       #將空白鍵轉為字元space\n",
    "Sen1 = Sen.split(space)           #使用spilt將字串以空白字元切割\n",
    "print(\"將英文句子以空白字元切割後，獲得單字為：%s\" %(Sen1))\n",
    "\n",
    "#============b小題==============\n",
    "Sen2 = space.join(Sen1)           #使用join將字串以space空白字元結合\n",
    "print(\"以空白字元結合所有單字後，獲得句子為：%s\" %(Sen2))\n",
    "\n",
    "#============c小題==============\n",
    "c = Sen2.title()                      #使用title將字串中每單字首轉大寫\n",
    "print(\"將每個單字字首轉大寫後，獲得句子為：%s\" %(c))\n"
   ]
  }
 ],
 "metadata": {
  "kernelspec": {
   "display_name": "Python 3",
   "language": "python",
   "name": "python3"
  },
  "language_info": {
   "codemirror_mode": {
    "name": "ipython",
    "version": 3
   },
   "file_extension": ".py",
   "mimetype": "text/x-python",
   "name": "python",
   "nbconvert_exporter": "python",
   "pygments_lexer": "ipython3",
   "version": "3.8.5"
  }
 },
 "nbformat": 4,
 "nbformat_minor": 2
}
