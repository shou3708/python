{
 "cells": [
  {
   "cell_type": "markdown",
   "metadata": {},
   "source": [
    "## <font color=#0000FF>程式作業四</font>\n",
    "1. **繳交期限為<font color=#FF6600> 2021/05/12 08:00</font> 以前上傳至 Moodle LMS 教學平台。**  \n",
    " <br></br>\n",
    "2. **上傳作業時，必須完成以下幾件事：**\n",
    "    * **將目前您所看到的此檔案(hw4.ipynb)，改為(<font color=#FF00FF>您的學號</font><font color=#0000FF>_hw4.ipynb</font>)。**\n",
    "    * **建立一個全新的資料夾，將上述作業檔案置入，並將資料夾的名稱改為<font color=#FF00FF>您的學號</font>。**\n",
    "    * **將上述包含作業的資料夾以 <font color=#FF0000>ZIP</font> 格式壓縮後上傳。**   \n",
    "    <br></br>\n",
    "3. **注意事項：**\n",
    "    * **<font color=#FF0000>所有程式作業應積極相互討論，但不得寫出同一版本或相互抄襲。您所完成繳交的作業是否有抄襲由評分的助教自行判斷，不會找您來確認，因為不會有兩個人會寫出相同的程式！所以強烈建議不要任意將自己已經完成的作業程式碼公開分享給其他同學。</font>**\n",
    "    * **<font color=#FF0000>本次作業不得使用 Pandas 套件來完成！</font>**   \n",
    "    <br></br>\n",
    "4. **評分依據：**\n",
    "    1. **標頭註解與指令註解完整度    <font color=#0000FF>30%</font>**\n",
    "    2. **程式的輸出入格式與內容 <font color=#0000FF>20%</font>**\n",
    "    3. **程式執行正確性(含)\t   <font color=#0000FF>50%</font>**    \n",
    "    <br></br>\n",
    "5. **標頭註解與指令註解的撰寫請參考教學平台上老師提供的範例，至於要使用 Markdown 或 Code comments 的方式來撰寫請自選，程式盡量【逐行】或以【區塊方式】加註解說明，越完整清楚越好。**"
   ]
  },
  {
   "cell_type": "markdown",
   "metadata": {},
   "source": [
    "### <font color=#FF6600>作業內容</font>\n"
   ]
  },
  {
   "cell_type": "markdown",
   "metadata": {},
   "source": [
    "### 臺中市110年01月份十大易肇事路段(口)　\n",
    "**資料來源：[臺中市110年01月份十大高肇事路口交通事故資料 — 台中市政府資料開放平台](https://opendata.taichung.gov.tw/dataset/2a689ba1-80cf-41c4-9f0d-b58cf601d947)**"
   ]
  },
  {
   "cell_type": "markdown",
   "metadata": {},
   "source": [
    "### <font color=#0000FF>第一題：</font>\n",
    "**請您參考老師於上課時在「CSV_JSON_XML_檔案存取與處理基礎.ipynb」教材中，曾講解過其中“<font color=#0000FF>如何下載與讀取一個在網路上其它主機內已經被ZIP壓縮過的CSV資料檔案</font>”的範例，現在上述臺中市110年01月份十大易肇事路段(口)的網頁上有 CSV 格式的資料檔，請參考老師範例，並依照以下要求完成作業：**\n",
    "1. **不可以預先手動下載「110年01月臺中市10大易肇事路口.CSV」到您的主機裡，您的程式必須模仿老師提供的範例，可到目標檔案「109年12月臺中市10大易肇事路口.CSV」所在的網址上，自動抓取檔案下載到您的主機裡存放，未做到此要求扣重分！但提醒您，老師範例中的目標檔案是有壓縮的，而此次作業中的目標檔案是沒有壓縮的，所以您不需要學範例中額外處理解壓縮部分。**\n",
    "2. **將上述下載的「110年01月臺中市10大易肇事路口.CSV」檔案內所有<font color=#FF00FF >欄位的標題</font>單獨列印成一行，每一個欄位標題前後用<font  size=\"4\" color=#0000FF>『』</font>框住，並以逗點(<font size=\"5\" color=#0000FF>，</font>)隔開，同時計算並列印出欄位的數量。**\n",
    "3. **將檔案內所有欄位標題與每一筆資料列印出來，<font color=#FF0000>每一個欄位內的資料必須盡量對齊排列</font>，可以參照如下面所呈現的格式，越整齊分數越高！**"
   ]
  },
  {
   "cell_type": "raw",
   "metadata": {},
   "source": [
    "『110年01月臺中市10大易肇事路口.csv』 共有 10 個欄位，分別為： \n",
    "『編號』,『轄區分局』,『路口名稱』,『A1』,『A2件數』,『A2受傷』,『A3』,『總件數』,『發生時間』,『主要肇因』\n",
    "\n",
    "\n",
    "編號　轄區分局　路口名稱　　　　　　A1　A2件數　A2受傷　A3　總件數　發生時間　　主要肇因　　　　　　　　　　　\n",
    "1　　第六分局　西屯區環中路西屯路　　0　　9　　　　12　　6　　15　　16-18　    未注意車前狀態　　　　　　　　\n",
    "2　　第六分局　西屯區文心路臺灣大道　0　　7　　　　8　　 7　　14　　16-18　    其他引起事故之違規或不當行為　\n",
    "3　　第六分局　西屯區惠中路臺灣大道　0　　8　　　　14　　6　　14　　20-22　    違反特定標誌(線)禁制　　　　\n",
    "4　　第六分局　西屯區安和路臺灣大道　0　　5　　　　7　　 7　　12　　8-10　　   未依規定讓車　　　　　　　　　\n",
    "5　　第六分局　西屯區中清路環中路　　0　　1　　　　1　　11　  12　　14-16　    未保持行車安全間隔　　　　　　\n",
    "6　　第六分局　西屯區青海路黎明路　　0　　10　　　15　　 1　　11　　16-18　    未依規定讓車　　　　　　　　　\n",
    "7　　豐原分局　豐原區三豐路國豐路　　0　　3　　　　4　　 7　　10　　 6-8　　　  未保持行車安全距離　　　　　　\n",
    "8　　第五分局　北屯區北屯路松竹路　　0　　4　　　　4　　 5　　9　　　16-18　    未注意車前狀態　　　　　　　　\n",
    "9　　第二分局　北區精武路雙十路　　　0　　4　　　　4　　 5　　9　　　16-18　    未保持行車安全間隔　　　　　　\n",
    "10　 第六分局　西屯區東大路臺灣大道　0　　6　　　　10　　2　　8　　　8-10　　   未注意車前狀態　"
   ]
  },
  {
   "cell_type": "code",
   "execution_count": 1,
   "metadata": {},
   "outputs": [
    {
     "name": "stdout",
     "output_type": "stream",
     "text": [
      "['編號', '轄區分局', '路口名稱', 'A1', 'A2件數', 'A2受傷', 'A3', '總件數', '發生時間', '主要肇因']\n",
      "['1', '第六分局', '西屯區臺灣大道黎明路', '0', '10', '15', '7', '17', '18-20', '違反號誌管制或指揮']\n",
      "['2', '第六分局', '西屯區臺灣大道惠中路', '0', '7', '9', '8', '15', '14-16', '未注意車前狀態']\n",
      "['3', '第六分局', '西屯區臺灣大道文心路', '0', '9', '11', '5', '14', '14-16', '未注意車前狀態']\n",
      "['4', '第六分局', '西屯區中清聯絡道環中路', '0', '0', '0', '12', '12', '18-20', '未保持行車安全間隔']\n",
      "['5', '第四分局', '南屯區五權西路二段環中路', '0', '6', '6', '6', '12', '16-18', '未注意車前狀態']\n",
      "['6', '第五分局', '北屯區文心路崇德路', '0', '10', '12', '1', '11', '8-10', '違反特定標誌(線)禁制']\n",
      "['7', '第三分局', '南區忠明南路國光路', '0', '4', '4', '7', '11', '10-12', '未依規定讓車']\n",
      "['8', '第三分局', '南區國光路復興路', '0', '8', '10', '2', '10', '8-10', '違反特定標誌(線)禁制']\n",
      "['9', '第一分局', '西區自由路林森路', '0', '9', '9', '1', '10', '10-12', '違反特定標誌(線)禁制']\n",
      "['10', '第六分局', '西屯區工業區一路臺灣大道', '0', '5', '5', '4', '9', '8-10', '未注意車前狀態']\n",
      "['', '', '', '', '', '', '', '', '', '']\n",
      "['', '', '', '', '', '', '', '', '', '']\n",
      "['', '', '', '', '', '', '', '', '', '']\n",
      "['', '', '', '', '', '', '', '', '', '']\n",
      "['', '', '', '', '', '', '', '', '', '']\n"
     ]
    }
   ],
   "source": [
    "import csv\n",
    "from io import TextIOWrapper\n",
    "\n",
    "from io import BytesIO\n",
    "import requests # downloading with requests, and import the requests library\n",
    "import urllib   # downloading with urllib, and import the urllib library\n",
    "from urllib.request import urlretrieve  # used to copy a network object to a local file\n",
    "\n",
    "url = ' https://datacenter.taichung.gov.tw/swagger/OpenData/6ba3686b-f529-4353-8c7a-2d6a08e1642c' #抓取網址\n",
    "\n",
    "# Copy a network object to a local file\n",
    "urlretrieve(url, \"csvdata.csv\")\n",
    "\n",
    "\n",
    "with open('csvdata.csv',encoding = 'utf-8-sig',newline = '') as csvfile: #開啟檔案，以utf-8以讀取到中文\n",
    "    polts = csv.reader(csvfile) #讀取檔案的資料\n",
    "    \n",
    "    for rows in polts: #以迴圈呈現\n",
    "        print(rows)\n"
   ]
  },
  {
   "cell_type": "markdown",
   "metadata": {},
   "source": [
    "### <font color=#0000FF>第二題：</font>\n",
    "**題目要求完全與第一題一樣，但目標檔案是「110年01月臺中市10大易肇事路口.JSON」**\n",
    "                                                      "
   ]
  },
  {
   "cell_type": "code",
   "execution_count": 13,
   "metadata": {},
   "outputs": [
    {
     "name": "stdout",
     "output_type": "stream",
     "text": [
      "1  第六分局  西屯區臺灣大道黎明路0  10  15  7  17  18-20  違反號誌管制或指揮\n",
      "2  第六分局  西屯區臺灣大道惠中路0  7  9  8  15  14-16  未注意車前狀態\n",
      "3  第六分局  西屯區臺灣大道文心路0  9  11  5  14  14-16  未注意車前狀態\n",
      "4  第六分局  西屯區中清聯絡道環中路0  0  0  12  12  18-20  未保持行車安全間隔\n",
      "5  第四分局  南屯區五權西路二段環中路0  6  6  6  12  16-18  未注意車前狀態\n",
      "6  第五分局  北屯區文心路崇德路0  10  12  1  11  8-10  違反特定標誌(線)禁制\n",
      "7  第三分局  南區忠明南路國光路0  4  4  7  11  10-12  未依規定讓車\n",
      "8  第三分局  南區國光路復興路0  8  10  2  10  8-10  違反特定標誌(線)禁制\n",
      "9  第一分局  西區自由路林森路0  9  9  1  10  10-12  違反特定標誌(線)禁制\n",
      "10  第六分局  西屯區工業區一路臺灣大道0  5  5  4  9  8-10  未注意車前狀態\n",
      "                \n",
      "                \n",
      "                \n",
      "                \n",
      "                \n"
     ]
    }
   ],
   "source": [
    "import json\n",
    "from io import TextIOWrapper\n",
    "\n",
    "from io import BytesIO\n",
    "import requests # downloading with requests, and import the requests library\n",
    "import urllib   # downloading with urllib, and import the urllib library\n",
    "from urllib.request import urlretrieve  # used to copy a network object to a local file\n",
    "\n",
    "url = ' https://datacenter.taichung.gov.tw/swagger/OpenData/c5a1044e-e7f0-4227-9734-d9278cf62311' #抓取網址\n",
    "\n",
    "# Copy a network object to a local file\n",
    "urlretrieve(url, \"data/jsondata.json\")\n",
    "\n",
    "with open('data/jsondata.json', encoding = 'utf-8-sig') as jsonfile:  #開啟檔案，以utf-8以讀取到中文\n",
    "    \n",
    "    \n",
    "    data = json.load(jsonfile)  #讀取檔案資料\n",
    "    for item in data: #以迴圈呈現\n",
    "        print(item[\"編號\"] + \"  \" + item[\"轄區分局\"] + \"  \" + item[\"路口名稱\"] + item[\"A1\"] + \"  \" + item[\"A2件數\"] + \"  \" + item[\"A2受傷\"] + \"  \" + item[\"A3\"] + \"  \" + item[\"總件數\"] + \"  \" + item[\"發生時間\"] + \"  \" + item[\"主要肇因\"])\n",
    "        "
   ]
  },
  {
   "cell_type": "markdown",
   "metadata": {},
   "source": [
    "### <font color=#0000FF>第三題：</font>\n",
    "**題目要求完全與第一題一樣，但目標檔案是「110年01月臺中市10大易肇事路口.XML」**                                                "
   ]
  },
  {
   "cell_type": "code",
   "execution_count": null,
   "metadata": {},
   "outputs": [],
   "source": [
    "#  put your codes here"
   ]
  },
  {
   "cell_type": "markdown",
   "metadata": {},
   "source": [
    "**<font color=#FF0000>在繳交作業時，以您學號為名的資料夾內只允許有這一份 <您的學號_hw4.ipynb> 檔案，要有完整的標頭與註解說明，同時不得有其它任何格式的資料檔或資料夾預存在內，您的作業在驗收執行時要一條龍式(網路上找到檔案下載 → 解壓縮讀取檔案內的資料 → 依作業要求來呈現格式化的資料)的自動完成這三題的所有要求！</font>**"
   ]
  }
 ],
 "metadata": {
  "kernelspec": {
   "display_name": "Python 3",
   "language": "python",
   "name": "python3"
  },
  "language_info": {
   "codemirror_mode": {
    "name": "ipython",
    "version": 3
   },
   "file_extension": ".py",
   "mimetype": "text/x-python",
   "name": "python",
   "nbconvert_exporter": "python",
   "pygments_lexer": "ipython3",
   "version": "3.8.5"
  }
 },
 "nbformat": 4,
 "nbformat_minor": 2
}
