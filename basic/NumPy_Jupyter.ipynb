{
 "cells": [
  {
   "cell_type": "markdown",
   "metadata": {},
   "source": [
    "### Python資料科學套件\n",
    "#### Python資料科學套件是用來處理、分析和視覺化我們取得的資料，主要是指 NumPy、Pandas 和 Matplotlib 三大套件，其簡單說明如下所示：\n",
    "1. **<font color=#0000FF>NumPy套件</font>：一套強調<font color=#FF00FF>高效率陣列處理的Python數學套件</font>，可以幫助我們進行向量和矩陣運算。**\n",
    "1. **<font color=#0000FF>Pandas套件</font>：<font color=#FF00FF>Python程式碼版的Excel試算表工具</font>，可以幫助我們進行資料處理和分析。**\n",
    "1. **<font color=#0000FF>Matplotlib套件</font>：<font color=#FF00FF>2D/3D繪圖函數庫的資料視覺化工具</font>，支援各種統計圖表的繪製，可以幫助我們視覺化探索資料和顯示資料分析結果。**\n",
    "\n",
    "#### **Python資料科學套件之間的關聯**<br></br>\n",
    "<div><img src=\"pic/pythonecosystem.gif\" width=\"700\"/></div>\n",
    "<br></br><br></br>\n",
    "\n",
    "### **Python資料科學處理實務流程**<br></br>\n",
    "<div><img src=\"pic/datascienceflowchart.gif\" width=\"700\"/></div>"
   ]
  },
  {
   "cell_type": "markdown",
   "metadata": {},
   "source": [
    "## <ins>Numpy 教材與程式範例</ins>\n",
    "#### NumPy [(wiki)](https://zh.wikipedia.org/wiki/NumPy)是能以高速進行陣列運算的函式庫。它是在 <font color=#0000FF>CPython</font> 上開發出來，可以克服傳統 CPython 上使用 list 或 tuple 藉由巢狀結構來表現一維與多維陣列的慢速存取缺點。\n",
    "#### NumPy 陣列處理的特色：\n",
    "1. **有效率（Efficient）**\n",
    "2. **在記憶體內運算（In-memory, RAM）**\n",
    "3. **佔連續記憶體位址（Contiguous or Strided)， 參考 [[1]](https://zhuanlan.zhihu.com/p/56684539), [[2]](https://jakevdp.github.io/blog/2014/05/09/why-python-is-slow/)**\n",
    "4. **同質性的資料型態（Homogeneous but types can be algebraic）**\n",
    "\n",
    "#### NumPy 中高速陣列運算的基礎便是多維陣列物件 <font color=#0000FF>ndarray</font>，除此之外 Numpy 也提供以下功能：\n",
    "1. **Universal 函式（可回傳 ndarray 裡每個元素進行處理的結果）**\n",
    "2. **各種函式群（數學函式/線性代數/統計處理）**\n",
    "3. **與其他語言間的溝通介面（C/C++/Fortran）**\n",
    "4. **能將陣列運算以 C 語言這樣的低階語言高速實作**\n",
    "5. **能將資料統整於 CPU 的暫存器有效率讀出**\n",
    "6. **能受惠於 CPU 的向量運算（Intel的 SSE 或 AVX 的 SIMD 運算）**\n",
    "\n",
    "#### Numpy 生態系統（Ecosystem）\n",
    "<img align=\"left\" src=\"pic/numpyeco.gif\" width=\"350\" style=\"margin: 50px 20px\" />\n",
    "<img align=\"left\" src=\"pic/numpy_scientific_domains.jpeg\" width=\"500\" style=\"margin: 0px 20px\"/>\n",
    "<br></br>\n",
    "<img src=\"pic/ecosystem.png\" width=\"400\" style=\"margin: 0 auto\"/>\n"
   ]
  },
  {
   "cell_type": "markdown",
   "metadata": {
    "slideshow": {
     "slide_type": "skip"
    }
   },
   "source": [
    "**重要教學參考網頁：**\n",
    "1. **[NumPy Manual（官網）](https://www.numpy.org/devdocs/index.html)**\n",
    "1. **[NumPy Reference（官網）](https://docs.scipy.org/doc/numpy-1.16.1/reference/index.html)**\n",
    "1. **[Scientific Computing Tools for Python](https://www.scipy.org/about.html#)**\n",
    "1. **[SciPy+NumPy Lecture Notes](https://scipy-lectures.org/)**\n",
    "1. **[NumPy, SciPy & Matplotlib – a scientist’s best friends](https://www.physik.uzh.ch/~python/python_2015-01/lecture4/che_numpy.pdf)**\n",
    "1. **[Comparing SciPy, NumPy and Matplotlib](https://www.c-sharpcorner.com/article/comparing-scipy-numpy-matplotlib-and-pylab/)**\n",
    "1. **[After 15 Long Years, a NumPy Paper Finally Appears!](https://syncedreview.com/2020/09/17/after-15-long-years-a-numpy-paper-finally-appears/)**\n",
    "1. **[Why Python is the best choice for financial data modelling](https://medium.com/pyfinance/why-python-is-best-choice-for-financial-data-modeling-in-2019-c0d0d1858c45)**\n",
    "1. **Numpy 的 statsmodels 套件 [（官網）](https://www.statsmodels.org/stable/index.html) [（所有的 API）](https://www.statsmodels.org/stable/api.html)**"
   ]
  },
  {
   "cell_type": "code",
   "execution_count": 2,
   "metadata": {
    "slideshow": {
     "slide_type": "slide"
    }
   },
   "outputs": [],
   "source": [
    "import numpy as np"
   ]
  },
  {
   "cell_type": "markdown",
   "metadata": {},
   "source": [
    "### 線性代數的數值運算函式庫\n",
    "1. **[BLAS與LAPACK函式庫](https://chenhh.gitbooks.io/parallel_processing/blas/)**\n",
    "2. **[「首席架構師推薦」數值計算庫一覽表](https://kknews.cc/zh-tw/code/bz4zrj6.html)**\n",
    "3. **[矩陣運算庫 blas, cblas, openblas, atlas, lapack, mkl 之間有什麼關係](https://www.zhihu.com/question/27872849)**\n",
    "4. **Intel MKL  [[1]](https://en.wikipedia.org/wiki/Math_Kernel_Library) [[2]](https://medium.com/@black_swan/ubuntu-%E4%BD%BF%E7%94%A8-intel-mkl-%E5%8A%A0%E9%80%9F-numpy-71ef7587af47) [[3]](https://scc.ustc.edu.cn/zlsc/sugon/intel/mkl/mkl_userguide/GUID-43679587-9B39-42A7-B516-5C437303126E.htm)**"
   ]
  },
  {
   "cell_type": "code",
   "execution_count": null,
   "metadata": {},
   "outputs": [],
   "source": [
    "np.__config__.show()"
   ]
  },
  {
   "cell_type": "markdown",
   "metadata": {},
   "source": [
    "1. **How to install BLAS in Anaconda? [[1]](https://anaconda.org/conda-forge/blas)**\n",
    "2. **How to install OpenBlas in Anaconda? [[1]](https://anaconda.org/conda-forge/openblas)**\n",
    "3. **How to install Intel MKL in Anaconda? [[1]](https://anaconda.org/intel/mkl)**\n",
    "4. **How to install Lapack in Anaconda? [[1]](https://anaconda.org/conda-forge/lapack)**"
   ]
  },
  {
   "cell_type": "code",
   "execution_count": null,
   "metadata": {
    "slideshow": {
     "slide_type": "subslide"
    }
   },
   "outputs": [],
   "source": [
    "dir(np) "
   ]
  },
  {
   "cell_type": "markdown",
   "metadata": {},
   "source": [
    "#### 或輸入 < np. > 後按 <Tab 鍵>"
   ]
  },
  {
   "cell_type": "code",
   "execution_count": null,
   "metadata": {
    "slideshow": {
     "slide_type": "subslide"
    }
   },
   "outputs": [],
   "source": [
    "np.abs?"
   ]
  },
  {
   "cell_type": "markdown",
   "metadata": {},
   "source": [
    "### **Numpy 資料型別**\n",
    "<div><img src=\"pic/numpy_data_type.gif\" width=\"500\"/></div>\n",
    "\n",
    "#### 詳細資料型別請參考 [(1)](https://docs.scipy.org/doc/numpy-1.16.1/reference/arrays.scalars.html)"
   ]
  },
  {
   "cell_type": "markdown",
   "metadata": {
    "slideshow": {
     "slide_type": "slide"
    }
   },
   "source": [
    "### **使用資料型別的範例**"
   ]
  },
  {
   "cell_type": "code",
   "execution_count": 3,
   "metadata": {
    "slideshow": {
     "slide_type": "subslide"
    }
   },
   "outputs": [
    {
     "data": {
      "text/plain": [
       "34"
      ]
     },
     "execution_count": 3,
     "metadata": {},
     "output_type": "execute_result"
    }
   ],
   "source": [
    "a = np.uint16(34) # 16位元無號整數\n",
    "a"
   ]
  },
  {
   "cell_type": "code",
   "execution_count": null,
   "metadata": {},
   "outputs": [],
   "source": [
    "dir(a)"
   ]
  },
  {
   "cell_type": "code",
   "execution_count": null,
   "metadata": {
    "slideshow": {
     "slide_type": "subslide"
    }
   },
   "outputs": [],
   "source": [
    "b = np.complex128([3.2, 4.2 + 1.09j]) #128位元複數的串列 \n",
    "b"
   ]
  },
  {
   "cell_type": "code",
   "execution_count": null,
   "metadata": {
    "slideshow": {
     "slide_type": "subslide"
    }
   },
   "outputs": [],
   "source": [
    "c = np.array([2334.432, 2.23], dtype = np.single)  #單精準浮點數的 ndarray"
   ]
  },
  {
   "cell_type": "code",
   "execution_count": null,
   "metadata": {
    "slideshow": {
     "slide_type": "subslide"
    }
   },
   "outputs": [],
   "source": [
    "c1 = np.array([2334.432, 2.23])  #單精準浮點數的 ndarray"
   ]
  },
  {
   "cell_type": "code",
   "execution_count": null,
   "metadata": {},
   "outputs": [],
   "source": [
    "c1"
   ]
  },
  {
   "cell_type": "markdown",
   "metadata": {
    "slideshow": {
     "slide_type": "slide"
    }
   },
   "source": [
    "ndarray.flags 返回 ndarray 對象的內存信息，包含以下屬性：\n",
    "\n",
    "|屬性|描述|\n",
    "|:-|:-| \n",
    "| C_CONTIGUOUS | 數據是在一個單一的C風格的連續段中 |\n",
    "| F_CONTIGUOUS | 數據是在一個單一的Fortran風格的連續段中 |\n",
    "| OWNDATA | 數組擁有它所使用的內存或從另一個對像中借用它 |\n",
    "| WRITEABLE | 數據區域可以被寫入，將該值設置為False，則數據為只讀 |\n",
    "| ALIGNED | 數據和所有元素都適當地對齊到硬件上 |\n",
    "| UPDATEIFCOPY | 這個數組是其它數組的一個副本，當這個數組被釋放時，原數組的內容將被更新 |\n",
    "\n",
    "#### **提示：**\n",
    "1. **Numpy的純量(Scalar)與Python的純量不完全相同，是稱為<font color=#0000FF>「陣列純量(array scalar)」</font>，意指既是純量也具有陣列的性質，NumPy想將純量與陣列用統一的機制來處理。**\n",
    "2. **NumPy的純量為<font color=#FF0000>immutable(無法更動)</font>，與Python裡的數值型別相同。**"
   ]
  },
  {
   "cell_type": "code",
   "execution_count": null,
   "metadata": {
    "slideshow": {
     "slide_type": "slide"
    }
   },
   "outputs": [],
   "source": [
    "c.flags\n",
    "# Numpy的純量(Scalar)需參考 ndarray 屬性之一的 flag，請注意 WRITEABLE 是 False，代表 immutable(不可更動)與 Python 的數值型別相同"
   ]
  },
  {
   "cell_type": "markdown",
   "metadata": {},
   "source": [
    "#### 向量（Vector）：向量是方向和大小值，常常用來表示速度、加速度和動力等，向量是一序列數值，有多種表示方法，在NumPy是使用<font color=#FF00FF>一維陣列</font>來表示，如下圖所示：\n",
    "<div><img src=\"pic/vector.gif\" width=\"200\"/></div>\n",
    "\n",
    "**陣列（Arrays）類似Python的串列（Lists），不過<font color=#FF0000>陣列元素的資料型態必須是相同的</font>，不同於清單可以不同。\n",
    "陣列是程式語言的一種基本資料結構，屬於循序性的資料結構。**"
   ]
  },
  {
   "cell_type": "code",
   "execution_count": null,
   "metadata": {
    "slideshow": {
     "slide_type": "fragment"
    }
   },
   "outputs": [],
   "source": [
    "d = np.array([1, 2, 3]) # 陣列"
   ]
  },
  {
   "cell_type": "code",
   "execution_count": null,
   "metadata": {
    "slideshow": {
     "slide_type": "fragment"
    }
   },
   "outputs": [],
   "source": [
    "d[0], d[1], d[2]"
   ]
  },
  {
   "cell_type": "code",
   "execution_count": null,
   "metadata": {
    "slideshow": {
     "slide_type": "fragment"
    }
   },
   "outputs": [],
   "source": [
    "d[1] = 4"
   ]
  },
  {
   "cell_type": "code",
   "execution_count": null,
   "metadata": {
    "slideshow": {
     "slide_type": "fragment"
    }
   },
   "outputs": [],
   "source": [
    "d"
   ]
  },
  {
   "cell_type": "code",
   "execution_count": null,
   "metadata": {
    "slideshow": {
     "slide_type": "fragment"
    }
   },
   "outputs": [],
   "source": [
    "d.flags"
   ]
  },
  {
   "cell_type": "markdown",
   "metadata": {},
   "source": [
    "### **NumPy 資料型別的指定範例 - 以 Generic Type 來指定** [[1](https://iter01.com/416824.html)], [[2](https://wizardforcel.gitbooks.io/ts-numpy-tut/content/3.html)], [[3](https://www.runoob.com/numpy/numpy-dtype.html)]"
   ]
  },
  {
   "cell_type": "code",
   "execution_count": 4,
   "metadata": {},
   "outputs": [],
   "source": [
    "# dtype 物件指定例子，能以 dtype 引數指定的物件\n",
    "dt = np.dtype('float')"
   ]
  },
  {
   "cell_type": "code",
   "execution_count": 5,
   "metadata": {},
   "outputs": [
    {
     "data": {
      "text/plain": [
       "dtype('float64')"
      ]
     },
     "execution_count": 5,
     "metadata": {},
     "output_type": "execute_result"
    }
   ],
   "source": [
    "dt"
   ]
  },
  {
   "cell_type": "code",
   "execution_count": null,
   "metadata": {},
   "outputs": [],
   "source": [
    "type(dt)"
   ]
  },
  {
   "cell_type": "code",
   "execution_count": null,
   "metadata": {},
   "outputs": [],
   "source": [
    "dir(dt)"
   ]
  },
  {
   "cell_type": "code",
   "execution_count": null,
   "metadata": {},
   "outputs": [],
   "source": [
    "dt.type"
   ]
  },
  {
   "cell_type": "code",
   "execution_count": 6,
   "metadata": {},
   "outputs": [],
   "source": [
    "# 產生 ndarray 時指定 dtype (使用 dtype 物件)\n",
    "x = np.array([1.1, 2.1, 3.1], dtype = dt)"
   ]
  },
  {
   "cell_type": "code",
   "execution_count": 7,
   "metadata": {},
   "outputs": [
    {
     "data": {
      "text/plain": [
       "  C_CONTIGUOUS : True\n",
       "  F_CONTIGUOUS : True\n",
       "  OWNDATA : True\n",
       "  WRITEABLE : True\n",
       "  ALIGNED : True\n",
       "  WRITEBACKIFCOPY : False\n",
       "  UPDATEIFCOPY : False"
      ]
     },
     "execution_count": 7,
     "metadata": {},
     "output_type": "execute_result"
    }
   ],
   "source": [
    "x.flags"
   ]
  },
  {
   "cell_type": "code",
   "execution_count": null,
   "metadata": {},
   "outputs": [],
   "source": [
    "# 產生 ndarray 時指定 dtype (直接以字串指定)\n",
    "y = np.array([1.1, 2.1, 3.1], dtype = 'float')"
   ]
  },
  {
   "cell_type": "code",
   "execution_count": null,
   "metadata": {},
   "outputs": [],
   "source": [
    "y.flags"
   ]
  },
  {
   "cell_type": "markdown",
   "metadata": {},
   "source": [
    "### **NumPy 資料型別的指定範例 - 以 Python 內建型別來指定**"
   ]
  },
  {
   "cell_type": "code",
   "execution_count": null,
   "metadata": {},
   "outputs": [],
   "source": [
    "z = np.array([1.1+2.1j, 2.1-3.4j], dtype = 'cfloat') # 複數\n",
    "z"
   ]
  },
  {
   "cell_type": "code",
   "execution_count": null,
   "metadata": {},
   "outputs": [],
   "source": [
    "z.dtype"
   ]
  },
  {
   "cell_type": "code",
   "execution_count": null,
   "metadata": {},
   "outputs": [],
   "source": [
    "type(z)"
   ]
  },
  {
   "cell_type": "markdown",
   "metadata": {},
   "source": [
    "### **NumPy 資料型別的指定範例 - 以 NumPy 內建型別指定方法或使用它的型別名稱縮寫、字碼來指定**"
   ]
  },
  {
   "cell_type": "code",
   "execution_count": 8,
   "metadata": {},
   "outputs": [],
   "source": [
    "# 指定 dtype 物件\n",
    "dt1 = np.dtype(np.int8)\n",
    "dt1 = np.dtype('i1')"
   ]
  },
  {
   "cell_type": "code",
   "execution_count": 9,
   "metadata": {},
   "outputs": [],
   "source": [
    "# 指定 dtype 物件\n",
    "dt2 = np.dtype(np.int16)\n",
    "dt2 = np.dtype('i2')"
   ]
  },
  {
   "cell_type": "code",
   "execution_count": 10,
   "metadata": {},
   "outputs": [],
   "source": [
    "# 指定 dtype 物件\n",
    "dt3 = np.dtype(np.int32)\n",
    "dt3 = np.dtype('i4')"
   ]
  },
  {
   "cell_type": "code",
   "execution_count": 11,
   "metadata": {},
   "outputs": [],
   "source": [
    "# 指定 dtype 物件\n",
    "dt4 = np.dtype(np.int64)\n",
    "dt4 = np.dtype('i8')"
   ]
  },
  {
   "cell_type": "code",
   "execution_count": 12,
   "metadata": {},
   "outputs": [
    {
     "data": {
      "text/plain": [
       "array([1.1+2.1j, 2.1-3.4j], dtype=complex64)"
      ]
     },
     "execution_count": 12,
     "metadata": {},
     "output_type": "execute_result"
    }
   ],
   "source": [
    "# 產生 ndarray 時指定 dtype\n",
    "w = np.array([1.1+2.1j, 2.1-3.4j], dtype = 'complex64') # 複數\n",
    "w = np.array([1.1+2.1j, 2.1-3.4j], dtype = 'c8') # 複數\n",
    "w"
   ]
  },
  {
   "cell_type": "markdown",
   "metadata": {},
   "source": [
    "[Data type objects (dtype)](https://docs.scipy.org/doc/numpy/reference/arrays.dtypes.html#arrays-dtypes-constructing)"
   ]
  },
  {
   "cell_type": "markdown",
   "metadata": {},
   "source": [
    "[numpy 學習彙總10-dtype數據類型](https://www.twblogs.net/a/5bf5eb39bd9eee37a060d2b4)"
   ]
  },
  {
   "cell_type": "code",
   "execution_count": 13,
   "metadata": {},
   "outputs": [],
   "source": [
    "ints = np.ones(10, dtype = np.uint16)"
   ]
  },
  {
   "cell_type": "code",
   "execution_count": 14,
   "metadata": {},
   "outputs": [
    {
     "data": {
      "text/plain": [
       "array([1, 1, 1, 1, 1, 1, 1, 1, 1, 1], dtype=uint16)"
      ]
     },
     "execution_count": 14,
     "metadata": {},
     "output_type": "execute_result"
    }
   ],
   "source": [
    "ints"
   ]
  },
  {
   "cell_type": "code",
   "execution_count": null,
   "metadata": {},
   "outputs": [],
   "source": [
    "floats = np.ones(10, dtype = np.float32)"
   ]
  },
  {
   "cell_type": "code",
   "execution_count": null,
   "metadata": {},
   "outputs": [],
   "source": [
    "floats"
   ]
  },
  {
   "cell_type": "code",
   "execution_count": null,
   "metadata": {},
   "outputs": [],
   "source": [
    "np.issubdtype(ints.dtype, np.integer)"
   ]
  },
  {
   "cell_type": "code",
   "execution_count": null,
   "metadata": {},
   "outputs": [],
   "source": [
    "np.issubdtype(floats.dtype, np.floating)"
   ]
  },
  {
   "cell_type": "code",
   "execution_count": null,
   "metadata": {},
   "outputs": [],
   "source": [
    "np.float64.mro() #查看父資料型態類別"
   ]
  },
  {
   "cell_type": "markdown",
   "metadata": {},
   "source": [
    "#### **使用 array() 函數建立 NumPy 陣列**"
   ]
  },
  {
   "cell_type": "code",
   "execution_count": 15,
   "metadata": {},
   "outputs": [
    {
     "name": "stdout",
     "output_type": "stream",
     "text": [
      "type(a) :  <class 'numpy.ndarray'> \n",
      "\n",
      "a[0] :  1 \n",
      "a[1] :  2 \n",
      "a[2] :  3 \n",
      "a[3] :  4 \n",
      "a[4] :  5\n",
      "\n",
      "type(b) :  <class 'numpy.ndarray'> \n",
      "\n",
      "b.flags : \n",
      "  C_CONTIGUOUS : True\n",
      "  F_CONTIGUOUS : True\n",
      "  OWNDATA : True\n",
      "  WRITEABLE : True\n",
      "  ALIGNED : True\n",
      "  WRITEBACKIFCOPY : False\n",
      "  UPDATEIFCOPY : False\n",
      "\n",
      "\n",
      "b =  [5 2 3 4 5] \n",
      "\n",
      "b =  [5 2 3 4 0]\n"
     ]
    }
   ],
   "source": [
    "listdata = [1, 2, 3, 4, 5]     # 一個 python list 型別資料\n",
    "\n",
    "tupledata = (1, 2, 3, 4, 5)    # 一個 python tupple 型別資料\n",
    "\n",
    "a = np.array(listdata)    # 強迫轉成 numpy ndarray\n",
    "\n",
    "b = np.array(tupledata)   # 強迫轉成 numpy ndarray\n",
    "\n",
    "print(\"type(a) : \", type(a), '\\n')  \n",
    "\n",
    "# 用陣列索引值讀取資料\n",
    "print(\"a[0] : \", a[0], \"\\na[1] : \", a[1], \"\\na[2] : \", a[2], \"\\na[3] : \", a[3], \"\\na[4] : \", a[4])\n",
    "\n",
    "print()\n",
    "\n",
    "print(\"type(b) : \", type(b), '\\n')\n",
    "\n",
    "#\n",
    "# 原來的 tuple 資料在 numpy array 中變成可讀寫的模式\n",
    "#\n",
    "print(\"b.flags : \\n\", b.flags, '\\n', sep = '')  # WRITEABLE : True \n",
    "\n",
    "b[0] = 5    \n",
    "print(\"b = \", b, '\\n') \n",
    "\n",
    "b[4] = 0\n",
    "print(\"b = \", b)   "
   ]
  },
  {
   "cell_type": "markdown",
   "metadata": {},
   "source": [
    "### **體驗 NumPy 的運算速度**"
   ]
  },
  {
   "cell_type": "code",
   "execution_count": 16,
   "metadata": {},
   "outputs": [
    {
     "name": "stdout",
     "output_type": "stream",
     "text": [
      "輸入要產生用來測試的隨機亂數個數 : 10\n",
      "\n",
      "Using Numpy : 0.005986 sec.\n",
      "\n",
      "Without Using Numpy : 0.001995 sec.\n",
      "\n"
     ]
    }
   ],
   "source": [
    "import time\n",
    "import numpy as np\n",
    "\n",
    "def calculate(n):\n",
    "    \n",
    "    a = np.random.randn(n)    # 依照常態分佈產生亂數 \n",
    "    \n",
    "    b = list(a)    # 強迫轉型為 Python List 型別\n",
    "    \n",
    "    start_time = time.time()\n",
    "    \n",
    "    for _ in range(1000):\n",
    "        \n",
    "        sum_1 = np.sum(a)  # 使用 numpy 中的 sum()\n",
    "        \n",
    "    print('Using Numpy : %f sec.\\n' % (time.time() - start_time))\n",
    "    \n",
    "    start_time = time.time()\n",
    "    \n",
    "    for _ in range(1000):\n",
    "        \n",
    "        sum_2 = sum(b)  # 使用 python 中內建的 sum()\n",
    "        \n",
    "    print('Without Using Numpy : %f sec.\\n' % (time.time() - start_time))\n",
    "    \n",
    "    \n",
    "n = int(input('輸入要產生用來測試的隨機亂數個數 : '))  # 建議以 10, 100, 1000, 10000, 100000 分別來測\n",
    "print()\n",
    "calculate(n)"
   ]
  },
  {
   "cell_type": "markdown",
   "metadata": {},
   "source": [
    "#### 矩陣（Matrix）：矩陣類似向量，只是形狀是二維表格的列（Rows）和欄（Columns），我們需要使用列和欄來取得指定元素值，在NumPy是使用二維陣列方式來表示，如下圖所示：\n",
    "<p>\n",
    "\n",
    "<div><img src=\"pic/matrix.gif\" width=\"300\"/></div>\n",
    "\n",
    "**Numpy中的多維陣列是指「二維陣列」（two-dimensional arrays）以上維度的陣列（含二維），屬於一維陣列的擴充，如果將一維陣列想像成是一度空間的線；二維陣列是二度空間的平面，需要使用2個索引才能定位二維陣列的指定元素。\n",
    "在日常生活中，二維陣列的應用非常廣泛，只要是平面的各式表格，都可以轉換成二維陣列，例如：月曆、功課表等。如果繼續擴充二維陣列，還可以建立三維、四維等更多維的陣列，如下圖所示：**<p>\n",
    "\n",
    "<div><img src=\"pic/numpy_matrix.gif\" width=\"350\"/></div>\n",
    "\n",
    "**Numpy中不同維度的陣列圖像，如下圖所示：**<p>\n",
    "<div><img src=\"pic/numpy-123d-array.png\" width=\"700\"/></div>\n",
    "\n",
    "**請詳讀了解：[Converting 2D numpy array to 3D array without looping](https://stackoverflow.com/questions/47167305/converting-2d-numpy-array-to-3d-array-without-looping)**\n"
   ]
  },
  {
   "cell_type": "markdown",
   "metadata": {},
   "source": [
    "#### **使用巢狀清單建立 NumPy 二維陣列**\n",
    "<p>\n",
    "\n",
    "<div><img src=\"pic/2Dmatrix1.gif\" width=\"300\"/></div>"
   ]
  },
  {
   "cell_type": "code",
   "execution_count": 17,
   "metadata": {},
   "outputs": [
    {
     "name": "stdout",
     "output_type": "stream",
     "text": [
      "1 2 3\n",
      "4 5 6\n",
      "\n",
      "a = \n",
      " [[6 2 3]\n",
      " [4 5 1]]\n"
     ]
    }
   ],
   "source": [
    "a = np.array([[1, 2, 3], [4, 5, 6]])\n",
    "\n",
    "print(a[0, 0], a[0, 1], a[0, 2])\n",
    "\n",
    "print(a[1, 0], a[1, 1], a[1, 2])\n",
    "\n",
    "a[0, 0] = 6\n",
    "\n",
    "a[1, 2] = 1\n",
    "\n",
    "print(\"\\na = \\n\", a)"
   ]
  },
  {
   "cell_type": "code",
   "execution_count": null,
   "metadata": {},
   "outputs": [],
   "source": [
    "np.sum?"
   ]
  },
  {
   "cell_type": "code",
   "execution_count": 18,
   "metadata": {},
   "outputs": [
    {
     "data": {
      "text/plain": [
       "array([10,  7,  4])"
      ]
     },
     "execution_count": 18,
     "metadata": {},
     "output_type": "execute_result"
    }
   ],
   "source": [
    "np.sum(a, axis = 0)   # 對每一個 column 內的資料做加總"
   ]
  },
  {
   "cell_type": "code",
   "execution_count": 19,
   "metadata": {},
   "outputs": [
    {
     "data": {
      "text/plain": [
       "array([11, 10])"
      ]
     },
     "execution_count": 19,
     "metadata": {},
     "output_type": "execute_result"
    }
   ],
   "source": [
    "np.sum(a, axis = 1)   # 對每一個 row 內的資料做加總"
   ]
  },
  {
   "cell_type": "markdown",
   "metadata": {},
   "source": [
    "#### **建立指定特定元素型態的陣列**"
   ]
  },
  {
   "cell_type": "code",
   "execution_count": 20,
   "metadata": {},
   "outputs": [
    {
     "name": "stdout",
     "output_type": "stream",
     "text": [
      "a =  [1 2 3 4 5] \n",
      "\n",
      "b =  [1. 2. 3. 4. 5.] \n",
      "\n",
      "type(a) =  <class 'numpy.ndarray'> ,  a.dtype =  int32 \n",
      "\n",
      "type(b) =  <class 'numpy.ndarray'> ,  b.dtype =  float64 \n",
      "\n"
     ]
    }
   ],
   "source": [
    "a = np.array([1, 2, 3, 4, 5], int) \n",
    "\n",
    "b = np.array((1, 2, 3, 4, 5), dtype = float) \n",
    "\n",
    "print(\"a = \", a, '\\n') \n",
    "\n",
    "print(\"b = \", b, '\\n')    \n",
    "\n",
    "print(\"type(a) = \", type(a), ', ', 'a.dtype = ', a.dtype, '\\n')\n",
    "\n",
    "print(\"type(b) = \", type(b), ', ', 'b.dtype = ', b.dtype, '\\n') "
   ]
  },
  {
   "cell_type": "markdown",
   "metadata": {},
   "source": [
    "#### **陣列的建立函數，使用 arange()、zeros()、ones() 和 full()**"
   ]
  },
  {
   "cell_type": "code",
   "execution_count": 3,
   "metadata": {},
   "outputs": [
    {
     "name": "stdout",
     "output_type": "stream",
     "text": [
      "a =  [0 1 2 3 4] \n",
      "\n",
      "b =  [1 3 5] \n",
      "\n",
      "c =  [0. 0.] \n",
      "\n",
      "d = \n",
      " [[0. 0.]\n",
      " [0. 0.]] \n",
      "\n",
      "e = \n",
      " [[[0. 0.]\n",
      "  [0. 0.]\n",
      "  [0. 0.]]\n",
      "\n",
      " [[0. 0.]\n",
      "  [0. 0.]\n",
      "  [0. 0.]]\n",
      "\n",
      " [[0. 0.]\n",
      "  [0. 0.]\n",
      "  [0. 0.]]\n",
      "\n",
      " [[0. 0.]\n",
      "  [0. 0.]\n",
      "  [0. 0.]]] \n",
      "\n",
      "f =  [1. 1.] \n",
      "\n",
      "g = \n",
      " [[1. 1.]\n",
      " [1. 1.]\n",
      " [1. 1.]] \n",
      "\n",
      "h = \n",
      " [[[1. 1.]\n",
      "  [1. 1.]\n",
      "  [1. 1.]]\n",
      "\n",
      " [[1. 1.]\n",
      "  [1. 1.]\n",
      "  [1. 1.]]\n",
      "\n",
      " [[1. 1.]\n",
      "  [1. 1.]\n",
      "  [1. 1.]]\n",
      "\n",
      " [[1. 1.]\n",
      "  [1. 1.]\n",
      "  [1. 1.]]] \n",
      "\n",
      "i =  [7 7] \n",
      "\n",
      "j = \n",
      " [[7 7]\n",
      " [7 7]] \n",
      "\n",
      "k = \n",
      " [[[0.8 0.6]\n",
      "  [0.5 1. ]\n",
      "  [0.  0.9]]\n",
      "\n",
      " [[0.5 0.4]\n",
      "  [0.7 0.4]\n",
      "  [0.8 0.2]]\n",
      "\n",
      " [[0.5 0.4]\n",
      "  [0.5 0.7]\n",
      "  [0.2 0.6]]\n",
      "\n",
      " [[0.  0.2]\n",
      "  [0.5 0.6]\n",
      "  [0.9 0.7]]]\n"
     ]
    }
   ],
   "source": [
    "# NumPy 的 arange()函數類似 Python 的 range()函數，可以產生一序列數字的陣列\n",
    "\n",
    "a = np.arange(5)\n",
    "print(\"a = \", a, '\\n')\n",
    "\n",
    "b = np.arange(1, 6, 2)\n",
    "print(\"b = \", b, '\\n') \n",
    "\n",
    "c = np.zeros(2) \n",
    "print(\"c = \", c, '\\n')  \n",
    "\n",
    "d = np.zeros((2, 2)) \n",
    "print(\"d = \\n\", d, '\\n')           \n",
    "\n",
    "e = np.zeros((4, 3, 2)) \n",
    "print(\"e = \\n\", e, '\\n')   \n",
    "\n",
    "f = np.ones(2) \n",
    "print(\"f = \", f, '\\n')   \n",
    "\n",
    "g = np.ones((3, 2)) \n",
    "print(\"g = \\n\", g, '\\n')         \n",
    "\n",
    "h = np.ones((4, 3, 2)) \n",
    "print(\"h = \\n\", h, '\\n')\n",
    "\n",
    "i = np.full(2, 7)\n",
    "print(\"i = \", i, '\\n')  \n",
    "\n",
    "j = np.full((2, 2), 7)\n",
    "print(\"j = \\n\", j, '\\n')\n",
    "\n",
    "k = np.random.random((4, 3, 2))\n",
    "np.set_printoptions(precision = 1)  # 設定列印至小數點後第一位就好\n",
    "print(\"k = \\n\", k)"
   ]
  },
  {
   "cell_type": "code",
   "execution_count": null,
   "metadata": {},
   "outputs": [],
   "source": [
    "c.dtype"
   ]
  },
  {
   "cell_type": "code",
   "execution_count": null,
   "metadata": {},
   "outputs": [],
   "source": [
    "f.dtype"
   ]
  },
  {
   "cell_type": "markdown",
   "metadata": {},
   "source": [
    "<div><img src=\"pic/numpy-3d-array-creation.png\" width=\"700\"/></div>\n",
    "\n",
    "**多維陣列的結構、運算與圖型視覺話說明 [[1]](http://jalammar.github.io/visual-numpy/)**<br>\n",
    "**如何印出陣列以及格式設定（np.set_printoptions） [[1]](https://www.brilliantcode.net/1045/numpy-tutorial-how-to-print-array/?cli_action=1605501304.327) [[2]](https://numpy.org/doc/stable/reference/generated/numpy.set_printoptions.html)**"
   ]
  },
  {
   "cell_type": "markdown",
   "metadata": {},
   "source": [
    "#### **陣列的建立函數，使用 zeros_like() 和 ones_like() 函數可以依據參數的範本陣列形狀，產生相同尺寸元素值都是 0 或 1 的陣列**"
   ]
  },
  {
   "cell_type": "code",
   "execution_count": null,
   "metadata": {},
   "outputs": [],
   "source": [
    "a = np.array([[1, 2, 3], [4, 5, 6]])\n",
    "print(\"a =\\n\", a, '\\n')\n",
    "\n",
    "b = np.zeros_like(a)\n",
    "print(\"b = \\n\", b, '\\n')\n",
    "\n",
    "c = np.ones_like(a)\n",
    "print(\"c = \\n\", c, '\\n')\n",
    "\n",
    "d = np.eye(3)  # 單位矩陣\n",
    "print(\"d = \\n\", d)"
   ]
  },
  {
   "cell_type": "markdown",
   "metadata": {},
   "source": [
    "numpy.eye\n",
    "numpy.eye(N, M=None, k=0, dtype=<class 'float'>, order='C')\n",
    "\n",
    "生成一個對角線為 1，其餘位置為 0 的二維陣列。\n",
    "\n",
    "引數：\n",
    "1. N：int值，行數。\n",
    "1. M：int值，列數，如果沒有則預設為N。\n",
    "1. k：int型，可選項，對角線的下標，默認爲0表示的是主對角線，負數表示的是低對角，正數表示的是高對角。\n",
    "1. dtype：返回的資料元素的格式，預設為float。\n",
    "1. order：1.14.0版本後，可選引數 {'C', 'F'}"
   ]
  },
  {
   "cell_type": "code",
   "execution_count": 4,
   "metadata": {},
   "outputs": [
    {
     "name": "stdout",
     "output_type": "stream",
     "text": [
      "e0 = \n",
      " [[1. 0. 0. 0.]\n",
      " [0. 1. 0. 0.]\n",
      " [0. 0. 1. 0.]\n",
      " [0. 0. 0. 1.]] \n",
      "\n",
      "e1 = \n",
      " [[0. 1. 0. 0.]\n",
      " [0. 0. 1. 0.]\n",
      " [0. 0. 0. 1.]\n",
      " [0. 0. 0. 0.]] \n",
      "\n",
      "e2 = \n",
      " [[0. 0. 0. 0.]\n",
      " [1. 0. 0. 0.]\n",
      " [0. 1. 0. 0.]\n",
      " [0. 0. 1. 0.]] \n",
      "\n",
      "e3 = \n",
      " [[0. 0. 0. 0.]\n",
      " [0. 0. 0. 0.]\n",
      " [0. 0. 0. 0.]\n",
      " [1. 0. 0. 0.]] \n",
      "\n"
     ]
    }
   ],
   "source": [
    "e0 = np.eye(4)\n",
    "print(\"e0 = \\n\", e0, '\\n')\n",
    "\n",
    "e1 = np.eye(4, k = 1)\n",
    "print(\"e1 = \\n\", e1, '\\n')\n",
    "\n",
    "e2 = np.eye(4, k = -1)\n",
    "print(\"e2 = \\n\", e2, '\\n')\n",
    "\n",
    "e3 = np.eye(4, k = -3)\n",
    "print(\"e3 = \\n\", e3, '\\n')"
   ]
  },
  {
   "cell_type": "code",
   "execution_count": 5,
   "metadata": {},
   "outputs": [
    {
     "name": "stdout",
     "output_type": "stream",
     "text": [
      "f =  [0.8 0.9 0.1] \n",
      "\n",
      "g = \n",
      " [[0.4 0.3 0.6]\n",
      " [0.7 0.6 0.3]\n",
      " [0.2 1.  0.3]]\n"
     ]
    }
   ],
   "source": [
    "f = np.random.rand(3)\n",
    "print(\"f = \", f, '\\n')\n",
    "\n",
    "g = np.random.rand(3, 3)\n",
    "print(\"g = \\n\", g)  "
   ]
  },
  {
   "cell_type": "code",
   "execution_count": null,
   "metadata": {},
   "outputs": [],
   "source": [
    "np.eye?"
   ]
  },
  {
   "cell_type": "code",
   "execution_count": null,
   "metadata": {},
   "outputs": [],
   "source": [
    "np.random?"
   ]
  },
  {
   "cell_type": "markdown",
   "metadata": {},
   "source": [
    "#### **陣列維度的轉換**\n",
    "**NumPy 可以使用 reshape() 函數，將一維陣列轉換成二維陣列，如下所示：**\n",
    "<div><img src=\"pic/numpy-arrays-reshape.png\" width=\"500\"/></div>"
   ]
  },
  {
   "cell_type": "code",
   "execution_count": null,
   "metadata": {},
   "outputs": [],
   "source": [
    "a = np.arange(16)\n",
    "print(\"a = \", a, '\\n')\n",
    "\n",
    "b = a.reshape((4, 4))       # 將 a 由一維轉成二維\n",
    "print(\"b = \\n\", b, '\\n')\n",
    "\n",
    "print(\"a = \\n\", a, '\\n')    # a 本身陣列內容未改變 \n",
    "\n",
    "c = np.arange(24).reshape(4, 3, 2)\n",
    "print(\"c = \\n\", c, '\\n')\n",
    "\n",
    "d = np.array(range(10), float)\n",
    "print(\"d = \", d, '\\n')\n",
    "\n",
    "e = d.reshape((5, 2))\n",
    "print(\"e = \\n\", e)"
   ]
  },
  {
   "cell_type": "code",
   "execution_count": null,
   "metadata": {},
   "outputs": [],
   "source": [
    "a.flags"
   ]
  },
  {
   "cell_type": "code",
   "execution_count": null,
   "metadata": {},
   "outputs": [],
   "source": [
    "b.flags"
   ]
  },
  {
   "cell_type": "markdown",
   "metadata": {},
   "source": [
    "#### **顯示 NumPy 陣列的屬性**\n",
    "**NumPy 陣列是一個物件，提供相關屬性顯示陣列資訊。相關屬性的說明如下表所示：**<p>\n",
    "<div><img src=\"pic/numpy_dtype.png\" width=\"500\"/></div>"
   ]
  },
  {
   "cell_type": "code",
   "execution_count": 8,
   "metadata": {},
   "outputs": [
    {
     "name": "stdout",
     "output_type": "stream",
     "text": [
      "type :  <class 'numpy.ndarray'>\n",
      "data type :  int32\n",
      "size :  25\n",
      "shape :  (5, 5)\n",
      "itemsize :  4\n",
      "ndim :  2\n",
      "bytes :  100\n"
     ]
    }
   ],
   "source": [
    "a = np.array([[11, 12, 13, 14, 15],\n",
    "              [16, 17, 18, 19, 20],\n",
    "              [21, 22, 23, 24, 25],\n",
    "              [26, 27, 28, 29, 30],\n",
    "              [31, 32, 33, 34, 35]]) # dtype = np.int32\n",
    " \n",
    "print(\"type : \", type(a))\n",
    "print(\"data type : \", a.dtype)\n",
    "print(\"size : \", a.size)\n",
    "print(\"shape : \", a.shape)\n",
    "print(\"itemsize : \", a.itemsize)\n",
    "print(\"ndim : \", a.ndim)\n",
    "print(\"bytes : \", a.nbytes)  "
   ]
  },
  {
   "cell_type": "code",
   "execution_count": null,
   "metadata": {},
   "outputs": [],
   "source": [
    "a.T"
   ]
  },
  {
   "cell_type": "markdown",
   "metadata": {},
   "source": [
    "##### 輸入<ndarray的變數名稱>. 並按下 <Tab鍵>，便會顯示屬性以及方法的一覽"
   ]
  },
  {
   "cell_type": "code",
   "execution_count": null,
   "metadata": {},
   "outputs": [],
   "source": [
    "a.T"
   ]
  },
  {
   "cell_type": "markdown",
   "metadata": {},
   "source": [
    "#### **走訪一維與二維陣列的元素**"
   ]
  },
  {
   "cell_type": "code",
   "execution_count": null,
   "metadata": {},
   "outputs": [],
   "source": [
    "a = np.array([1, 2, 3, 4, 5])\n",
    "\n",
    "for ele in a:\n",
    "    print(ele)\n",
    "    \n",
    "print()\n",
    "    \n",
    "b = np.array([[1, 2], [3, 4], [5, 6]])\n",
    "\n",
    "for ele in b:\n",
    "    print(ele)\n",
    "\n",
    "print()\n",
    "\n",
    "for ele in b:\n",
    "    for item in ele:\n",
    "        print(str(item) + \" \", end = \"\")\n"
   ]
  },
  {
   "cell_type": "markdown",
   "metadata": {},
   "source": [
    "### **資料與記憶體的關係**\n",
    "**NumPy 藉由將相同型別的資料配置於記憶體的整塊區域裡，使得高速處理得以實現。關於資料配置的方式，有與 C 語言相同的 <font color=#0000FF>列優先(row-major order)</font> 的配置方式，以及與 Fortran 語言相同的 <font color=#0000FF>行優先(column-major order)</font> 的配置方式。**<p>\n",
    "<img  align=\"left\" src=\"pic/rowcolumn_major.gif\" width=\"200\" alt=\"\" style=\"margin: 20px 20px\"/>\n",
    "<img  align=\"left\" src=\"pic/rowcolumn_major2.png\" width=\"450\" alt=\"\" style=\"margin: 0px 20px\"/>"
   ]
  },
  {
   "cell_type": "markdown",
   "metadata": {},
   "source": [
    "### **列優先(row major)與行優先(column major)的配置方式**"
   ]
  },
  {
   "cell_type": "code",
   "execution_count": null,
   "metadata": {},
   "outputs": [],
   "source": [
    "import numpy as np\n",
    "\n",
    "a = np.array([[11, 12, 13], [21, 22, 23], [31, 32, 33]], dtype = 'i4', order = 'F')\n",
    "b = np.array([[11, 12, 13], [21, 22, 23], [31, 32, 33]], dtype = 'i4', order = 'C')\n",
    "\n",
    "print('a.flags.f_contiguous = %r, a.flags.c_contiguous = %r' % (a.flags.f_contiguous, a.flags.c_contiguous) )\n",
    "\n",
    "print(np.ravel(a, order = 'F'))\n",
    "print(np.ravel(a, order = 'A'))   # When order is ‘A’, it will preserve the array’s ‘C’ or ‘F’ ordering\n",
    "\n",
    "print()\n",
    "\n",
    "print(np.ravel(a, order = 'C'))\n",
    "print(np.ravel(a, order = 'A'))   # When order is ‘A’, it will preserve the array’s ‘C’ or ‘F’ ordering\n",
    "\n",
    "print('\\n')\n",
    "\n",
    "print('b.flags.f_contiguous = %r, b.flags.c_contiguous = %r' % (b.flags.f_contiguous, b.flags.c_contiguous) )\n",
    "\n",
    "print(np.ravel(b, order = 'C'))\n",
    "print(np.ravel(b, order = 'A'))   # When order is ‘A’, it will preserve the array’s ‘C’ or ‘F’ ordering\n",
    "\n",
    "print()\n",
    "\n",
    "print(np.ravel(b, order = 'F'))\n",
    "print(np.ravel(b, order = 'A'))   # When order is ‘A’, it will preserve the array’s ‘C’ or ‘F’ ordering"
   ]
  },
  {
   "cell_type": "code",
   "execution_count": null,
   "metadata": {},
   "outputs": [],
   "source": [
    "a"
   ]
  },
  {
   "cell_type": "code",
   "execution_count": null,
   "metadata": {},
   "outputs": [],
   "source": [
    "b"
   ]
  },
  {
   "cell_type": "markdown",
   "metadata": {},
   "source": [
    "### Numpy 中的 ravel() 和 flatten() 函式用法：\n",
    "1. **flatten() 與 ravel() 兩者均是將多維度的陣列物件轉為一維的陣列物件方法。**\n",
    "1. **flatten() 處理後傳回的是一個陣列的 copy，簡言之運算之後的陣列不是與原陣列參照到相同的記憶體物件，而且會建立一個不同於原陣列物件的新物件，因此 flatten() 的運算速度相對較慢。**\n",
    "1. **ravel() 處理後傳回的是一個陣列的 view，簡言之運算之後的陣列是與原陣列參照到相同的記憶體物件與記憶體位址，並沒有另外建立一個新的陣列物件，因此 ravel() 的運算速度相對較快。**\n",
    "#### 二者比較：[[1]](https://www.geeksforgeeks.org/differences-flatten-ravel-numpy/), [[2]](http://www.tshopping.com.tw/thread-263170-1-1.html), [[3]](https://www.twcode01.com/numpy/numpy-array-manipulation.html), [[4]](http://violin-tao.blogspot.com/2017/06/numpy-2.html)\n",
    "* **ravel()：[[1官網]](https://numpy.org/doc/stable/reference/generated/numpy.ravel.html), [[2]](https://kknews.cc/zh-tw/code/4l3erz2.html)**\n",
    "* **flatten()：[[1官網]](https://numpy.org/doc/stable/reference/generated/numpy.ndarray.flatten.html), [[2]](https://www.twblogs.net/a/5bdf35162b717720b51c3736)**\n",
    "* **[Reshape Numpy Arrays in Python — A Step-By-Step Pictorial Tutorial](https://towardsdatascience.com/reshaping-numpy-arrays-in-python-a-step-by-step-pictorial-tutorial-aed5f471cf0b)**"
   ]
  },
  {
   "cell_type": "code",
   "execution_count": null,
   "metadata": {},
   "outputs": [],
   "source": [
    "# Python code to differentiate\n",
    "# between flatten and ravel in numpy\n",
    "import numpy as np\n",
    "\n",
    "# Create a numpy array\n",
    "a = np.array([(1,2,3,4),(3,1,4,2)])\n",
    "\n",
    "# Let's print the array a\n",
    "print (\"Original array:\")\n",
    "print(a)\n",
    "\n",
    "# To check the dimension of array (dimension =2)\n",
    "# ( and type is numpy.ndarray )\n",
    "print (\"Dimension of array-> \" , (a.ndim))\n",
    "\n",
    "print(\"\\nOutput for RAVEL\")\n",
    "# Convert nd array to 1D array\n",
    "b = a.ravel()\n",
    "\n",
    "# Ravel only passes a view of\n",
    "# original array to array 'b'\n",
    "print('After raval() :', b)\n",
    "\n",
    "# Just to check the dimension i.e. 1\n",
    "# (and type is same numpy.ndarray )\n",
    "print (\"Dimension of array->\" ,(b.ndim))\n",
    "\n",
    "# Modify a value \n",
    "b[0] = 1000\n",
    "print('\\nAfter modification :', b)\n",
    "\n",
    "# Note here that value of original\n",
    "# array 'a' at also a[0][0] becomes 1000\n",
    "print(\"\\nOriginal array after ravel() and modification :\\n\", a)"
   ]
  },
  {
   "cell_type": "code",
   "execution_count": null,
   "metadata": {},
   "outputs": [],
   "source": [
    "import numpy as np\n",
    "\n",
    "# Create a numpy array\n",
    "a = np.array([(1,2,3,4),(3,1,4,2)])\n",
    "\n",
    "# Let's print the array a\n",
    "print (\"Original array:\")\n",
    "print(a)\n",
    "\n",
    "# To check the dimension of array (dimension =2)\n",
    "# ( and type is numpy.ndarray )\n",
    "print (\"Dimension of array-> \" , (a.ndim))\n",
    "\n",
    "print(\"\\nOutput for FLATTEN\")\n",
    "# Convert nd array to 1D array\n",
    "b = a.flatten()\n",
    "\n",
    "# Ravel only passes a view of\n",
    "# original array to array 'b'\n",
    "print('After flatten() :', b)\n",
    "\n",
    "# Just to check the dimension i.e. 1\n",
    "# (and type is same numpy.ndarray )\n",
    "print (\"Dimension of array->\" ,(b.ndim))\n",
    "\n",
    "# Modify a value \n",
    "b[0] = 1000\n",
    "print('\\nAfter modification :', b)\n",
    "\n",
    "# Note here that value of original\n",
    "# array 'a' at also a[0][0] becomes 1000\n",
    "print(\"\\nOriginal array after flatten() and modification :\\n\", a)"
   ]
  },
  {
   "cell_type": "markdown",
   "metadata": {},
   "source": [
    "#### **載入與儲存檔案的陣列 - 將陣列儲存成檔案**"
   ]
  },
  {
   "cell_type": "code",
   "execution_count": null,
   "metadata": {},
   "outputs": [],
   "source": [
    "a = np.array([[1, 2, 3], [4, 5, 6], [7, 8, 9], [10, 11, 12]])\n",
    "print(\"a = \")\n",
    "print(a, '\\n')\n",
    "print(\"a 形狀: \" + str(a.shape), '\\n')\n",
    "\n",
    "b = np.array([1, 0, 1])\n",
    "print(\"b = \" + str(b), '\\n')\n",
    "print(\"b 形狀: \" + str(b.shape), '\\n')\n",
    "\n",
    "c = a + b\n",
    "print(\"c = \\n\", c)"
   ]
  },
  {
   "cell_type": "code",
   "execution_count": null,
   "metadata": {},
   "outputs": [],
   "source": [
    "a = np.arange(10)\n",
    "\n",
    "outputfile = \"Example.npy\"  # 輸出至檔案 Example.npy\n",
    "\n",
    "with open(outputfile, 'wb') as fp:\n",
    "\n",
    "    np.save(fp, a)"
   ]
  },
  {
   "cell_type": "markdown",
   "metadata": {},
   "source": [
    "\n",
    "#### **載入與儲存檔案的陣列 - 將陣列儲存成檔案**"
   ]
  },
  {
   "cell_type": "code",
   "execution_count": null,
   "metadata": {},
   "outputs": [],
   "source": [
    "a = np.array([[1,2,3], [4,5,6]])\n",
    "\n",
    "outputfile = \"Example.out\" # 輸出至 text 或 csv 檔案 \n",
    "\n",
    "np.savetxt(outputfile, a, delimiter=',') # 使用 savetxt() 將資料寫入 csv 檔"
   ]
  },
  {
   "cell_type": "markdown",
   "metadata": {},
   "source": [
    "[Dump a NumPy array into a csv file](https://stackoverflow.com/questions/6081008/dump-a-numpy-array-into-a-csv-file)"
   ]
  },
  {
   "cell_type": "markdown",
   "metadata": {},
   "source": [
    "#### **載入與儲存檔案的陣列 - 從檔案載入 NumPy 陣列**"
   ]
  },
  {
   "cell_type": "code",
   "execution_count": null,
   "metadata": {},
   "outputs": [],
   "source": [
    "outputfile = \"Example.npy\"\n",
    "\n",
    "with open(outputfile, 'rb') as fp:\n",
    "\n",
    "    a = np.load(fp)\n",
    "\n",
    "print(a)"
   ]
  },
  {
   "cell_type": "markdown",
   "metadata": {},
   "source": [
    "#### **載入與儲存檔案的陣列 - 從 CSV 檔案載入 NumPy 陣列**"
   ]
  },
  {
   "cell_type": "code",
   "execution_count": null,
   "metadata": {},
   "outputs": [],
   "source": [
    "outputfile = \"Example.out\"\n",
    "\n",
    "a = np.loadtxt(outputfile, delimiter=',')\n",
    "\n",
    "print(a)"
   ]
  },
  {
   "cell_type": "markdown",
   "metadata": {},
   "source": [
    "#### **向量運算 – 向量與純量的四則運算**\n",
    "**向量與純量（Scalar）可以進行加、減、乘和除的四則運算，純量是一個數值。以加法為例，例如：向量a有a1, a2, a3個元素，純量是s，如下圖所示：**\n",
    "<p><div><img src=\"pic/addition.gif\" width=\"400\"/></div>"
   ]
  },
  {
   "cell_type": "code",
   "execution_count": null,
   "metadata": {},
   "outputs": [],
   "source": [
    "a = np.array([1, 2, 3]) \n",
    "print(\"a = \" + str(a))\n",
    "\n",
    "s = 5 \n",
    "print(\"s = \" + str(s))\n",
    "\n",
    "b = a + s       \n",
    "print(\"a + s = \" + str(b))    \n",
    "\n",
    "b = a - s       \n",
    "print(\"a - s = \" + str(b))   \n",
    "\n",
    "b = a * s       \n",
    "print(\"a * s = \" + str(b))  \n",
    "\n",
    "b = a / s       \n",
    "print(\"a / s = \" + str(b))  "
   ]
  },
  {
   "cell_type": "markdown",
   "metadata": {},
   "source": [
    "#### **向量運算 – 向量與純量的四則運算**"
   ]
  },
  {
   "cell_type": "code",
   "execution_count": null,
   "metadata": {},
   "outputs": [],
   "source": [
    "a = np.array([1, 2, 3]) \n",
    "print(\"a = \" + str(a))\n",
    "\n",
    "s = 5 \n",
    "print(\"s = \" + str(s))\n",
    "\n",
    "b = np.add(a, s)  # 使用 add()     \n",
    "print(\"np.add(a, s) = \" + str(b))    \n",
    "\n",
    "b = np.subtract(a, s)   # 使用 subtract()  \n",
    "print(\"np.subtract(a, s) = \" + str(b))   \n",
    "\n",
    "b = np.multiply(a, s)   # 使用 multiply()   \n",
    "print(\"np.multiply(a, s) = \" + str(b))  \n",
    "\n",
    "b = np.divide(a, s)     # 使用 divide()  \n",
    "print(\"np.divide(a, s) = \" + str(b))  "
   ]
  },
  {
   "cell_type": "markdown",
   "metadata": {},
   "source": [
    "#### **向量運算 – 向量與向量的四則運算**\n",
    "**對於長度相同的2個向量，對應的向量元素也可以執行加、減、乘和除的四則運算來產生相同長度的向量。以加法為例，例如：向量 a 有 a1, a2, a3 個元素，s 有 s1, s2, s3，如下圖所示：**\n",
    "<p>\n",
    "<div><img src=\"pic/vectors.gif\" width=\"450\"/></div>"
   ]
  },
  {
   "cell_type": "code",
   "execution_count": null,
   "metadata": {},
   "outputs": [],
   "source": [
    "a = np.array([1, 2, 3]) # a 與 s 向量長度相同\n",
    "print(\"a = \" + str(a))\n",
    "\n",
    "s = np.array([4, 5, 6])  \n",
    "print(\"s = \" + str(s))\n",
    "\n",
    "b = a + s       \n",
    "print(\"a + s = \" + str(b))    \n",
    "\n",
    "b = a - s       \n",
    "print(\"a - s = \" + str(b))   \n",
    "\n",
    "b = a * s       \n",
    "print(\"a * s = \" + str(b))  \n",
    "\n",
    "b = a / s       \n",
    "print(\"a / s = \" + str(b)) "
   ]
  },
  {
   "cell_type": "markdown",
   "metadata": {},
   "source": [
    "#### **向量運算 – 向量與向量的四則運算**"
   ]
  },
  {
   "cell_type": "code",
   "execution_count": null,
   "metadata": {},
   "outputs": [],
   "source": [
    "a = np.array([1, 2, 3]) \n",
    "print(\"a = \" + str(a))\n",
    "\n",
    "s = np.array([4, 5, 6])\n",
    "print(\"s = \" + str(s))\n",
    "\n",
    "b = np.add(a, s)  # 使用 add()     \n",
    "print(\"np.add(a,s) = \" + str(b))    \n",
    "\n",
    "b = np.subtract(a, s)   # 使用 subtract()  \n",
    "print(\"np.subtract(a,s) = \" + str(b))   \n",
    "\n",
    "b = np.multiply(a, s)   # 使用 multiply()   \n",
    "print(\"np.multiply(a,s) = \" + str(b))  \n",
    "\n",
    "b = np.divide(a, s)     # 使用 divide()  \n",
    "print(\"np.divide(a,s) = \" + str(b))  "
   ]
  },
  {
   "cell_type": "markdown",
   "metadata": {},
   "source": [
    "#### **向量運算 – 向量的點積運算**\n",
    "<p>\n",
    "<div><img src=\"pic/dot_1d.png\" width=\"300\"/></div>"
   ]
  },
  {
   "cell_type": "code",
   "execution_count": null,
   "metadata": {},
   "outputs": [],
   "source": [
    "a = np.array([1, 2, 3]) \n",
    "print(\"a = \" + str(a))\n",
    "\n",
    "s = np.array([4, 5, 6])  \n",
    "print(\"s = \" + str(s))\n",
    "\n",
    "b = a.dot(s)       \n",
    "print(\"a.dot(s) = \" + str(b))    "
   ]
  },
  {
   "cell_type": "markdown",
   "metadata": {},
   "source": [
    "#### **向量的內積（inner product）與外積（cross product）的計算**"
   ]
  },
  {
   "cell_type": "code",
   "execution_count": null,
   "metadata": {},
   "outputs": [],
   "source": [
    "a, b = np.array([2, -4, 1]), np.array([3, 1, -2])\n",
    "\n",
    "# inner product\n",
    "print('inner product is : ', np.inner(a, b))\n",
    "\n",
    "# cross product\n",
    "print('cross product is : ', np.cross(a, b))"
   ]
  },
  {
   "cell_type": "markdown",
   "metadata": {},
   "source": [
    "#### **矩陣的反矩陣（inverse）、行列式（determinant）與秩（rank）的計算**"
   ]
  },
  {
   "cell_type": "code",
   "execution_count": null,
   "metadata": {},
   "outputs": [],
   "source": [
    "a = np.array([[1, 3], [-2, 1]])\n",
    "print('a = ')\n",
    "print(a)\n",
    "\n",
    "# inverse matrix\n",
    "print('The inverse matrix of a is : ')\n",
    "print(np.linalg.inv(a))\n",
    "\n",
    "# the determinant of matrix a\n",
    "print('The det of a is : ', np.linalg.det(a))\n",
    "\n",
    "# the rank of matrix a\n",
    "print('The rank of a is : ', np.linalg.matrix_rank(a))"
   ]
  },
  {
   "cell_type": "markdown",
   "metadata": {},
   "source": [
    "#### **切割一維陣列的元素**"
   ]
  },
  {
   "cell_type": "code",
   "execution_count": null,
   "metadata": {},
   "outputs": [],
   "source": [
    "a = np.array([1, 2, 3, 4, 5, 6, 7, 8, 9])\n",
    "print(\"a = \" + str(a))\n",
    "\n",
    "b = a[1:3]     # 索引 1,2\n",
    "print(\"a[1:3] = \" + str(b))\n",
    "\n",
    "b = a[:4]      # 索引 0,1,2,3\n",
    "print(\"a[:4] = \" + str(b))\n",
    "\n",
    "b = a[3:]      # 索引 3,4,5,6,7,8\n",
    "print(\"a[3:] = \" + str(b))\n",
    "\n",
    "b = a[2:9:3]   # 索引 2,5,8\n",
    "print(\"a[2:9:3] = \" + str(b))\n",
    "\n",
    "b = a[::2]     # 索引 0,2,4,6,8\n",
    "print(\"a[::2] = \" + str(b))\n",
    "\n",
    "b = a[::-1]    # 索引 8,7,6,5,4,3,2,1,0\n",
    "print(\"a[::-1] = \" + str(b))\n",
    "\n",
    "b = a[2:-2]    # 索引 8,7,6,5,4,3,2,1,0\n",
    "print(\"a[2:-2] = \" + str(b))"
   ]
  },
  {
   "cell_type": "markdown",
   "metadata": {},
   "source": [
    "#### **使用複雜索引取出元素 – 使用整數值索引**"
   ]
  },
  {
   "cell_type": "code",
   "execution_count": null,
   "metadata": {},
   "outputs": [],
   "source": [
    "a = np.array([1, 2, 3, 4, 5, 6, 7, 8, 9])\n",
    "print(\"a = \" + str(a))\n",
    "print(\"a[0] = \", a[0], \"\\na[2] = \", a[2], \"\\na[-1] = \", a[-1] )  # 索引 0,2,最後1個 \n",
    "\n",
    "b = a[[1, 3, 5, 7]]       # 索引 1,3,5,7\n",
    "print(\"a[[1,3,5,7]] = \" + str(b))\n",
    "\n",
    "b = a[range(6)]           # 索引 0,1,2,3,4,5\n",
    "print(\"a[range(6)] = \" + str(b))\n",
    "\n",
    "a[[2, 6]] = 10            # 同時更改多個索引值\n",
    "print(\"a[[2,6]] = 10->\" + str(a))"
   ]
  },
  {
   "cell_type": "markdown",
   "metadata": {},
   "source": [
    "#### **使用複雜索引取出元素 – 使用布林值遮罩索引**"
   ]
  },
  {
   "cell_type": "code",
   "execution_count": null,
   "metadata": {},
   "outputs": [],
   "source": [
    "a = np.array([14 ,8 ,10 ,11 ,6 ,3 ,18 ,13 ,12 ,9])\n",
    "print(\"a = \" + str(a))\n",
    "\n",
    "mask = (a % 3 == 0)        # 建立布林值陣列\n",
    "\n",
    "print(\"mask = \" + str(mask))\n",
    "\n",
    "b = a[mask]                # 使用布林值陣列取出值\n",
    "print(\"a[mask] = \" + str(b))\n",
    "\n",
    "a[a % 3 == 0] = -1         # 同時更改多個True索引\n",
    "print(\"a[a%3==0] = -1 ->\" + str(a))"
   ]
  },
  {
   "cell_type": "markdown",
   "metadata": {},
   "source": [
    "#### **矩陣運算 – 二維矩陣與純量的四則運算**\n",
    "<p>\n",
    "<div><img src=\"pic/matrix_scalar.gif\" width=\"400\"/></div>"
   ]
  },
  {
   "cell_type": "code",
   "execution_count": null,
   "metadata": {},
   "outputs": [],
   "source": [
    "a = np.array([[1, 2, 3], [4, 5, 6]])\n",
    "print(\"a = \", '\\n', a)\n",
    "\n",
    "s = 5 \n",
    "print(\"s = \" + str(s))\n",
    "\n",
    "b = a + s       \n",
    "print(\"a + s = \", '\\n', b)\n",
    "\n",
    "b = a - s       \n",
    "print(\"a - s = \", '\\n', b)\n",
    "\n",
    "b = a * s       \n",
    "print(\"a * s = \", '\\n', b)\n",
    "\n",
    "b = a / s       \n",
    "print(\"a / s = \", '\\n', b)"
   ]
  },
  {
   "cell_type": "markdown",
   "metadata": {},
   "source": [
    "#### **矩陣運算 – 二維矩陣與純量的四則運算**"
   ]
  },
  {
   "cell_type": "code",
   "execution_count": null,
   "metadata": {},
   "outputs": [],
   "source": [
    "a = np.array([[1, 2, 3], [4, 5, 6]])\n",
    "print(\"a = \", '\\n', a)\n",
    "\n",
    "s = 5 \n",
    "print(\"s = \" + str(s))\n",
    "\n",
    "b = np.add(a, s)       \n",
    "print(\"np.add(a,s) = \", '\\n',  b)\n",
    "\n",
    "b = np.subtract(a, s)       \n",
    "print(\"np.subtract(a,s) = \", '\\n', b)\n",
    "\n",
    "b = np.multiply(a, s)       \n",
    "print(\"np.multiply(a,s) = \", '\\n', b)\n",
    "\n",
    "b = np.divide(a, s)       \n",
    "print(\"np.divide(a,s) = \", '\\n', b)"
   ]
  },
  {
   "cell_type": "markdown",
   "metadata": {},
   "source": [
    "#### **矩陣運算 – 矩陣與矩陣的四則運算**\n",
    "<p>\n",
    "<div><img src=\"pic/matrixs.gif\" width=\"400\"/></div>"
   ]
  },
  {
   "cell_type": "code",
   "execution_count": null,
   "metadata": {},
   "outputs": [],
   "source": [
    "a = np.array([[1, 2], [3, 4]])\n",
    "print(\"a = \", '\\n', a)\n",
    "\n",
    "s = np.array([[5, 6], [7, 8]])\n",
    "print(\"s = \", '\\n', s)\n",
    "\n",
    "b = a + s       \n",
    "print(\"a + s = \", '\\n', b)\n",
    "\n",
    "b = a - s       \n",
    "print(\"a - s = \", '\\n', b)\n",
    "\n",
    "b = a * s       \n",
    "print(\"a * s = \", '\\n', b)\n",
    "\n",
    "b = a / s       \n",
    "print(\"a / s = \", '\\n', b)"
   ]
  },
  {
   "cell_type": "markdown",
   "metadata": {},
   "source": [
    "#### **矩陣運算 – 矩陣與矩陣的四則運算**"
   ]
  },
  {
   "cell_type": "code",
   "execution_count": null,
   "metadata": {},
   "outputs": [],
   "source": [
    "a = np.array([[1, 2], [3, 4]])\n",
    "print(\"a = \")\n",
    "print(a)\n",
    "\n",
    "s = np.array([[5, 6], [7, 8]])\n",
    "print(\"s = \\n\", s)\n",
    "\n",
    "b = np.add(a, s)       \n",
    "print(\"np.add(a,s) = \", b)\n",
    "\n",
    "b = np.subtract(a, s)       \n",
    "print(\"np.subtract(a,s) = \", b)\n",
    "\n",
    "b = np.multiply(a, s)       \n",
    "print(\"np.multiply(a,s) = \", b)\n",
    "\n",
    "b = np.divide(a, s)       \n",
    "print(\"np.divide(a,s) = \", b)"
   ]
  },
  {
   "cell_type": "markdown",
   "metadata": {},
   "source": [
    "#### **矩陣運算 – 矩陣與矩陣的點積運算**\n",
    "<p>\n",
    "<div><img src=\"pic/dot.gif\" width=\"400\"/></div>"
   ]
  },
  {
   "cell_type": "code",
   "execution_count": null,
   "metadata": {},
   "outputs": [],
   "source": [
    "a = np.array([[1, 2], [3, 4]])\n",
    "print(\"a = \", '\\n',  a)\n",
    "\n",
    "s = np.array([[5, 6], [7, 8]])\n",
    "print(\"s = \", '\\n', s)\n",
    "\n",
    "b = a.dot(s)       \n",
    "print(\"a.dot(s) = \", '\\n', b)"
   ]
  },
  {
   "cell_type": "markdown",
   "metadata": {},
   "source": [
    "#### **切割二維陣列的元素**\n",
    "**NumPy二維陣列一樣可以使用切割運算子，從原始陣列切割出所需的子陣列，其語法如下所示：**<br>\n",
    "<p style=\"text-align:center;\"><b><font color=#FF0000>array[ start : end : step, start1 : end1 : step1 ]</font></b><br>\n",
    "</p>\n",
    "<br>\n",
    "<img src=\"pic/slice.gif\" width=\"250\"/></div>"
   ]
  },
  {
   "cell_type": "code",
   "execution_count": 3,
   "metadata": {},
   "outputs": [
    {
     "name": "stdout",
     "output_type": "stream",
     "text": [
      "a =  \n",
      " [[11 12 13 14 15]\n",
      " [16 17 18 19 20]\n",
      " [21 22 23 24 25]\n",
      " [26 27 28 29 30]\n",
      " [31 32 33 34 35]]\n",
      "a[0, 1:4] =  [12 13 14]\n",
      "a[1:4, 0] =  [16 21 26]\n",
      "a[:2, 1:3] =  \n",
      " [[12 13]\n",
      " [17 18]]\n",
      "a[:, 1] =  [12 17 22 27 32]\n",
      "a[::2, ::2] =  \n",
      " [[11 13 15]\n",
      " [21 23 25]\n",
      " [31 33 35]]\n"
     ]
    }
   ],
   "source": [
    "a = np.arange(11, 36)\n",
    "\n",
    "a = a.reshape(5, 5)\n",
    "print(\"a = \", '\\n', a)\n",
    "\n",
    "b = a[0, 1:4]     # 索引 [0,1~3]\n",
    "print(\"a[0, 1:4] = \", b)\n",
    "\n",
    "b = a[1:4, 0]     # 索引 [1~3,0]\n",
    "print(\"a[1:4, 0] = \", b)\n",
    "\n",
    "b = a[:2, 1:3]    # 索引 [0~1,1~2]\n",
    "print(\"a[:2, 1:3] = \", '\\n', b)\n",
    "\n",
    "b = a[:, 1]        # 索引 [0~4,1]\n",
    "print(\"a[:, 1] = \", b)\n",
    "\n",
    "b = a[::2, ::2]   # 索引 [0~2~4,0~2~4]\n",
    "print(\"a[::2, ::2] = \", '\\n', b)"
   ]
  },
  {
   "cell_type": "markdown",
   "metadata": {},
   "source": [
    "<img src=\"pic/slice_sample.gif\" width=\"400\"/></div>"
   ]
  },
  {
   "cell_type": "markdown",
   "metadata": {},
   "source": [
    "#### **使用複雜索引取出元素 – 使用整數值索引**"
   ]
  },
  {
   "cell_type": "code",
   "execution_count": 4,
   "metadata": {},
   "outputs": [
    {
     "name": "stdout",
     "output_type": "stream",
     "text": [
      "a =  \n",
      " [[ 1  2  3]\n",
      " [ 4  5  6]\n",
      " [ 7  8  9]\n",
      " [10 11 12]] \n",
      "\n",
      "a[[0,1,2], [0,1,0]] =  [1 5 7] \n",
      "\n",
      "np.array([a[0,0], a[1,1], a[2,0]]) =  [1 5 7] \n",
      "\n",
      "idx = [0 2 0 1] \n",
      "\n",
      "a[np.arange(4), idx] =  [ 1  6  7 11] \n",
      "\n",
      "a[np.arange(4), idx] += 10 ->  \n",
      " [[11  2  3]\n",
      " [ 4  5 16]\n",
      " [17  8  9]\n",
      " [10 21 12]] \n",
      "\n"
     ]
    }
   ],
   "source": [
    "a = np.array([[1, 2, 3], [4, 5, 6], [7, 8, 9], [10, 11, 12]])\n",
    "print(\"a = \", '\\n', a, '\\n')\n",
    "\n",
    "b = a[[0, 1, 2], [0, 1, 0]]   # 索引 [0,0][1,1][2,0]\n",
    "print(\"a[[0,1,2], [0,1,0]] = \", b, \"\\n\")\n",
    "\n",
    "b = np.array([a[0, 0], a[1, 1], a[2, 0]])  # 索引 [0,0][1,1][2,0]\n",
    "print(\"np.array([a[0,0], a[1,1], a[2,0]]) = \", b, '\\n')\n",
    "\n",
    "idx = np.array([0, 2, 0, 1])\n",
    "print(\"idx = \" + str(idx), '\\n')\n",
    "\n",
    "b = a[np.arange(4), idx]     # 索引 [0,0][1,2][2,0][3,1]\n",
    "print(\"a[np.arange(4), idx] = \", b, '\\n')\n",
    "\n",
    "a[np.arange(4), idx] += 10\n",
    "print(\"a[np.arange(4), idx] += 10 -> \", '\\n', a, '\\n')"
   ]
  },
  {
   "cell_type": "markdown",
   "metadata": {},
   "source": [
    "#### **使用複雜索引取出元素 – 使用布林值遮罩索引**"
   ]
  },
  {
   "cell_type": "code",
   "execution_count": 5,
   "metadata": {},
   "outputs": [
    {
     "name": "stdout",
     "output_type": "stream",
     "text": [
      "a = \n",
      "[[1 2]\n",
      " [3 4]\n",
      " [5 6]]\n",
      "\n",
      "mask = \n",
      "[[False False]\n",
      " [ True  True]\n",
      " [ True  True]]\n",
      "\n",
      "a[mask] = [3 4 5 6]\n",
      "\n",
      "a[a > 2] = -1 -> \n",
      "[[ 1  2]\n",
      " [-1 -1]\n",
      " [-1 -1]]\n"
     ]
    }
   ],
   "source": [
    "a = np.array([[1, 2], [3, 4], [5, 6]])\n",
    "print(\"a = \")\n",
    "print(a)\n",
    "\n",
    "mask = (a > 2)\n",
    "print(\"\\nmask = \")\n",
    "print(mask)\n",
    "\n",
    "b = a[mask]           # 使用布林值陣列取出值\n",
    "print(\"\\na[mask] = \" + str(b))\n",
    "\n",
    "a[a > 2] = -1         # 同時更改多個True索引\n",
    "print(\"\\na[a > 2] = -1 -> \")\n",
    "print(a)"
   ]
  },
  {
   "cell_type": "markdown",
   "metadata": {},
   "source": [
    "#### **補充 np.indices() 的用法**"
   ]
  },
  {
   "cell_type": "code",
   "execution_count": 6,
   "metadata": {},
   "outputs": [
    {
     "data": {
      "text/plain": [
       "array([[ 0,  1,  2,  3],\n",
       "       [ 4,  5,  6,  7],\n",
       "       [ 8,  9, 10, 11],\n",
       "       [12, 13, 14, 15],\n",
       "       [16, 17, 18, 19]])"
      ]
     },
     "execution_count": 6,
     "metadata": {},
     "output_type": "execute_result"
    }
   ],
   "source": [
    "x = np.arange(20).reshape(5, 4)\n",
    "x"
   ]
  },
  {
   "cell_type": "code",
   "execution_count": null,
   "metadata": {},
   "outputs": [],
   "source": [
    "row, col = np.indices((2, 3))"
   ]
  },
  {
   "cell_type": "code",
   "execution_count": null,
   "metadata": {},
   "outputs": [],
   "source": [
    "row"
   ]
  },
  {
   "cell_type": "code",
   "execution_count": null,
   "metadata": {},
   "outputs": [],
   "source": [
    "col"
   ]
  },
  {
   "cell_type": "code",
   "execution_count": null,
   "metadata": {},
   "outputs": [],
   "source": [
    "x[row, col]"
   ]
  },
  {
   "cell_type": "code",
   "execution_count": null,
   "metadata": {},
   "outputs": [],
   "source": [
    "x[row * 2, col]"
   ]
  },
  {
   "cell_type": "markdown",
   "metadata": {},
   "source": [
    "#### **陣列廣播 – 使用廣播執行陣列相加運算**\n",
    "**<font color=#FF0000>「廣播」（Broadcasting）</font>是NumPy機制，可以讓不同形狀的陣列執行數學運算，因為數學運算大都需要使用到二個陣列對應的元素；因此，NumPy會自動擴充二個陣列成為相同形狀，以便進行對應元素的數學運算。**\n",
    "**例如：當一個小陣列和一個大陣列時，如果沒有廣播機制，我們需要自行先複製小陣列元素，將它擴充成與大陣列相同的形狀後，才能執行2個陣列的數學運算，NumPy廣播機制會自動幫我們擴充小陣列來執行運算，而不用自行撰寫Python程式碼來擴充陣列，如下圖所示：**<br></br><br></br>\n",
    "<img src=\"pic/broadcast.gif\" width=\"400\"/></div>\n",
    "<br></br><br></br>\n",
    "**相關知識補充：[[1]](https://www.tutorialspoint.com/numpy/numpy_broadcasting.htm), [[2]](https://codertw.com/%E7%A8%8B%E5%BC%8F%E8%AA%9E%E8%A8%80/462108/), [[3 官網]](https://numpy.org/doc/stable/reference/generated/numpy.broadcast.html), [[4]](https://openhome.cc/Gossip/DCHardWay/Broadcasting.html)**"
   ]
  },
  {
   "cell_type": "code",
   "execution_count": null,
   "metadata": {},
   "outputs": [],
   "source": [
    "import numpy as np\n",
    "\n",
    "a = np.array([0, 10, 20, 30]).reshape(4, 1)\n",
    "print(\"a = \")\n",
    "print(a, '\\n')\n",
    "print(\"a 形狀: \" + str(a.shape), '\\n')\n",
    "\n",
    "b = np.array([0, 1, 2])\n",
    "print(\"b = \" + str(b), '\\n')\n",
    "print(\"b 形狀: \" + str(b.shape), '\\n')\n",
    "\n",
    "c = a + b\n",
    "print(\"c = \\n\", c)"
   ]
  },
  {
   "cell_type": "markdown",
   "metadata": {},
   "source": [
    "<img src=\"pic/broadcast_sample.jpg\" width=\"500\"/></div>"
   ]
  },
  {
   "cell_type": "code",
   "execution_count": null,
   "metadata": {},
   "outputs": [],
   "source": [
    "a = np.array([[1, 2, 3], [4, 5, 6], [7, 8, 9], [10, 11, 12]])\n",
    "print(\"a = \")\n",
    "print(a, '\\n')\n",
    "print(\"a 形狀: \" + str(a.shape), '\\n')\n",
    "\n",
    "b = np.array([1, 0, 1])\n",
    "print(\"b = \" + str(b), '\\n')\n",
    "print(\"b 形狀: \" + str(b.shape), '\\n')\n",
    "\n",
    "c = a + b\n",
    "print(\"c = \\n\", c)"
   ]
  },
  {
   "cell_type": "markdown",
   "metadata": {},
   "source": [
    "#### **陣列形狀與內容操作 – 陣列平坦化**"
   ]
  },
  {
   "cell_type": "code",
   "execution_count": null,
   "metadata": {},
   "outputs": [],
   "source": [
    "a = np.array([[1, 2, 3], [4, 5, 6]])\n",
    "print(\"a = \")\n",
    "print(a, '\\n')\n",
    "\n",
    "b = a.ravel()\n",
    "print(\"a.ravel() = \" + str(b), '\\n')\n",
    "\n",
    "b = np.ravel(a)\n",
    "print(\"np.ravel(a) = \" + str(b))"
   ]
  },
  {
   "cell_type": "markdown",
   "metadata": {},
   "source": [
    "#### **陣列形狀與內容操作 – 陣列平坦化**"
   ]
  },
  {
   "cell_type": "code",
   "execution_count": null,
   "metadata": {},
   "outputs": [],
   "source": [
    "a = np.array([1, 2, 3, 4, 5, 6])\n",
    "print(\"a = \" + str(a), '\\n')\n",
    "\n",
    "b = np.reshape(a, (3, 2))\n",
    "print(\"b = np.reshape(a,(3,2)) -> \")\n",
    "print(b, '\\n')\n",
    "\n",
    "c = b.T\n",
    "print(\"c = b.T -> \")\n",
    "print(c, '\\n')\n",
    "\n",
    "c = b.transpose()\n",
    "print(\"c = b.transpose() -> \")\n",
    "print(c, '\\n')\n",
    "\n",
    "c = np.transpose(b)\n",
    "print(\"c = np.transpose(b) -> \")\n",
    "print(c, '\\n')"
   ]
  },
  {
   "cell_type": "markdown",
   "metadata": {},
   "source": [
    "#### **陣列形狀與內容操作 – 更改陣列的形狀**"
   ]
  },
  {
   "cell_type": "code",
   "execution_count": null,
   "metadata": {},
   "outputs": [],
   "source": [
    "a = np.array([1, 2, 3, 4, 5, 6])\n",
    "print(\"a = \" + str(a), '\\n')\n",
    "\n",
    "b = np.reshape(a, (3, 2))\n",
    "print(\"b = np.reshape(a, (3,2)) -> \")\n",
    "print(b, '\\n')\n",
    "\n",
    "c = b.T\n",
    "print(\"c = b.T -> \")\n",
    "print(c, '\\n')\n",
    "\n",
    "c = b.transpose()\n",
    "print(\"c = b.transpose() -> \")\n",
    "print(c, '\\n')\n",
    "\n",
    "c = np.transpose(b)\n",
    "print(\"c = np.transpose(b) -> \")\n",
    "print(c)"
   ]
  },
  {
   "cell_type": "markdown",
   "metadata": {},
   "source": [
    "#### **陣列形狀與內容操作 – 新增陣列的維度**\n",
    "\n",
    "用於增加陣列 array 的維度 dimension\n",
    "比如： 1D 會變成 2D，2D 會變成 3D……\n",
    "\n",
    "x1 = np.array([1, 2, 3])\n",
    "np.shape(x1)   # (3,)\n",
    "\n",
    "x2 = x1[ : , np.newaxis]\n",
    "np.shape(x2)   # (3, 1)\n",
    "\n",
    "x3 = x1[np.newaxis, : ]\n",
    "np.shape(x3)   # (1, 3)"
   ]
  },
  {
   "cell_type": "code",
   "execution_count": null,
   "metadata": {},
   "outputs": [],
   "source": [
    "a = np.array([1, 2, 3])\n",
    "print(\"a = \" + str(a), '\\n')\n",
    "\n",
    "b = a[:, np.newaxis]\n",
    "print(\"b = a[:, np.newaxis] -> \")\n",
    "print(b)\n",
    "print(\"b.shape : \", b.shape)\n",
    "\n",
    "print()\n",
    "\n",
    "b = a[np.newaxis, :]\n",
    "print(\"b = a[np.newaxis, :] -> \")\n",
    "print(b)\n",
    "print(\"b.shape : \", b.shape)"
   ]
  },
  {
   "cell_type": "markdown",
   "metadata": {},
   "source": [
    "#### **陣列形狀與內容操作 – 陣列複製、填滿值和連接陣列**"
   ]
  },
  {
   "cell_type": "code",
   "execution_count": null,
   "metadata": {},
   "outputs": [],
   "source": [
    "a = np.array([1, 2, 3])\n",
    "print(\"a = \" + str(a))\n",
    "\n",
    "b = a.copy()\n",
    "print(\"\\nb = a.copy() -> \" + str(b))\n",
    "\n",
    "b.fill(4)\n",
    "print(\"\\nb.fill(4) = \" + str(b))\n",
    "\n",
    "c = np.concatenate((a, b))\n",
    "print(\"\\nc = np.concatenate((a, b)) -> \" + str(c))"
   ]
  },
  {
   "cell_type": "markdown",
   "metadata": {},
   "source": [
    "#### **陣列形狀與內容操作 – 連接多個二維陣列**\n",
    "**當使用np.concatenate()函數連接多個二維陣列時，我們可以指定參數axis軸的連接方向，參數值 0 是直向，可以連接在二維陣列的下方；參數值 1 是橫向，每一個陣列是連接在陣列的右方!**"
   ]
  },
  {
   "cell_type": "code",
   "execution_count": null,
   "metadata": {},
   "outputs": [],
   "source": [
    "a = np.array([[1, 2], [3, 4]])\n",
    "\n",
    "b = np.array([[5, 6], [7, 8]])\n",
    "\n",
    "c = np.concatenate((a, b))\n",
    "print(\"c = np.concatenate((a, b)) -> \")\n",
    "print(c)\n",
    "\n",
    "c = np.concatenate((a, b), axis = 0)   # 直向連接\n",
    "print(\"\\nc = np.concatenate((a, b), axis = 0) -> \")\n",
    "print(c)\n",
    "\n",
    "c = np.concatenate((a, b), axis = 1)   # 橫向連接\n",
    "print(\"\\nc = np.concatenate((a, b), axis = 1) -> \")\n",
    "print(c)"
   ]
  },
  {
   "cell_type": "markdown",
   "metadata": {},
   "source": [
    "#### **亂數函數**\n",
    "**NumPy的random子模組提供多種函數來產生亂數，和讓我們產生一整個陣列元素值的亂數值，相關函數的說明如下表所示：**<br>\n",
    "<img src=\"pic/randseed.png\" width=\"500\"/></div>"
   ]
  },
  {
   "cell_type": "code",
   "execution_count": 6,
   "metadata": {},
   "outputs": [
    {
     "name": "stdout",
     "output_type": "stream",
     "text": [
      "(v1, v2) = (0.336772, 0.526934)\n",
      "\n",
      "(v3, v4) = (6, 46)\n"
     ]
    }
   ],
   "source": [
    "np.random.seed(293423)\n",
    "\n",
    "v1 = np.random.random()\n",
    "v2 = np.random.random()\n",
    "print('(v1, v2) = (%f, %f)' % (v1, v2) )\n",
    "\n",
    "v3 = np.random.randint(5, 10)\n",
    "v4 = np.random.randint(1, 101)\n",
    "print('\\n(v3, v4) = (%d, %d)' % (v3, v4) )"
   ]
  },
  {
   "cell_type": "code",
   "execution_count": null,
   "metadata": {},
   "outputs": [],
   "source": [
    "np.random?"
   ]
  },
  {
   "cell_type": "markdown",
   "metadata": {},
   "source": [
    "#### **使用亂數函數來產生陣列元素**"
   ]
  },
  {
   "cell_type": "code",
   "execution_count": 7,
   "metadata": {},
   "outputs": [
    {
     "name": "stdout",
     "output_type": "stream",
     "text": [
      "np.random.rand(5) = \n",
      "[0.3 0.8 0.1 0.2 0.3]\n",
      "\n",
      "np.random.rand(3,2) = \n",
      "[[0.1 0.4]\n",
      " [0.4 0.8]\n",
      " [0.5 0.5]]\n",
      "\n",
      "np.random.randint(5, 10, size = 5)\n",
      "[5 7 7 7 5]\n",
      "\n",
      "np.random.randint(5, 10, size = (2, 3))\n",
      "[[6 6 8]\n",
      " [6 6 5]]\n"
     ]
    }
   ],
   "source": [
    "a = np.random.rand(5)\n",
    "print(\"np.random.rand(5) = \")\n",
    "print(a)\n",
    "\n",
    "b = np.random.rand(3, 2)  \n",
    "print(\"\\nnp.random.rand(3,2) = \")\n",
    "print(b)\n",
    "\n",
    "c = np.random.randint(5, 10, size = 5)\n",
    "print(\"\\nnp.random.randint(5, 10, size = 5)\")\n",
    "print(c)\n",
    "\n",
    "d = np.random.randint(5, 10, size = (2, 3))\n",
    "print(\"\\nnp.random.randint(5, 10, size = (2, 3))\")\n",
    "print(d)"
   ]
  },
  {
   "cell_type": "markdown",
   "metadata": {},
   "source": [
    "#### **數學函數 – 三角函數**"
   ]
  },
  {
   "cell_type": "code",
   "execution_count": null,
   "metadata": {},
   "outputs": [],
   "source": [
    "a = np.array([30, 45, 60]) \n",
    "\n",
    "print(np.sin(a * np.pi / 180), '\\n')\n",
    "\n",
    "print(np.cos(a * np.pi / 180), '\\n') \n",
    "\n",
    "print(np.tan(a * np.pi / 180)) "
   ]
  },
  {
   "cell_type": "markdown",
   "metadata": {},
   "source": [
    "#### **數學函數 – 四捨五入函數**\n",
    "**NumPy的around()函數是四捨五入函數，第2個參數指定四捨五入是哪一個十進位值的位數，預設值是0（沒有小數），1是小數點下一位；-1是10進位!**"
   ]
  },
  {
   "cell_type": "code",
   "execution_count": 9,
   "metadata": {},
   "outputs": [
    {
     "name": "stdout",
     "output_type": "stream",
     "text": [
      "a = [  1.    5.5 123.    0.6  25.5]\n",
      "\n",
      "np.around(a) =  [  1.   6. 123.   1.  26.]\n",
      "\n",
      "np.around(a, decimals = 1) =  [  1.    5.6 123.    0.6  25.5]\n",
      "\n",
      "np.around(a, decimals = -1) =  [  0.  10. 120.   0.  30.]\n",
      "\n",
      "a = [-1.7  1.5 -0.2  0.6 10. ]\n",
      "\n",
      "floor() = [-2.  1. -1.  0. 10.]\n",
      "\n",
      "ceil() = [-1.  2. -0.  1. 10.]\n"
     ]
    }
   ],
   "source": [
    "a = np.array([1.0,5.55, 123, 0.567, 25.532]) \n",
    "print(\"a = \" + str(a))\n",
    "\n",
    "print('\\nnp.around(a) = ', np.around(a))\n",
    "\n",
    "print('\\nnp.around(a, decimals = 1) = ', np.around(a, decimals = 1) ) # 1指小數點下一位\n",
    "\n",
    "print('\\nnp.around(a, decimals = -1) = ', np.around(a, decimals = -1)) # -1指10進位數\n",
    "\n",
    "a = np.array([-1.7, 1.5, -0.2, 0.6, 10]) \n",
    "print(\"\\na = \" + str(a))\n",
    "\n",
    "b = np.floor(a)\n",
    "print(\"\\nfloor() = \" + str(b))\n",
    "\n",
    "b = np.ceil(a)\n",
    "print(\"\\nceil() = \" + str(b))"
   ]
  },
  {
   "cell_type": "markdown",
   "metadata": {},
   "source": [
    "### **陣列與矩陣的使用與比較**"
   ]
  },
  {
   "cell_type": "code",
   "execution_count": null,
   "metadata": {},
   "outputs": [],
   "source": [
    "A = np.array([[1, 2], [3, 4]])   # 產生陣列 (ndarray)\n",
    "\n",
    "B = np.matrix([[1, 2], [3, 4]])  # 產生矩陣 (matrix)"
   ]
  },
  {
   "cell_type": "markdown",
   "metadata": {},
   "source": [
    "**使用矩陣產生的方式，可在許多複雜的計算時可以提高算式的可讀性！\n",
    "例如要計算以下的算式：**\n",
    "              $S=(ABA^T)^{-1}$"
   ]
  },
  {
   "cell_type": "code",
   "execution_count": null,
   "metadata": {},
   "outputs": [],
   "source": [
    "# 使用 ndarray 的寫法\n",
    "S = np.linalg.inv(A.dot(B.dot(A.T)))\n",
    "print(\"S = \\n\", S, '\\n')\n",
    "\n",
    "# 使用 matrix 的寫法\n",
    "S = np.linalg.inv( A * B * A.T )    # 可讀性高\n",
    "print(\"S = \\n\", S, '\\n')\n",
    "\n",
    "# NumPy v1.0+ 與 Python 3.5+ 之後有增加 '@' 運算子給 ndarray 陣列使用，以提高可讀性！\n",
    "S = np.linalg.inv( A @ B @ A.T)\n",
    "print(\"S = \\n\", S, '\\n')"
   ]
  },
  {
   "cell_type": "markdown",
   "metadata": {},
   "source": [
    "### np.where() 的使用\n",
    "**numpy.where(condition[, x, y])，基於條件condition，返回值來自 x(True) 或者 y(False)。 請參考 [[1]](https://www.delftstack.com/zh-tw/api/numpy/python-numpy-where/) [[2]](https://codertw.com/%E7%A8%8B%E5%BC%8F%E8%AA%9E%E8%A8%80/358538/)**"
   ]
  },
  {
   "cell_type": "code",
   "execution_count": null,
   "metadata": {},
   "outputs": [],
   "source": [
    "np.where?"
   ]
  }
 ],
 "metadata": {
  "kernelspec": {
   "display_name": "Python 3",
   "language": "python",
   "name": "python3"
  },
  "language_info": {
   "codemirror_mode": {
    "name": "ipython",
    "version": 3
   },
   "file_extension": ".py",
   "mimetype": "text/x-python",
   "name": "python",
   "nbconvert_exporter": "python",
   "pygments_lexer": "ipython3",
   "version": "3.8.5"
  }
 },
 "nbformat": 4,
 "nbformat_minor": 2
}
