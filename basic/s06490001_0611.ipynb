{
 "cells": [
  {
   "cell_type": "markdown",
   "metadata": {},
   "source": [
    "## <font color=#0000FF>程式作業六</font>\n",
    "1. **繳交期限為<font color=#FF6600> 2021/06/15 24:00</font> 以前上傳至 Moodle LMS 教學平台。**\n",
    "2. **上傳作業時，必須完成以下幾件事：**\n",
    "    * **將目前您所看到的此檔案(hw6.ipynb)，改為(<font color=#FF00FF>您的學號</font><font color=#0000FF>_hw6.ipynb</font>)。**\n",
    "    * **建立一個全新的資料夾，將上述作業檔案置入，並將資料夾的名稱改為<font color=#FF00FF>您的學號</font>。**\n",
    "    * **將上述包含作業的資料夾以 <font color=#FF0000>ZIP</font> 格式壓縮後上傳。**\n",
    "\n",
    "3. **<font color=#FF0000>注意事項：所有程式作業應積極相互討論，但不得寫出同一版本或相互抄襲。您所完成繳交的作業是否有抄襲由評分的助教自行判斷，不會找您來確認，因為不會有兩個人會寫出相同的程式！所以強烈建議不要任意將自己已經完成的作業程式碼公開分享給其他同學。</font>**\n",
    "4. **評分依據：**\n",
    "    1. **標頭註解與指令註解完整度    <font color=#0000FF>30%</font>**\n",
    "    2. **程式的輸出入格式與內容 <font color=#0000FF>20%</font>**\n",
    "    3. **程式執行正確性(含)\t   <font color=#0000FF>50%</font>**\n",
    "5. **標頭註解與指令註解的撰寫請參考教學平台上老師提供的範例，至於要使用 Markdown 或 Code comments 的方式來撰寫請自選，程式盡量【逐行】或以【區塊方式】加註解說明，越完整清楚越好。**"
   ]
  },
  {
   "cell_type": "markdown",
   "metadata": {},
   "source": [
    "### <font color=#FF6600>作業內容</font>\n",
    "\n",
    "1. **本次作業限用 NumPy, Pandas, 等相關指令語法。**\n",
    "1. **作業必須在 Jupyter Notebook 上完成。**\n",
    "1. **本次作業包含二個大題，請依序將每一個大題中的作業要求寫在指定的 cell 內。**"
   ]
  },
  {
   "cell_type": "markdown",
   "metadata": {},
   "source": [
    "### <font color=#0000FF>第一題：</font>\n",
    "***\n",
    "**請限定利用 Pandas 套件來讀取 data1.csv 內的資料，並將讀取出來的資料轉換成 DataFrame 型態，再完成以下要求：**\n",
    "1. **改變索引值為從 1 開始而非從 0 開始，並顯示其結果(請參考如何使用 Pandas 中的 set_index())**\n",
    "2. **顯示前兩筆紀錄的資料(請參考如何使用 Pandas 中的 head())**\n",
    "3. **挑選並顯示〝白醋〞這個品項的進貨紀錄(請在網路上參考如何使用 Pandas 的指定欄位與欄位名稱方法)**\n",
    "4. **計算表格中各種不同單位的商品數量並顯示於螢幕上(請參考如何使用 Pandas 中的 groupby() 與其相關的屬性與方法)**\n",
    "5. **根據進貨日期從小到大排序並輸出結果，但資料的索引值無須變更重設(請參考如何使用 Pandas 中 sort_values())**\n",
    "<BR><BR>**本題執行的結果預期如下圖中所示：**\n",
    "<P><div><img src=\"hw6_1.jpg\" width=\"300\"/></div>\n",
    "</p>\n",
    "\n",
    "#### <font color=#FF0000>※ 以上每一個子題限定使用 NumPy, Pandas, Matplotlib 提供的方法完成；切記：每題答案如果超過二行指令就是錯的！</font>"
   ]
  },
  {
   "cell_type": "code",
   "execution_count": 2,
   "metadata": {},
   "outputs": [],
   "source": [
    "import numpy as np     # 讀入 Numpy 函式庫\n",
    "import pandas as pd    # 讀入 Pandas 函式庫"
   ]
  },
  {
   "cell_type": "markdown",
   "metadata": {},
   "source": [
    "### 根據題目所給的資料檔案，建立一個 Pandas 的 DataFrame 資料結構"
   ]
  },
  {
   "cell_type": "code",
   "execution_count": 4,
   "metadata": {},
   "outputs": [
    {
     "name": "stdout",
     "output_type": "stream",
     "text": [
      "  商品名稱       進貨日期  數量  單位\n",
      "0   鹽巴   2019/5/2  15  公升\n",
      "1   白醋   2019/5/2  10  公升\n",
      "2   醬油   2019/5/9  15  公升\n",
      "3  胡椒粉  2019/5/10  12   包\n",
      "4  辣椒粉  2019/4/30   8   包 \n",
      "\n"
     ]
    }
   ],
   "source": [
    "df = pd.read_csv(\"data1.csv\", encoding = \"utf8\")  #讀取檔案\n",
    "\n",
    "print(df, '\\n')    #輸出"
   ]
  },
  {
   "cell_type": "markdown",
   "metadata": {},
   "source": [
    "### 1. 改變索引值為從 1 開始而非從 0 開始，並顯示其結果"
   ]
  },
  {
   "cell_type": "code",
   "execution_count": 5,
   "metadata": {},
   "outputs": [
    {
     "name": "stdout",
     "output_type": "stream",
     "text": [
      "  商品名稱       進貨日期  數量  單位\n",
      "1   鹽巴   2019/5/2  15  公升\n",
      "2   白醋   2019/5/2  10  公升\n",
      "3   醬油   2019/5/9  15  公升\n",
      "4  胡椒粉  2019/5/10  12   包\n",
      "5  辣椒粉  2019/4/30   8   包 \n",
      "\n"
     ]
    }
   ],
   "source": [
    "df.index += 1          #將dataframe的索引值+1\n",
    "print (df,'\\n')     #輸出"
   ]
  },
  {
   "cell_type": "markdown",
   "metadata": {},
   "source": [
    "### 2. 顯示前兩筆紀錄的資料"
   ]
  },
  {
   "cell_type": "code",
   "execution_count": 6,
   "metadata": {},
   "outputs": [
    {
     "name": "stdout",
     "output_type": "stream",
     "text": [
      "前兩筆紀錄： \n",
      "   商品名稱      進貨日期  數量  單位\n",
      "1   鹽巴  2019/5/2  15  公升\n",
      "2   白醋  2019/5/2  10  公升\n"
     ]
    }
   ],
   "source": [
    "print(\"前兩筆紀錄：\",'\\n',df.head(2))  #利用head輸出前2筆資料"
   ]
  },
  {
   "cell_type": "markdown",
   "metadata": {},
   "source": [
    "### 3. 挑選並顯示〝白醋〞這個品項的進貨紀錄"
   ]
  },
  {
   "cell_type": "code",
   "execution_count": 7,
   "metadata": {},
   "outputs": [
    {
     "name": "stdout",
     "output_type": "stream",
     "text": [
      "白醋進貨紀錄： \n",
      "   商品名稱      進貨日期  數量  單位\n",
      "2   白醋  2019/5/2  10  公升\n"
     ]
    }
   ],
   "source": [
    "print(\"白醋進貨紀錄：\",\"\\n\",df.loc[[2], [\"商品名稱\", \"進貨日期\",\"數量\",\"單位\"]])   #利用loc把特定欄位輸出"
   ]
  },
  {
   "cell_type": "markdown",
   "metadata": {},
   "source": [
    "### 4. 計算表格中各種不同單位的商品數量並顯示於螢幕上"
   ]
  },
  {
   "cell_type": "code",
   "execution_count": 8,
   "metadata": {},
   "outputs": [
    {
     "name": "stdout",
     "output_type": "stream",
     "text": [
      "計算表格中各種不同單位的商品數量： \n",
      "     商品名稱  進貨日期  數量\n",
      "單位                \n",
      "公升     3     3   3\n",
      "包      2     2   2 \n",
      "\n"
     ]
    },
    {
     "data": {
      "text/plain": [
       "單位\n",
       "公升    3\n",
       "包     2\n",
       "Name: 數量, dtype: int64"
      ]
     },
     "execution_count": 8,
     "metadata": {},
     "output_type": "execute_result"
    }
   ],
   "source": [
    "print('計算表格中各種不同單位的商品數量：','\\n',df.groupby([\"單位\"]).count(), '\\n')   #以單位來計算數量\n",
    "df.groupby('單位')['數量'].count()"
   ]
  },
  {
   "cell_type": "markdown",
   "metadata": {},
   "source": [
    "### 5. 根據進貨日期從小到大排序並輸出結果，但資料的索引值無須變更重設"
   ]
  },
  {
   "cell_type": "code",
   "execution_count": 11,
   "metadata": {},
   "outputs": [
    {
     "name": "stdout",
     "output_type": "stream",
     "text": [
      "根據進貨日期從小到大排序： \n",
      "   商品名稱       進貨日期  數量  單位\n",
      "5  辣椒粉  2019/4/30   8   包\n",
      "4  胡椒粉  2019/5/10  12   包\n",
      "1   鹽巴   2019/5/2  15  公升\n",
      "2   白醋   2019/5/2  10  公升\n",
      "3   醬油   2019/5/9  15  公升\n"
     ]
    },
    {
     "name": "stderr",
     "output_type": "stream",
     "text": [
      "<>:6: SyntaxWarning: 'list' object is not callable; perhaps you missed a comma?\n",
      "<>:6: SyntaxWarning: 'list' object is not callable; perhaps you missed a comma?\n",
      "<ipython-input-11-05dddd490c1f>:6: SyntaxWarning: 'list' object is not callable; perhaps you missed a comma?\n",
      "  df['進貨日期']=['進貨日期'](lambda x:dt.dt.datetime.strptime(x,'%Y/%m/%d'))\n"
     ]
    },
    {
     "ename": "TypeError",
     "evalue": "'list' object is not callable",
     "output_type": "error",
     "traceback": [
      "\u001b[1;31m---------------------------------------------------------------------------\u001b[0m",
      "\u001b[1;31mTypeError\u001b[0m                                 Traceback (most recent call last)",
      "\u001b[1;32m<ipython-input-11-05dddd490c1f>\u001b[0m in \u001b[0;36m<module>\u001b[1;34m\u001b[0m\n\u001b[0;32m      4\u001b[0m \u001b[0mprint\u001b[0m\u001b[1;33m(\u001b[0m\u001b[1;34m'根據進貨日期從小到大排序：'\u001b[0m\u001b[1;33m,\u001b[0m\u001b[1;34m'\\n'\u001b[0m\u001b[1;33m,\u001b[0m\u001b[0mdf2\u001b[0m\u001b[1;33m)\u001b[0m \u001b[1;31m#輸出\u001b[0m\u001b[1;33m\u001b[0m\u001b[1;33m\u001b[0m\u001b[0m\n\u001b[0;32m      5\u001b[0m \u001b[1;33m\u001b[0m\u001b[0m\n\u001b[1;32m----> 6\u001b[1;33m \u001b[0mdf\u001b[0m\u001b[1;33m[\u001b[0m\u001b[1;34m'進貨日期'\u001b[0m\u001b[1;33m]\u001b[0m\u001b[1;33m=\u001b[0m\u001b[1;33m[\u001b[0m\u001b[1;34m'進貨日期'\u001b[0m\u001b[1;33m]\u001b[0m\u001b[1;33m(\u001b[0m\u001b[1;32mlambda\u001b[0m \u001b[0mx\u001b[0m\u001b[1;33m:\u001b[0m\u001b[0mdt\u001b[0m\u001b[1;33m.\u001b[0m\u001b[0mdt\u001b[0m\u001b[1;33m.\u001b[0m\u001b[0mdatetime\u001b[0m\u001b[1;33m.\u001b[0m\u001b[0mstrptime\u001b[0m\u001b[1;33m(\u001b[0m\u001b[0mx\u001b[0m\u001b[1;33m,\u001b[0m\u001b[1;34m'%Y/%m/%d'\u001b[0m\u001b[1;33m)\u001b[0m\u001b[1;33m)\u001b[0m\u001b[1;33m\u001b[0m\u001b[1;33m\u001b[0m\u001b[0m\n\u001b[0m\u001b[0;32m      7\u001b[0m \u001b[0mdf2\u001b[0m \u001b[1;33m=\u001b[0m \u001b[0mdf\u001b[0m\u001b[1;33m.\u001b[0m\u001b[0msort_values\u001b[0m\u001b[1;33m(\u001b[0m\u001b[1;34m\"進貨日期\"\u001b[0m\u001b[1;33m,\u001b[0m \u001b[0mascending\u001b[0m \u001b[1;33m=\u001b[0m \u001b[1;32mTrue\u001b[0m\u001b[1;33m)\u001b[0m\u001b[1;33m\u001b[0m\u001b[1;33m\u001b[0m\u001b[0m\n",
      "\u001b[1;31mTypeError\u001b[0m: 'list' object is not callable"
     ]
    }
   ],
   "source": [
    "import datetime as dt\n",
    "\n",
    "df2 = df.sort_values(\"進貨日期\", ascending = True)     #根據進貨日期從小到大排序\n",
    "print('根據進貨日期從小到大排序：','\\n',df2) #輸出\n",
    "\n",
    "df['進貨日期']=['進貨日期'](lambda x:dt.dt.datetime.strptime(x,'%Y/%m/%d'))\n",
    "df2 = df.sort_values(\"進貨日期\", ascending = True)"
   ]
  },
  {
   "cell_type": "markdown",
   "metadata": {},
   "source": [
    "### <font color=#0000FF>第二題：</font>\n",
    "***\n",
    "**建立一個學生資料名單如下，並請完成以下的需求：<BR>\n",
    "<BLOCKQUOTE>Name = [‘張甲’, ’王大同’, ’倪再興’, ’余筱雯’, ’李琳一’, ’邊方’]\n",
    "<BR><BR>Scores = [65, 98, 82, 77, 61, 92] \n",
    "</BLOCKQUOTE>\n",
    "<font color=#FF0000>本題請參考第一題的作法，不另外給其它提示！**</font>\n",
    "1. **將學生資料轉成 DataFrame 的結構之後，請改變其索引值為為從 1 開始並列印出 DataFrame 內的資料**\n",
    "1. **請列出資料根據名字從小到大排序之後的結果，但資料的索引值無須變更重設**\n",
    "1. **請列出資料根據分數從大到小排序之後的結果，但資料的索引值無需變更重設**\n",
    "1. **請列出分數高於 80 分的學生其所有相關資料**\n",
    "<BR><BR>**本題執行的結果預期如下圖中所示：**\n",
    "<P><div><img src=\"hw6_2.jpg\" width=\"300\"/></div>\n",
    "</p>\n",
    "   \n",
    "#### <font color=#FF0000>※ 以上每一個子題限定使用 NumPy, Pandas, Matplotlib 提供的方法完成；切記：每題答案如果超過二行指令就是錯的！</font>"
   ]
  },
  {
   "cell_type": "code",
   "execution_count": 4,
   "metadata": {},
   "outputs": [],
   "source": [
    "import numpy as np     # 讀入 Numpy 函式庫\n",
    "import pandas as pd    # 讀入 Pandas 函式庫"
   ]
  },
  {
   "cell_type": "markdown",
   "metadata": {},
   "source": [
    "### 根據題目所給的資料內容，建立一個 Pandas 的 DataFrame 資料結構\n",
    "<font color=#FF0000>**(本子題限四行指令內完成)**</font>"
   ]
  },
  {
   "cell_type": "code",
   "execution_count": 14,
   "metadata": {},
   "outputs": [
    {
     "name": "stdout",
     "output_type": "stream",
     "text": [
      "原始資料： \n",
      "   Name  Scores\n",
      "0   張甲      65\n",
      "1  王大同      98\n",
      "2  倪再興      82\n",
      "3  余筱雯      77\n",
      "4  李琳一      61\n",
      "5   邊方      92\n"
     ]
    }
   ],
   "source": [
    "dist = {'Name':['張甲', '王大同', '倪再興', '余筱雯', '李琳一','邊方'],  #設立字典和資料\n",
    "        'Scores':[65,98,82,77,61,92]}\n",
    "df = pd.DataFrame(dist)                 #建立成dataframe\n",
    "print('原始資料：','\\n',df)              #輸出"
   ]
  },
  {
   "cell_type": "markdown",
   "metadata": {},
   "source": [
    "### 1. 將學生資料轉成 DataFrame 的結構之後，請改變其索引值為為從 1 開始並列印出 DataFrame 內的資料"
   ]
  },
  {
   "cell_type": "code",
   "execution_count": 15,
   "metadata": {},
   "outputs": [
    {
     "name": "stdout",
     "output_type": "stream",
     "text": [
      "索引值為為從 1 開始： \n",
      "   Name  Scores\n",
      "1   張甲      65\n",
      "2  王大同      98\n",
      "3  倪再興      82\n",
      "4  余筱雯      77\n",
      "5  李琳一      61\n",
      "6   邊方      92\n"
     ]
    }
   ],
   "source": [
    "df.index += 1               #將dataframe的索引值+1\n",
    "print('索引值為為從 1 開始：','\\n',df)   #輸出"
   ]
  },
  {
   "cell_type": "markdown",
   "metadata": {},
   "source": [
    "### 2. 請列出資料根據名字從小到大排序之後的結果，但資料的索引值無須變更重設"
   ]
  },
  {
   "cell_type": "code",
   "execution_count": 16,
   "metadata": {},
   "outputs": [
    {
     "name": "stdout",
     "output_type": "stream",
     "text": [
      "根據名字從小到大排序： \n",
      "   Name  Scores\n",
      "4  余筱雯      77\n",
      "3  倪再興      82\n",
      "1   張甲      65\n",
      "5  李琳一      61\n",
      "2  王大同      98\n",
      "6   邊方      92\n"
     ]
    }
   ],
   "source": [
    "df2 = df.sort_values(\"Name\", ascending = True)  #根據名字從小到大排序\n",
    "print('根據名字從小到大排序：','\\n',df2)          #輸出"
   ]
  },
  {
   "cell_type": "markdown",
   "metadata": {},
   "source": [
    "### 3. 請列出資料根據分數從大到小排序之後的結果，但資料的索引值無需變更重設"
   ]
  },
  {
   "cell_type": "code",
   "execution_count": 18,
   "metadata": {},
   "outputs": [
    {
     "name": "stdout",
     "output_type": "stream",
     "text": [
      "根據分數從大到小排序： \n",
      "   Name  Scores\n",
      "2  王大同      98\n",
      "6   邊方      92\n",
      "3  倪再興      82\n",
      "4  余筱雯      77\n",
      "1   張甲      65\n",
      "5  李琳一      61\n"
     ]
    }
   ],
   "source": [
    "df3 = df.sort_values(\"Scores\", ascending = False)  #根據分數從大到小排序\n",
    "print('根據分數從大到小排序：','\\n',df3)            #輸出"
   ]
  },
  {
   "cell_type": "markdown",
   "metadata": {},
   "source": [
    "### 4. 請列出分數高於 80 分的學生其所有相關資料"
   ]
  },
  {
   "cell_type": "code",
   "execution_count": 22,
   "metadata": {},
   "outputs": [
    {
     "name": "stdout",
     "output_type": "stream",
     "text": [
      "  Name  Scores\n",
      "2  王大同      98\n",
      "6   邊方      92\n",
      "3  倪再興      82\n"
     ]
    }
   ],
   "source": [
    "print(df3[df3[\"Scores\"] > 80])    #列出分數高於 80 分的學生"
   ]
  },
  {
   "cell_type": "markdown",
   "metadata": {},
   "source": [
    "### <font color=#0000FF>第三題：</font>\n",
    "***\n",
    "**兩家公司(A公司與B公司)的五個部門(人事部門、會計部門、設計部門、行銷部門、採購部門)員工數量分別為 A：8、5、10、12、5，以及 B：10、8、20、18、12。請使用 Matplotlib 視覺化工具繪出兩個圓餅圖描述上述資料，圖表設定樣式需求如下：**\n",
    "1. **圖上所有標籤文字一律要使用英文(免得中文字會顯示不出來)**\n",
    "2. **各部門在圖上請以英文名稱來呈現，依序對應為Personnel Department, Accounting Department, Design Department, Marketing Department, Purchasing Department**\n",
    "3. **各部門所使用的區塊顏色依序對應為：violet, yellow, skyblue, lightcoral, lightgreen**\n",
    "4. **圓餅圖上請突顯”行銷部門”**\n",
    "5. **數據顯示格式：小數點後一位**\n",
    "6. **起始角度：90**\n",
    "7. **圖表形狀：圓形，而非橢圓形**\n",
    "8. **圖1名稱：Company A**\n",
    "9. **圖2名稱：Company B**\n",
    "10. **圖表名稱字型大小：20pts**\n",
    "<BR>\n",
    "    \n",
    "**完成本題所需要使用到的技巧除了參考老師的教材以外，務必請參閱(看完再寫)：** [[1]](https://ithelp.ithome.com.tw/articles/10196410), [[2]](https://www.w3schools.com/python/matplotlib_pie_charts.asp), [[3]](https://www.tutorialspoint.com/matplotlib/matplotlib_pie_chart.htm), [[4]](https://statistics-using-python.blogspot.com/2019/09/python-pie-chart-using-python.html), [[5]](https://zi.media/@newaurorapixnetnetblog/post/DsZGsH)\n",
    "\n",
    "<BR>**本題執行的結果預期如下圖中所示：**\n",
    "<P><div><img src=\"hw6_3.jpg\" width=\"400\"/></div>\n",
    "</p>\n",
    "\n",
    "#### <font color=#FF0000>※ 以上每一個子題限定使用 NumPy, Pandas, Matplotlib 提供的方法完成；本題指令不限行數！</font>"
   ]
  },
  {
   "cell_type": "code",
   "execution_count": 30,
   "metadata": {},
   "outputs": [],
   "source": [
    "import matplotlib.pyplot as plt    # 讀入 Matplotlib 中的 pyplot 函式庫\n",
    "import numpy as np     # 讀入 Numpy 函式庫\n",
    "import pandas as pd    # 讀入 Pandas 函式庫"
   ]
  },
  {
   "cell_type": "code",
   "execution_count": 48,
   "metadata": {},
   "outputs": [
    {
     "data": {
      "image/png": "[encoded data removed]",
      "text/plain": [
       "<Figure size 432x288 with 1 Axes>"
      ]
     },
     "metadata": {},
     "output_type": "display_data"
    }
   ],
   "source": [
    "labels = [\"Personnel Department\", \"Accounting Department\", \"Design Department\", \"Marketing Department\", \"Purchasing Department\"]#設立部門資料\n",
    "\n",
    "colunmA= [8, 5, 10, 12, 5]     #人數資料\n",
    "\n",
    "colors = ['violet', 'yellow', 'skyblue', 'lightcoral', 'lightgreen'] #顏色資料\n",
    "\n",
    "plt.pie(colunmA , labels=labels , autopct='%1.1f%%', explode = explode, colors = colors, startangle = 90)   #調整派圖顯示小數點、將銷售部門凸顯、顯示顏色、起始角度\n",
    "\n",
    "explode = (0, 0, 0, 0.1, 0)   #調整凸顯的幅度\n",
    "\n",
    "plt.title(\"CompanyA\",fontsize=20)  #標題名稱與調整大小\n",
    "\n",
    "plt.show()    #輸出"
   ]
  },
  {
   "cell_type": "code",
   "execution_count": 49,
   "metadata": {},
   "outputs": [
    {
     "data": {
      "image/png": "[encoded data removed]",
      "text/plain": [
       "<Figure size 432x288 with 1 Axes>"
      ]
     },
     "metadata": {},
     "output_type": "display_data"
    }
   ],
   "source": [
    "labels = [\"Personnel Department\", \"Accounting Department\", \"Design Department\", \"Marketing Department\", \"Purchasing Department\"]#設立部門資料\n",
    "\n",
    "colunmB= [10, 8, 20, 18, 12]     #人數資料\n",
    "\n",
    "colors = ['violet', 'yellow', 'skyblue', 'lightcoral', 'lightgreen']   #顏色資料\n",
    "\n",
    "plt.pie(colunmB , labels=labels , autopct='%1.1f%%', explode = explode, colors = colors, startangle = 90)    #調整派圖顯示小數點、將銷售部門凸顯、顯示顏色、起始角度\n",
    "\n",
    "explode = (0, 0, 0, 0.1, 0) #調整凸顯的幅度\n",
    "\n",
    "plt.title(\"CompanyB\",fontsize=20) #標題名稱與調整大小\n",
    "\n",
    "plt.show()   #輸出"
   ]
  }
 ],
 "metadata": {
  "kernelspec": {
   "display_name": "Python 3",
   "language": "python",
   "name": "python3"
  },
  "language_info": {
   "codemirror_mode": {
    "name": "ipython",
    "version": 3
   },
   "file_extension": ".py",
   "mimetype": "text/x-python",
   "name": "python",
   "nbconvert_exporter": "python",
   "pygments_lexer": "ipython3",
   "version": "3.8.5"
  }
 },
 "nbformat": 4,
 "nbformat_minor": 2
}
