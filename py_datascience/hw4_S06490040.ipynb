{
 "cells": [
  {
   "cell_type": "markdown",
   "metadata": {},
   "source": [
    "# ***********************************************************\n",
    "## Name: 王品力\n",
    "## Class: 資管系三年級\n",
    "## SID: S06490040\n",
    "## Program Name: hw4_S06490040.ipynb\n",
    "## Function: Numpy練習\n",
    "## Homework: No.4\n",
    "## Limitations: 照老師題目所要求\n",
    "## Date: 2020/05/17\n",
    "## ***********************************************************"
   ]
  },
  {
   "cell_type": "code",
   "execution_count": 1,
   "metadata": {},
   "outputs": [],
   "source": [
    "import numpy as np #引入Numpy模組"
   ]
  },
  {
   "cell_type": "markdown",
   "metadata": {},
   "source": [
    "## P1-1 以 NumPy 內建工具來產生 60 個介於 50 到 +99 之間的亂數整數，每一個整數大小為 64 位元。將這 60 個整數 任意 放入一個 6 X10 的陣列中，以每一列 (為單位， 分別 計算並輸出以下需求 數值需四捨五入制小數點後兩位數):\n",
    "## a、 顯示 資料集的型態\n",
    "## b、 平均數\n",
    "## c、 中位數\n",
    "## d、 標準差\n",
    "## e、 變異數\n",
    "## f、 集差值 ( 請參考如何使用 numpy.ptp() )，本題要的是特定一 列的集差值。\n",
    "## 以上每一個子題限定使用numpy 提供的方法完成，每題超過一行指令就是錯的！"
   ]
  },
  {
   "cell_type": "markdown",
   "metadata": {},
   "source": [
    "# ============================================================="
   ]
  },
  {
   "cell_type": "code",
   "execution_count": 2,
   "metadata": {},
   "outputs": [
    {
     "name": "stdout",
     "output_type": "stream",
     "text": [
      "[[ 56  73 -34  52  14  87   5  81  52  40]\n",
      " [ 23  52  52 -35  22  65  56  31  68 -19]\n",
      " [-14   2  61  48   1 -15 -27  38 -37  -5]\n",
      " [ 61  99 -31 -35 -23  74 -15  21 -25  81]\n",
      " [ 39  91 -30  44  23   5 -24  49   2  64]\n",
      " [ 13  66  32  51  67  64  49  64   2  57]]\n"
     ]
    }
   ],
   "source": [
    "P_1 = np.random.randint(-50, 100, size = (6, 10), dtype = \"int64\") #產生一個6*10的陣列，內容為64位元-50到99之間的亂數整數\n",
    "print(P_1)                                                         #印出內容"
   ]
  },
  {
   "cell_type": "markdown",
   "metadata": {},
   "source": [
    "### a、 顯示 資料集的型態"
   ]
  },
  {
   "cell_type": "code",
   "execution_count": 3,
   "metadata": {},
   "outputs": [
    {
     "name": "stdout",
     "output_type": "stream",
     "text": [
      "int64 \n",
      " int64 \n",
      " int64 \n",
      " int64 \n",
      " int64 \n",
      " int64\n"
     ]
    }
   ],
   "source": [
    "print(P_1[0].dtype,\"\\n\",P_1[1].dtype,\"\\n\",P_1[2].dtype,\"\\n\",P_1[3].dtype,\"\\n\",P_1[4].dtype,\"\\n\",P_1[5].dtype) #印出P_1資料集每一列的資料型態\n",
    "# 或是直接打P_1[0],P_1[1],P_1[2],P_1[3],P_1[4],P_1[5] 心純老師說上面或這個寫法都可以，都給分"
   ]
  },
  {
   "cell_type": "markdown",
   "metadata": {},
   "source": [
    "### b、 平均數"
   ]
  },
  {
   "cell_type": "code",
   "execution_count": 4,
   "metadata": {},
   "outputs": [
    {
     "name": "stdout",
     "output_type": "stream",
     "text": [
      "[42.6 31.5  5.2 20.7 26.3 46.5]\n"
     ]
    }
   ],
   "source": [
    "print(np.around(np.mean(P_1, axis=1), decimals=2)) #印出P_1每列的平均數"
   ]
  },
  {
   "cell_type": "markdown",
   "metadata": {},
   "source": [
    "### c、 中位數"
   ]
  },
  {
   "cell_type": "code",
   "execution_count": 5,
   "metadata": {},
   "outputs": [
    {
     "name": "stdout",
     "output_type": "stream",
     "text": [
      "[52.  41.5 -2.   3.  31.  54. ]\n"
     ]
    }
   ],
   "source": [
    "print(np.around(np.median(P_1, axis=1), decimals=2)) #印出P_1每列的中位數"
   ]
  },
  {
   "cell_type": "markdown",
   "metadata": {},
   "source": [
    "### d、 標準差"
   ]
  },
  {
   "cell_type": "code",
   "execution_count": 6,
   "metadata": {},
   "outputs": [
    {
     "name": "stdout",
     "output_type": "stream",
     "text": [
      "[35.82 33.21 31.22 50.28 36.54 22.05]\n"
     ]
    }
   ],
   "source": [
    "print(np.around(np.std(P_1, axis=1), decimals=2)) #印出P_1每列的標準差"
   ]
  },
  {
   "cell_type": "markdown",
   "metadata": {},
   "source": [
    "### e、 變異數"
   ]
  },
  {
   "cell_type": "code",
   "execution_count": 7,
   "metadata": {},
   "outputs": [
    {
     "name": "stdout",
     "output_type": "stream",
     "text": [
      "[1283.24 1103.05  974.76 2528.01 1335.21  486.25]\n"
     ]
    }
   ],
   "source": [
    "print(np.around(np.var(P_1, axis=1), decimals=2)) #印出P_1每列的變異數"
   ]
  },
  {
   "cell_type": "markdown",
   "metadata": {},
   "source": [
    "### f、 集差值 ( 請參考如何使用 numpy.ptp() )，本題要的是特定一 列的集差值。"
   ]
  },
  {
   "cell_type": "code",
   "execution_count": 8,
   "metadata": {},
   "outputs": [
    {
     "name": "stdout",
     "output_type": "stream",
     "text": [
      "[121 103  98 134 121  65]\n"
     ]
    }
   ],
   "source": [
    "print(np.around(np.ptp(P_1, axis=1), decimals=2)) #印出P_1每列的極差值"
   ]
  },
  {
   "cell_type": "markdown",
   "metadata": {},
   "source": [
    "                                ↑↑↑                   P1-1 Finish                    ↑↑↑"
   ]
  },
  {
   "cell_type": "markdown",
   "metadata": {},
   "source": [
    "## P1-2 以 NumPy 內建工具來產生一個 3X4 的陣列 A ，以及一個 4X5 的陣列 B ，每\n",
    "## 一個陣列的元素為介於 1 到 50 之間的亂數整數，每一個整數大小為 32 位\n",
    "## 元。 請完成 以下 的 需求：\n",
    "## a、 顯示陣列 A 和陣列 B\n",
    "## b、 找出陣列 A 中每一列 ( row )的最大值。\n",
    "## c、 找出陣列 A 第二 列 ( row ) 中所有小於 30 的數值 。\n",
    "## d、 找出陣列 B 中每一行 或欄 ( column ) 的最大值。\n",
    "## e、 找出陣列 B 第二行 (column) 中所有小於 30 的數值。\n",
    "## f、 顯示 陣列 A 中第一 列 ( row ) 和陣列 B 中第一列的聯集結果 。\n",
    "## g、 計算與輸出陣列 A 與陣列 B 相乘的結果 。\n",
    "## h、 將兩個陣列扁平化後，輸出 陣列 A 交集 陣列 B 的集合運算結果。\n",
    "## i、 同上一題 ，輸出陣列 A 差集 陣列 B 的 集合運算 結果。\n",
    "## 以上每一個子題限定使用\n",
    "## numpy 提供的方法完成，每題超過一行指令就是錯的！"
   ]
  },
  {
   "cell_type": "markdown",
   "metadata": {},
   "source": [
    "# ============================================================="
   ]
  },
  {
   "cell_type": "code",
   "execution_count": 9,
   "metadata": {},
   "outputs": [],
   "source": [
    "P_2A = np.random.randint(1, 51, size = (3, 4), dtype = \"int32\") #產生兩個3*4與4*5的陣列，內容為32位元1到50之間的亂數整數\n",
    "P_2B = np.random.randint(1, 51, size = (4, 5), dtype = \"int32\")"
   ]
  },
  {
   "cell_type": "markdown",
   "metadata": {},
   "source": [
    "### a、 顯示陣列 A 和陣列 B"
   ]
  },
  {
   "cell_type": "code",
   "execution_count": 10,
   "metadata": {},
   "outputs": [
    {
     "name": "stdout",
     "output_type": "stream",
     "text": [
      "array A: \n",
      " [[44 27 16 10]\n",
      " [38 28 13  9]\n",
      " [36 36  6 11]] \n",
      "\n",
      " array B: \n",
      " [[10  1 16 38  8]\n",
      " [31 16 27 46  9]\n",
      " [47 35 17 40  4]\n",
      " [40  3 12 35 21]]\n"
     ]
    }
   ],
   "source": [
    "print(\"array A:\",\"\\n\",P_2A,\"\\n\"\"\\n\",\"array B:\",\"\\n\",P_2B) #顯示A和B陣列"
   ]
  },
  {
   "cell_type": "markdown",
   "metadata": {},
   "source": [
    "### b、 找出陣列 A 中每一列 ( row )的最大值。"
   ]
  },
  {
   "cell_type": "code",
   "execution_count": 11,
   "metadata": {},
   "outputs": [
    {
     "name": "stdout",
     "output_type": "stream",
     "text": [
      "[44 38 36]\n"
     ]
    }
   ],
   "source": [
    "print(np.max(P_2A, axis=1)) #印出陣列 A 中每一列 ( row )的最大值"
   ]
  },
  {
   "cell_type": "markdown",
   "metadata": {},
   "source": [
    "### c、 找出陣列 A 第二 列 ( row ) 中所有小於 30 的數值 。"
   ]
  },
  {
   "cell_type": "code",
   "execution_count": 12,
   "metadata": {},
   "outputs": [
    {
     "name": "stdout",
     "output_type": "stream",
     "text": [
      "[28 13  9]\n"
     ]
    }
   ],
   "source": [
    "print(P_2A[1][P_2A[1]<30]) #印出陣列 A 第二 列 ( row ) 中所有小於 30 的數值\n",
    "\n",
    "#print(np.where(P_2A[1]<30,P_2A[1],\"N/A\")) 用np.where也可，但缺點是不滿足條件的元素無法丟出array，需要用其他數字、字元字串來表示"
   ]
  },
  {
   "cell_type": "markdown",
   "metadata": {},
   "source": [
    "### d、 找出陣列 B 中每一行 或欄 ( column ) 的最大值。"
   ]
  },
  {
   "cell_type": "code",
   "execution_count": 13,
   "metadata": {},
   "outputs": [
    {
     "name": "stdout",
     "output_type": "stream",
     "text": [
      "[47 35 27 46 21]\n"
     ]
    }
   ],
   "source": [
    "print(np.max(P_2B, axis=0)) #印出陣列 B 中每一行 或欄 ( column ) 的最大值"
   ]
  },
  {
   "cell_type": "markdown",
   "metadata": {},
   "source": [
    "### e、 找出陣列 B 第二行 (column) 中所有小於 30 的數值。"
   ]
  },
  {
   "cell_type": "code",
   "execution_count": 14,
   "metadata": {},
   "outputs": [
    {
     "name": "stdout",
     "output_type": "stream",
     "text": [
      "[ 1 16  3]\n"
     ]
    }
   ],
   "source": [
    "print(P_2B[:,1][P_2B[:,1]<30]) #印出陣列 B 第二行 (column) 中所有小於 30 的數值\n",
    "\n",
    "#print(np.where(P_2B[:,1]<30,P_2B[:,1],\"N/A\")) 用np.where也可，但缺點是不滿足條件的元素無法丟出array，需要用其他數字、字元字串來表示"
   ]
  },
  {
   "cell_type": "markdown",
   "metadata": {},
   "source": [
    "### f、 顯示 陣列 A 中第一 列 ( row ) 和陣列 B 中第一列的聯集結果 。"
   ]
  },
  {
   "cell_type": "code",
   "execution_count": 15,
   "metadata": {},
   "outputs": [
    {
     "name": "stdout",
     "output_type": "stream",
     "text": [
      "[ 1  8 10 16 27 38 44]\n"
     ]
    }
   ],
   "source": [
    "print(np.union1d(P_2A[0], P_2B[0])) #印出陣列A中第一列和陣列B中第一列的聯集結果"
   ]
  },
  {
   "cell_type": "markdown",
   "metadata": {},
   "source": [
    "### g、 計算與輸出陣列 A 與陣列 B 相乘的結果 。"
   ]
  },
  {
   "cell_type": "code",
   "execution_count": 16,
   "metadata": {},
   "outputs": [
    {
     "name": "stdout",
     "output_type": "stream",
     "text": [
      "[[2429 1066 1825 3904  869]\n",
      " [2219  968 1693 3567  797]\n",
      " [2198  855 1782 3649  867]]\n"
     ]
    }
   ],
   "source": [
    "print(np.dot(P_2A, P_2B)) #印出陣列A與陣列B內積後的結果"
   ]
  },
  {
   "cell_type": "markdown",
   "metadata": {},
   "source": [
    "### h、 將兩個陣列扁平化後，輸出 陣列 A 交集 陣列 B 的集合運算結果。"
   ]
  },
  {
   "cell_type": "code",
   "execution_count": 17,
   "metadata": {},
   "outputs": [
    {
     "name": "stdout",
     "output_type": "stream",
     "text": [
      "[ 9 10 16 27 38]\n"
     ]
    }
   ],
   "source": [
    "print(np.intersect1d(np.ravel(P_2A), np.ravel(P_2B))) #先將陣列A,B扁平化後，印出它們的交集結果"
   ]
  },
  {
   "cell_type": "markdown",
   "metadata": {},
   "source": [
    "### i、 同上一題 ，輸出陣列 A 差集 陣列 B 的 集合運算 結果。"
   ]
  },
  {
   "cell_type": "code",
   "execution_count": 18,
   "metadata": {},
   "outputs": [
    {
     "name": "stdout",
     "output_type": "stream",
     "text": [
      "[ 6 11 13 28 36 44]\n"
     ]
    }
   ],
   "source": [
    "print(np.setdiff1d(np.ravel(P_2A), np.ravel(P_2B))) #先將陣列A,B扁平化後，印出它們的差集結果"
   ]
  },
  {
   "cell_type": "markdown",
   "metadata": {},
   "source": [
    "                              ↑↑↑                P1-2 Finish                 ↑↑↑"
   ]
  },
  {
   "cell_type": "markdown",
   "metadata": {},
   "source": [
    "## P1-3 以 NumPy 內建工具來產生一個 5 X 5 的陣列 A ，以及一個 5 X5 的陣列 B ，其\n",
    "## 中陣列 A 的元素為介於 1 到 50 之間由小到大的奇數，而陣列 B 的元素為介\n",
    "## 於 1 到 50 之間由小到大的偶數，每一個整數 元素的 大小為 32 位元。請完成\n",
    "## 以下的需求：\n",
    "## a、 顯示陣列 A 和陣列 B\n",
    "## b、 使用 np.concatenate() 方法，將陣列 A 與陣列 B 作垂直堆疊並顯示結果。\n",
    "## c、 使用 np.concatenate() 方法， 將陣列 A 與陣列 B 作水平堆 疊 並顯示結果 。\n",
    "## d、 陣列 A 和陣列 B 中的奇數列進行交換，並顯示交換後這兩個陣列的內容 。"
   ]
  },
  {
   "cell_type": "markdown",
   "metadata": {},
   "source": [
    "# ==========================================================="
   ]
  },
  {
   "cell_type": "code",
   "execution_count": 19,
   "metadata": {},
   "outputs": [],
   "source": [
    "P_3A = np.arange(1,50,2).reshape((5,5))  #宣告一個內容為1到50之間奇數的陣列\n",
    "P_3B = np.arange(2,51,2).reshape((5,5))   ##宣告一個內容為1到50之間偶數的陣列"
   ]
  },
  {
   "cell_type": "markdown",
   "metadata": {},
   "source": [
    "### a、 顯示陣列 A 和陣列 B"
   ]
  },
  {
   "cell_type": "code",
   "execution_count": 20,
   "metadata": {},
   "outputs": [
    {
     "name": "stdout",
     "output_type": "stream",
     "text": [
      "array A: \n",
      " [[ 1  3  5  7  9]\n",
      " [11 13 15 17 19]\n",
      " [21 23 25 27 29]\n",
      " [31 33 35 37 39]\n",
      " [41 43 45 47 49]] \n",
      "\n",
      " array B: \n",
      " [[ 2  4  6  8 10]\n",
      " [12 14 16 18 20]\n",
      " [22 24 26 28 30]\n",
      " [32 34 36 38 40]\n",
      " [42 44 46 48 50]]\n"
     ]
    }
   ],
   "source": [
    "print(\"array A:\",\"\\n\",P_3A,\"\\n\"\"\\n\",\"array B:\",\"\\n\",P_3B) #印出陣列A,B"
   ]
  },
  {
   "cell_type": "markdown",
   "metadata": {},
   "source": [
    "### b、 使用 np.concatenate() 方法，將陣列 A 與陣列 B 作垂直堆疊並顯示結果。"
   ]
  },
  {
   "cell_type": "code",
   "execution_count": 21,
   "metadata": {},
   "outputs": [
    {
     "name": "stdout",
     "output_type": "stream",
     "text": [
      "[[ 1  3  5  7  9]\n",
      " [11 13 15 17 19]\n",
      " [21 23 25 27 29]\n",
      " [31 33 35 37 39]\n",
      " [41 43 45 47 49]\n",
      " [ 2  4  6  8 10]\n",
      " [12 14 16 18 20]\n",
      " [22 24 26 28 30]\n",
      " [32 34 36 38 40]\n",
      " [42 44 46 48 50]]\n"
     ]
    }
   ],
   "source": [
    "print(np.concatenate((P_3A,P_3B), axis=0)) #利用np.concatenate()方法將陣列A,B，做垂直堆疊，並印出結果"
   ]
  },
  {
   "cell_type": "markdown",
   "metadata": {},
   "source": [
    " ### c、 使用 np.concatenate() 方法， 將陣列 A 與陣列 B 作水平堆 疊 並顯示結果 。"
   ]
  },
  {
   "cell_type": "code",
   "execution_count": 22,
   "metadata": {},
   "outputs": [
    {
     "name": "stdout",
     "output_type": "stream",
     "text": [
      "[[ 1  3  5  7  9  2  4  6  8 10]\n",
      " [11 13 15 17 19 12 14 16 18 20]\n",
      " [21 23 25 27 29 22 24 26 28 30]\n",
      " [31 33 35 37 39 32 34 36 38 40]\n",
      " [41 43 45 47 49 42 44 46 48 50]]\n"
     ]
    }
   ],
   "source": [
    "print(np.concatenate((P_3A,P_3B), axis=1)) #利用np.concatenate()方法將陣列A,B，做水平堆疊，並印出結果"
   ]
  },
  {
   "cell_type": "markdown",
   "metadata": {},
   "source": [
    "### d、 陣列 A 和陣列 B 中的奇數列進行交換，並顯示交換後這兩個陣列的內容 。"
   ]
  },
  {
   "cell_type": "code",
   "execution_count": 23,
   "metadata": {},
   "outputs": [
    {
     "name": "stdout",
     "output_type": "stream",
     "text": [
      "array A: \n",
      " [[ 2  4  6  8 10]\n",
      " [11 13 15 17 19]\n",
      " [22 24 26 28 30]\n",
      " [31 33 35 37 39]\n",
      " [42 44 46 48 50]] \n",
      "\n",
      " array B: \n",
      " [[ 1  3  5  7  9]\n",
      " [12 14 16 18 20]\n",
      " [21 23 25 27 29]\n",
      " [32 34 36 38 40]\n",
      " [41 43 45 47 49]]\n"
     ]
    }
   ],
   "source": [
    "P_3A[[0, 2, 4], :], P_3B[[0, 2, 4], :] = P_3B[[0, 2, 4], :], P_3A[[0, 2, 4], :]   #將P_3A與P_3B的奇數列對調\n",
    "print(\"array A:\",\"\\n\",P_3A,\"\\n\"\"\\n\",\"array B:\",\"\\n\",P_3B)               #印出兩個陣列的內容"
   ]
  },
  {
   "cell_type": "markdown",
   "metadata": {},
   "source": [
    "                        ↑↑↑                       P1-3 Finish                         ↑↑↑"
   ]
  }
 ],
 "metadata": {
  "kernelspec": {
   "display_name": "Python 3",
   "language": "python",
   "name": "python3"
  },
  "language_info": {
   "codemirror_mode": {
    "name": "ipython",
    "version": 3
   },
   "file_extension": ".py",
   "mimetype": "text/x-python",
   "name": "python",
   "nbconvert_exporter": "python",
   "pygments_lexer": "ipython3",
   "version": "3.8.5"
  }
 },
 "nbformat": 4,
 "nbformat_minor": 4
}
